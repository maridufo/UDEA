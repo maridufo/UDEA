{
  "nbformat": 4,
  "nbformat_minor": 0,
  "metadata": {
    "colab": {
      "provenance": [],
      "authorship_tag": "ABX9TyOCjAF7Qc0wEU7XCVIbyCLW",
      "include_colab_link": true
    },
    "kernelspec": {
      "name": "python3",
      "display_name": "Python 3"
    },
    "language_info": {
      "name": "python"
    }
  },
  "cells": [
    {
      "cell_type": "markdown",
      "metadata": {
        "id": "view-in-github",
        "colab_type": "text"
      },
      "source": [
        "<a href=\"https://colab.research.google.com/github/maridufo/UDEA/blob/main/clase_estat.ipynb\" target=\"_parent\"><img src=\"https://colab.research.google.com/assets/colab-badge.svg\" alt=\"Open In Colab\"/></a>"
      ]
    },
    {
      "cell_type": "code",
      "execution_count": null,
      "metadata": {
        "colab": {
          "base_uri": "https://localhost:8080/"
        },
        "id": "aEmYYKAwelxe",
        "outputId": "df934dea-4d8a-4bbd-d9ba-be181a90db29"
      },
      "outputs": [
        {
          "output_type": "execute_result",
          "data": {
            "text/plain": [
              "0.6481621045739516"
            ]
          },
          "metadata": {},
          "execution_count": 41
        }
      ],
      "source": [
        "from scipy.stats import binom\n",
        "from scipy.stats import uniform\n",
        "from scipy.stats import norm\n",
        "import numpy as np\n",
        "binom.cdf(3,15,0.2)"
      ]
    },
    {
      "cell_type": "code",
      "source": [
        "expo = np.exp(-(0.01*200))\n",
        "1-expo"
      ],
      "metadata": {
        "colab": {
          "base_uri": "https://localhost:8080/"
        },
        "id": "te22lgLse9JH",
        "outputId": "d3d5e0d1-abb3-45fe-af36-07f320f0d313"
      },
      "execution_count": null,
      "outputs": [
        {
          "output_type": "execute_result",
          "data": {
            "text/plain": [
              "0.8646647167633873"
            ]
          },
          "metadata": {},
          "execution_count": 4
        }
      ]
    },
    {
      "cell_type": "code",
      "source": [
        "# 1\n",
        "def prub(a, b):\n",
        "  x = 6\n",
        "  return((x - a)/(b -a))"
      ],
      "metadata": {
        "id": "mIm2h_s0o5nB"
      },
      "execution_count": null,
      "outputs": []
    },
    {
      "cell_type": "code",
      "source": [
        "r = prub(5,10)\n",
        "print(r)"
      ],
      "metadata": {
        "colab": {
          "base_uri": "https://localhost:8080/"
        },
        "id": "kwnFtFDK31J3",
        "outputId": "1c4600c3-1b69-4d7d-ec8e-ee9fe5bec5ba"
      },
      "execution_count": null,
      "outputs": [
        {
          "output_type": "stream",
          "name": "stdout",
          "text": [
            "0.2\n"
          ]
        }
      ]
    },
    {
      "cell_type": "code",
      "source": [
        "# probabilidad de x<6  # distribución uniforme\n",
        "def f():\n",
        "  return uniform.cdf(6,5,5)\n",
        "\n",
        "r = f()\n",
        "print(r)"
      ],
      "metadata": {
        "colab": {
          "base_uri": "https://localhost:8080/"
        },
        "id": "9HeBqPqg7DP6",
        "outputId": "0c859e59-ee79-4374-88d6-d3e1bca0354b"
      },
      "execution_count": null,
      "outputs": [
        {
          "output_type": "stream",
          "name": "stdout",
          "text": [
            "0.2\n"
          ]
        }
      ]
    },
    {
      "cell_type": "code",
      "source": [
        "#probabiidad de x mayor a 4 y menos o igual a 9 # distribusión uniforme\n",
        "def f():\n",
        "  return uniform.cdf(9,5,5) -uniform.cdf(4,5,5)\n",
        "\n",
        "r = f()\n",
        "print(r)"
      ],
      "metadata": {
        "colab": {
          "base_uri": "https://localhost:8080/"
        },
        "id": "SDRl04n_8Nt6",
        "outputId": "0ea2af59-58fd-4af6-d3a2-b8b10eb0d103"
      },
      "execution_count": null,
      "outputs": [
        {
          "output_type": "stream",
          "name": "stdout",
          "text": [
            "0.8\n"
          ]
        }
      ]
    },
    {
      "cell_type": "code",
      "source": [
        "# probabilidad de x mayor o igual a 8 y menos o igual a 9.5  # distribución uniforme\n",
        "def f():\n",
        "  return uniform.cdf(9.5,5,5) -uniform.cdf(8,5,5)\n",
        "\n",
        "r = f()\n",
        "print(r)"
      ],
      "metadata": {
        "colab": {
          "base_uri": "https://localhost:8080/"
        },
        "id": "PdU6ueZl85ZU",
        "outputId": "9d1fb09b-0258-4466-d2d4-ec6c161238fe"
      },
      "execution_count": null,
      "outputs": [
        {
          "output_type": "stream",
          "name": "stdout",
          "text": [
            "0.30000000000000004\n"
          ]
        }
      ]
    },
    {
      "cell_type": "markdown",
      "source": [],
      "metadata": {
        "id": "DFH0hbx_9pME"
      }
    },
    {
      "cell_type": "code",
      "source": [
        "# distribución binomial\n",
        "\n",
        "def my_binomial(n, p):\n",
        "  return binom. mean(n, p)\n",
        "print(my_binomial(25,0.25))"
      ],
      "metadata": {
        "colab": {
          "base_uri": "https://localhost:8080/"
        },
        "id": "FnSMvu6N9HbR",
        "outputId": "500001a5-63f3-47d1-c14f-822ac43c0b59"
      },
      "execution_count": null,
      "outputs": [
        {
          "output_type": "stream",
          "name": "stdout",
          "text": [
            "6.25\n"
          ]
        }
      ]
    },
    {
      "cell_type": "code",
      "source": [
        "# distribución binomial\n",
        "def my_binomial(n, p):\n",
        "  return binom.std(n, p)\n",
        "print(my_binomial(25,0.25))"
      ],
      "metadata": {
        "colab": {
          "base_uri": "https://localhost:8080/"
        },
        "id": "gR-xQbZE-UyB",
        "outputId": "8a5f6cd5-8fa8-4080-fc02-12cfaed2c42b"
      },
      "execution_count": null,
      "outputs": [
        {
          "output_type": "stream",
          "name": "stdout",
          "text": [
            "2.165063509461097\n"
          ]
        }
      ]
    },
    {
      "cell_type": "code",
      "source": [
        "# Distribución normal supiniendo a z cmo variable aleatoria\n",
        "\n",
        "def my_norm(z, n,p):\n",
        "  return norm.cdf(z, n, p)\n",
        "print(my_norm(1.32, 0, 1))"
      ],
      "metadata": {
        "colab": {
          "base_uri": "https://localhost:8080/"
        },
        "id": "4_-Gn9Pc-pyW",
        "outputId": "99e041e4-fbc0-4e1b-90e0-c42a472e6636"
      },
      "execution_count": null,
      "outputs": [
        {
          "output_type": "stream",
          "name": "stdout",
          "text": [
            "0.9065824910065282\n"
          ]
        }
      ]
    },
    {
      "cell_type": "code",
      "source": [
        "def my_norm(z, n,p):\n",
        "  return norm.cdf(z, n, p)\n",
        "print(my_norm(3, 0, 1))"
      ],
      "metadata": {
        "colab": {
          "base_uri": "https://localhost:8080/"
        },
        "id": "t64YMvuYAZ_m",
        "outputId": "f27b2254-f4cf-42e9-8d26-1165b6ae7f97"
      },
      "execution_count": null,
      "outputs": [
        {
          "output_type": "stream",
          "name": "stdout",
          "text": [
            "0.9986501019683699\n"
          ]
        }
      ]
    },
    {
      "cell_type": "code",
      "source": [
        "def my_norm(z, n,p):\n",
        "  return norm.cdf(z, n, p)\n",
        "print(my_norm(-1.45, 0, 1))"
      ],
      "metadata": {
        "colab": {
          "base_uri": "https://localhost:8080/"
        },
        "id": "cPQcfzIoBBca",
        "outputId": "bde9cb54-6f4b-4172-a977-9ccac2c4b9ee"
      },
      "execution_count": null,
      "outputs": [
        {
          "output_type": "stream",
          "name": "stdout",
          "text": [
            "0.07352925960964836\n"
          ]
        }
      ]
    },
    {
      "cell_type": "code",
      "source": [
        "# sino se coloca el 0 y el 1 el asuma que es 0 y 1, es para z mayor a 1.45, uso la propiedad de la norma donde la de la menor es igual a mayor\n",
        "norm.cdf(-1.45,0,1)"
      ],
      "metadata": {
        "colab": {
          "base_uri": "https://localhost:8080/"
        },
        "id": "pat7NE53BZov",
        "outputId": "9480e288-510f-466c-c821-1c381ed51b39"
      },
      "execution_count": null,
      "outputs": [
        {
          "output_type": "execute_result",
          "data": {
            "text/plain": [
              "0.07352925960964836"
            ]
          },
          "metadata": {},
          "execution_count": 47
        }
      ]
    },
    {
      "cell_type": "code",
      "source": [
        "norm.cdf(2.15)"
      ],
      "metadata": {
        "colab": {
          "base_uri": "https://localhost:8080/"
        },
        "id": "TVseq_fgBhqf",
        "outputId": "df76c8e9-7812-4e25-8b21-99033ed67a30"
      },
      "execution_count": null,
      "outputs": [
        {
          "output_type": "execute_result",
          "data": {
            "text/plain": [
              "0.9842223926089095"
            ]
          },
          "metadata": {},
          "execution_count": 49
        }
      ]
    },
    {
      "cell_type": "code",
      "source": [
        "norm.cdf(2.34)-norm.cdf(1.76)"
      ],
      "metadata": {
        "colab": {
          "base_uri": "https://localhost:8080/"
        },
        "id": "WFrl_G37B8kP",
        "outputId": "9d5b0fa5-88d8-4d99-92e7-afc179b008bc"
      },
      "execution_count": null,
      "outputs": [
        {
          "output_type": "execute_result",
          "data": {
            "text/plain": [
              "0.029562033342124372"
            ]
          },
          "metadata": {},
          "execution_count": 54
        }
      ]
    },
    {
      "cell_type": "code",
      "source": [
        "# suponga quela probabilidad a la altura media de los arboles sigue una distribució normal de  x n (8.8(2,8))**2 es decir Media 0\n",
        "#8.8 y sigma = 2.8\n",
        "\n",
        "1 - norm.cdf(10, 8.8, 2.8)"
      ],
      "metadata": {
        "colab": {
          "base_uri": "https://localhost:8080/"
        },
        "id": "TDlAneuOCSCe",
        "outputId": "4f0fcd54-0c00-4cff-baa6-f951c46259ec"
      },
      "execution_count": null,
      "outputs": [
        {
          "output_type": "execute_result",
          "data": {
            "text/plain": [
              "0.4391749969370109"
            ]
          },
          "metadata": {},
          "execution_count": 66
        }
      ]
    },
    {
      "cell_type": "code",
      "source": [
        "\n",
        "1 - norm.cdf(20, 8.8, 2.8)"
      ],
      "metadata": {
        "colab": {
          "base_uri": "https://localhost:8080/"
        },
        "id": "l-i7rZ_zD7k3",
        "outputId": "d8bcc2d8-5065-483c-da12-54d4f5b4280d"
      },
      "execution_count": null,
      "outputs": [
        {
          "output_type": "execute_result",
          "data": {
            "text/plain": [
              "3.167124183311998e-05"
            ]
          },
          "metadata": {},
          "execution_count": 70
        }
      ]
    },
    {
      "cell_type": "code",
      "source": [
        "norm.cdf(10, 8.8, (2.8))-norm.cdf(5, 8.8, (2.8))"
      ],
      "metadata": {
        "colab": {
          "base_uri": "https://localhost:8080/"
        },
        "id": "AePS5SgoEPiG",
        "outputId": "6dd8fa9e-1abc-488c-9afd-ab350b03d9ac"
      },
      "execution_count": null,
      "outputs": [
        {
          "output_type": "execute_result",
          "data": {
            "text/plain": [
              "0.5785145174947517"
            ]
          },
          "metadata": {},
          "execution_count": 73
        }
      ]
    },
    {
      "cell_type": "code",
      "source": [
        "#probabilidad de que al seleccionar  4 arboles al azar, cual es la probabilidad de que al menos 1 tenga un diametro d 10 pulgadas\n",
        "#  y = # dde arboles que cumplen la condición\n",
        "# bin: n = 4, p\n",
        "# p> 10\n",
        "# p = 1- norm.cdf(10,8.8,2.8)"
      ],
      "metadata": {
        "id": "2gLmOv8FFpdO"
      },
      "execution_count": null,
      "outputs": []
    },
    {
      "cell_type": "code",
      "source": [
        "#norm.ppf(prbabilidad, 0, 1) para encontrar los percentiles\n",
        "#cual e sla altura del arbol que esta por encima del 70% de los demasn arboles\n",
        "\n",
        "norm.ppf(0.7,8.8,2.8)"
      ],
      "metadata": {
        "colab": {
          "base_uri": "https://localhost:8080/"
        },
        "id": "KpPgo3oNKaI2",
        "outputId": "7e989e29-f72b-4dae-8065-e8d00dc60493"
      },
      "execution_count": null,
      "outputs": [
        {
          "output_type": "execute_result",
          "data": {
            "text/plain": [
              "10.268321435582514"
            ]
          },
          "metadata": {},
          "execution_count": 80
        }
      ]
    },
    {
      "cell_type": "code",
      "source": [
        "from scipy.stats import chi2_contingency\n",
        "from scipy.stats import chi2_contingency"
      ],
      "metadata": {
        "id": "LaaS3jZNki64"
      },
      "execution_count": null,
      "outputs": []
    },
    {
      "cell_type": "code",
      "source": [],
      "metadata": {
        "id": "gJISxbcwLJy0"
      },
      "execution_count": null,
      "outputs": []
    }
  ]
}