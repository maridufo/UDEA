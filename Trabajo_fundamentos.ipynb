{
  "cells": [
    {
      "cell_type": "markdown",
      "metadata": {
        "id": "view-in-github",
        "colab_type": "text"
      },
      "source": [
        "<a href=\"https://colab.research.google.com/github/maridufo/UDEA/blob/main/Trabajo_fundamentos.ipynb\" target=\"_parent\"><img src=\"https://colab.research.google.com/assets/colab-badge.svg\" alt=\"Open In Colab\"/></a>"
      ]
    },
    {
      "cell_type": "markdown",
      "source": [
        "### **Integrantes**:  \n",
        "Maria Camila Duarte Foronda  \n",
        "Stiven Cadavid Cataño  \n",
        "Yohiner Andrés Borja Góez"
      ],
      "metadata": {
        "id": "qYgbPRFqe3zK"
      }
    },
    {
      "cell_type": "markdown",
      "source": [
        "**Importar librerías**"
      ],
      "metadata": {
        "id": "CTj8w-uULPph"
      }
    },
    {
      "cell_type": "code",
      "execution_count": 2,
      "metadata": {
        "colab": {
          "base_uri": "https://localhost:8080/",
          "height": 1000
        },
        "id": "u6Nd-2VzwIxs",
        "outputId": "b4a2d2a9-21a8-41dc-baa0-967d0e39f355"
      },
      "outputs": [
        {
          "output_type": "stream",
          "name": "stdout",
          "text": [
            "Requirement already satisfied: matplotlib in /usr/local/lib/python3.10/dist-packages (3.7.1)\n",
            "Collecting matplotlib\n",
            "  Downloading matplotlib-3.8.3-cp310-cp310-manylinux_2_17_x86_64.manylinux2014_x86_64.whl (11.6 MB)\n",
            "\u001b[2K     \u001b[90m━━━━━━━━━━━━━━━━━━━━━━━━━━━━━━━━━━━━━━━━\u001b[0m \u001b[32m11.6/11.6 MB\u001b[0m \u001b[31m18.7 MB/s\u001b[0m eta \u001b[36m0:00:00\u001b[0m\n",
            "\u001b[?25hRequirement already satisfied: contourpy>=1.0.1 in /usr/local/lib/python3.10/dist-packages (from matplotlib) (1.2.0)\n",
            "Requirement already satisfied: cycler>=0.10 in /usr/local/lib/python3.10/dist-packages (from matplotlib) (0.12.1)\n",
            "Requirement already satisfied: fonttools>=4.22.0 in /usr/local/lib/python3.10/dist-packages (from matplotlib) (4.49.0)\n",
            "Requirement already satisfied: kiwisolver>=1.3.1 in /usr/local/lib/python3.10/dist-packages (from matplotlib) (1.4.5)\n",
            "Requirement already satisfied: numpy<2,>=1.21 in /usr/local/lib/python3.10/dist-packages (from matplotlib) (1.25.2)\n",
            "Requirement already satisfied: packaging>=20.0 in /usr/local/lib/python3.10/dist-packages (from matplotlib) (23.2)\n",
            "Requirement already satisfied: pillow>=8 in /usr/local/lib/python3.10/dist-packages (from matplotlib) (9.4.0)\n",
            "Requirement already satisfied: pyparsing>=2.3.1 in /usr/local/lib/python3.10/dist-packages (from matplotlib) (3.1.1)\n",
            "Requirement already satisfied: python-dateutil>=2.7 in /usr/local/lib/python3.10/dist-packages (from matplotlib) (2.8.2)\n",
            "Requirement already satisfied: six>=1.5 in /usr/local/lib/python3.10/dist-packages (from python-dateutil>=2.7->matplotlib) (1.16.0)\n",
            "Installing collected packages: matplotlib\n",
            "  Attempting uninstall: matplotlib\n",
            "    Found existing installation: matplotlib 3.7.1\n",
            "    Uninstalling matplotlib-3.7.1:\n",
            "      Successfully uninstalled matplotlib-3.7.1\n",
            "Successfully installed matplotlib-3.8.3\n"
          ]
        },
        {
          "output_type": "display_data",
          "data": {
            "application/vnd.colab-display-data+json": {
              "pip_warning": {
                "packages": [
                  "matplotlib",
                  "mpl_toolkits"
                ]
              }
            }
          },
          "metadata": {}
        },
        {
          "output_type": "stream",
          "name": "stdout",
          "text": [
            "Collecting pingouin\n",
            "  Downloading pingouin-0.5.4-py2.py3-none-any.whl (198 kB)\n",
            "\u001b[?25l     \u001b[90m━━━━━━━━━━━━━━━━━━━━━━━━━━━━━━━━━━━━━━━━\u001b[0m \u001b[32m0.0/198.9 kB\u001b[0m \u001b[31m?\u001b[0m eta \u001b[36m-:--:--\u001b[0m\r\u001b[2K     \u001b[91m━━━━━━━━━━━━━━━━━━━━━━━━━━━━\u001b[0m\u001b[91m╸\u001b[0m\u001b[90m━━━━━━━━━━━\u001b[0m \u001b[32m143.4/198.9 kB\u001b[0m \u001b[31m4.1 MB/s\u001b[0m eta \u001b[36m0:00:01\u001b[0m\r\u001b[2K     \u001b[90m━━━━━━━━━━━━━━━━━━━━━━━━━━━━━━━━━━━━━━━━\u001b[0m \u001b[32m198.9/198.9 kB\u001b[0m \u001b[31m4.3 MB/s\u001b[0m eta \u001b[36m0:00:00\u001b[0m\n",
            "\u001b[?25hRequirement already satisfied: numpy in /usr/local/lib/python3.10/dist-packages (from pingouin) (1.25.2)\n",
            "Requirement already satisfied: scipy in /usr/local/lib/python3.10/dist-packages (from pingouin) (1.11.4)\n",
            "Requirement already satisfied: pandas>=1.5 in /usr/local/lib/python3.10/dist-packages (from pingouin) (1.5.3)\n",
            "Requirement already satisfied: matplotlib in /usr/local/lib/python3.10/dist-packages (from pingouin) (3.8.3)\n",
            "Requirement already satisfied: seaborn in /usr/local/lib/python3.10/dist-packages (from pingouin) (0.13.1)\n",
            "Requirement already satisfied: statsmodels in /usr/local/lib/python3.10/dist-packages (from pingouin) (0.14.1)\n",
            "Requirement already satisfied: scikit-learn in /usr/local/lib/python3.10/dist-packages (from pingouin) (1.2.2)\n",
            "Collecting pandas-flavor (from pingouin)\n",
            "  Downloading pandas_flavor-0.6.0-py3-none-any.whl (7.2 kB)\n",
            "Requirement already satisfied: tabulate in /usr/local/lib/python3.10/dist-packages (from pingouin) (0.9.0)\n",
            "Requirement already satisfied: python-dateutil>=2.8.1 in /usr/local/lib/python3.10/dist-packages (from pandas>=1.5->pingouin) (2.8.2)\n",
            "Requirement already satisfied: pytz>=2020.1 in /usr/local/lib/python3.10/dist-packages (from pandas>=1.5->pingouin) (2023.4)\n",
            "Requirement already satisfied: contourpy>=1.0.1 in /usr/local/lib/python3.10/dist-packages (from matplotlib->pingouin) (1.2.0)\n",
            "Requirement already satisfied: cycler>=0.10 in /usr/local/lib/python3.10/dist-packages (from matplotlib->pingouin) (0.12.1)\n",
            "Requirement already satisfied: fonttools>=4.22.0 in /usr/local/lib/python3.10/dist-packages (from matplotlib->pingouin) (4.49.0)\n",
            "Requirement already satisfied: kiwisolver>=1.3.1 in /usr/local/lib/python3.10/dist-packages (from matplotlib->pingouin) (1.4.5)\n",
            "Requirement already satisfied: packaging>=20.0 in /usr/local/lib/python3.10/dist-packages (from matplotlib->pingouin) (23.2)\n",
            "Requirement already satisfied: pillow>=8 in /usr/local/lib/python3.10/dist-packages (from matplotlib->pingouin) (9.4.0)\n",
            "Requirement already satisfied: pyparsing>=2.3.1 in /usr/local/lib/python3.10/dist-packages (from matplotlib->pingouin) (3.1.1)\n",
            "Requirement already satisfied: xarray in /usr/local/lib/python3.10/dist-packages (from pandas-flavor->pingouin) (2023.7.0)\n",
            "Requirement already satisfied: joblib>=1.1.1 in /usr/local/lib/python3.10/dist-packages (from scikit-learn->pingouin) (1.3.2)\n",
            "Requirement already satisfied: threadpoolctl>=2.0.0 in /usr/local/lib/python3.10/dist-packages (from scikit-learn->pingouin) (3.3.0)\n",
            "Requirement already satisfied: patsy>=0.5.4 in /usr/local/lib/python3.10/dist-packages (from statsmodels->pingouin) (0.5.6)\n",
            "Requirement already satisfied: six in /usr/local/lib/python3.10/dist-packages (from patsy>=0.5.4->statsmodels->pingouin) (1.16.0)\n",
            "Installing collected packages: pandas-flavor, pingouin\n",
            "Successfully installed pandas-flavor-0.6.0 pingouin-0.5.4\n",
            "Requirement already satisfied: plotly in /usr/local/lib/python3.10/dist-packages (5.15.0)\n",
            "Requirement already satisfied: tenacity>=6.2.0 in /usr/local/lib/python3.10/dist-packages (from plotly) (8.2.3)\n",
            "Requirement already satisfied: packaging in /usr/local/lib/python3.10/dist-packages (from plotly) (23.2)\n"
          ]
        }
      ],
      "source": [
        "!pip install --upgrade matplotlib\n",
        "!pip install pingouin\n",
        "!pip install plotly"
      ]
    },
    {
      "cell_type": "markdown",
      "metadata": {
        "id": "mM9LBtnkfYGN"
      },
      "source": [
        "#### **Heart Diseases**####\n",
        "\n",
        "\n",
        "**Contenido**\n",
        "\n",
        "Objetivos:\n",
        "* a. Realizar analisis exploratorio de datos\n",
        "* b. Realizar limpieza y transformación de datos requeridos\n",
        "* c. Identificar las variables más relacionadas con la variable objetivo\n",
        "* d. Relacionar variables dadas las distribuciones y usando diferencias de medias, apoyandonos en plots.\n",
        "* e.Realizar ejercicios de correlación, explicar muy detalladamente como es el calculo y cuales son los supuestos debajo del test de correlación de pearson.\n",
        "* d. Realizar tablas de contigencia con medias, maximos. Aprovechando las varaibles categoricas."
      ]
    },
    {
      "cell_type": "markdown",
      "metadata": {
        "id": "iEVlQGE5wIxx"
      },
      "source": [
        "### **Base de datos: enfermedad cardíaca en pacientes** ###\n",
        "El repositorio utilizado contiene 4 bases de datos relacionadas con el diagnóstico de enfermedades cardíacas. Todos los atributos tienen valores numéricos. Los datos fueron recopilados de los siguientes lugares:\n",
        "\n",
        "   1. Instituto de Cardiología de Hungría. Budapest: Andras Janosi, M.D.\n",
        "   2. Hospital Universitario, Zurich, Suiza: William Steinbrunn, M.D.\n",
        "   3. Hospital Universitario, Basilea, Suiza: Matthias Pfisterer, M.D.\n",
        "   4. Centro Médico de la V.A., Long Beach, y Fundación Cleveland Clinic:\n",
        "\n",
        "Cada base de datos tiene el mismo formato de instancia. Mientras que las bases de datos tienen 76 atributos brutos, solo se utilizan 14 de ellos.\n",
        "\n",
        "Para este ejercicio sólo se utilizará la información de la base de datos    4. Centro Médico de la V.A., Long Beach, y Fundación Cleveland Clinic, el cual contiene 303 instancias.\n",
        "\n",
        "En particular, la base de datos de Cleveland es la única que ha sido utilizada por investigadores de aprendizaje automático hasta la fecha. El campo \"target\" se refiere a la presencia de enfermedad cardíaca en el paciente. Tiene un valor entero de 0 (sin presencia) a 4. Los experimentos con la base de datos de Cleveland se han concentrado en simplemente intentar distinguir la presencia (valores 1,2,3,4) de la ausencia (valor 0).\n",
        "\n",
        "Los nombres y números de seguro social de los pacientes fueron eliminados recientemente de la base de datos, reemplazados con valores ficticios."
      ]
    },
    {
      "cell_type": "markdown",
      "metadata": {
        "id": "YpOBL78JwIxy"
      },
      "source": [
        "## Descripción y definición de las variables ##"
      ]
    },
    {
      "cell_type": "markdown",
      "metadata": {
        "id": "3KSR9te4wIxy"
      },
      "source": [
        "1) age: Edad del paciente.\n",
        "2) sex: Género del paciente (1 = masculino, 0 = femenino).\n",
        "3) cp: Tipo de dolor en el pecho (1 = angina típica, 2 = angina atípica, 3 = dolor no anginoso, 4 = asintomático).\n",
        "4) trestbps: Presión arterial en reposo (en mm Hg).\n",
        "5) chol: Colesterol sérico (mg/dl).\n",
        "6) fbs: Nivel de azúcar en sangre en ayunas (1 = superior a 120 mg/dl, 0 = de lo contrario).\n",
        "7) restecg: Resultados del electrocardiograma en reposo (0 = normal, 1 = con anormalidades de la onda ST-T, 2 = con hipertrofia ventricular izquierda probable o definitiva según los criterios de Estes).\n",
        "8) thalach: Frecuencia cardíaca máxima alcanzada.\n",
        "9) exang: Angina inducida por ejercicio (1 = sí, 0 = no).\n",
        "10) oldpeak: Depresión del ST inducida por el ejercicio en relación con el descanso.\n",
        "11) slope: Pendiente del segmento ST pico del ejercicio (1 = pendiente ascendente, 2 = plano, 3 = pendiente descendente).\n",
        "12) ca: Número de vasos principales coloreados por fluoroscopia (0-3).\n",
        "13) thal: Tipo de thalasemia (3 = normal; 6 = defecto fijo; 7 = defecto reversible).\n",
        "14) target: Presencia de enfermedad cardíaca (0 = no, 1 = sí).\n",
        "El objetivo general de utilizar este conjunto de datos es desarrollar modelos predictivos que puedan ayudar a prever la probabilidad de que un paciente tenga o no enfermedad cardíaca en función de estas características clínicas."
      ]
    },
    {
      "cell_type": "markdown",
      "metadata": {
        "id": "bcy9_Pp3kaTv"
      },
      "source": [
        "### Importar librerias"
      ]
    },
    {
      "cell_type": "code",
      "execution_count": 3,
      "metadata": {
        "id": "KRDOOLyKkqRq"
      },
      "outputs": [],
      "source": [
        "import pandas as pd\n",
        "import numpy as np\n",
        "import matplotlib.pyplot as plt\n",
        "import seaborn as sns\n",
        "import pingouin as pg\n",
        "import plotly.express as px"
      ]
    },
    {
      "cell_type": "markdown",
      "metadata": {
        "id": "2TNqKgCCe0uh"
      },
      "source": [
        "Inicio análisis exploratorio con el objetivo de hallar las relaciones entre variables que ayuden a explicar la presencia de enfermedad cardiaca en los pacientes\n"
      ]
    },
    {
      "cell_type": "markdown",
      "metadata": {
        "id": "fGuAuhiwyeqF"
      },
      "source": [
        "### Lectura y consolidación de datos ###"
      ]
    },
    {
      "cell_type": "code",
      "execution_count": 6,
      "metadata": {
        "id": "stnZOttbxUSA",
        "colab": {
          "base_uri": "https://localhost:8080/"
        },
        "outputId": "66dbf712-1178-408c-95e7-502b5c45bbf5"
      },
      "outputs": [
        {
          "output_type": "stream",
          "name": "stdout",
          "text": [
            "<class 'pandas.core.frame.DataFrame'>\n",
            "RangeIndex: 303 entries, 0 to 302\n",
            "Data columns (total 14 columns):\n",
            " #   Column    Non-Null Count  Dtype  \n",
            "---  ------    --------------  -----  \n",
            " 0   age       303 non-null    int64  \n",
            " 1   sex       303 non-null    int64  \n",
            " 2   cp        303 non-null    int64  \n",
            " 3   trestbps  303 non-null    int64  \n",
            " 4   chol      303 non-null    int64  \n",
            " 5   fbs       303 non-null    int64  \n",
            " 6   restecg   303 non-null    int64  \n",
            " 7   thalach   303 non-null    int64  \n",
            " 8   exang     303 non-null    int64  \n",
            " 9   oldpeak   303 non-null    float64\n",
            " 10  slope     303 non-null    int64  \n",
            " 11  ca        299 non-null    float64\n",
            " 12  thal      301 non-null    float64\n",
            " 13  num       303 non-null    int64  \n",
            "dtypes: float64(3), int64(11)\n",
            "memory usage: 33.3 KB\n"
          ]
        }
      ],
      "source": [
        "column_names = ['age', 'sex', 'cp', 'trestbps', 'chol', 'fbs', 'restecg', 'thalach', 'exang', 'oldpeak', 'slope', 'ca', 'thal', 'target']\n",
        "df = pd.read_csv(\"https://archive.ics.uci.edu/static/public/45/data.csv\")\n",
        "df.info()"
      ]
    },
    {
      "cell_type": "markdown",
      "source": [
        "La base de datos contiene 303 filas (pacientes) con información de 14 variables, de las cuales 2 de ellas poseen valores faltantes (ca y thal). Así mismo, la variable objetivo (num) viene identificada con un nombre que requiere un ajuste para mejor comprensión, por lo cual se identificará como 'target'. Si bien todos los tipos de las variables son numéricas, se debe tener presente que algunas de ellas provienen de variables categóricas nominales."
      ],
      "metadata": {
        "id": "Lq2dq5GISJx_"
      }
    },
    {
      "cell_type": "markdown",
      "metadata": {
        "id": "uzZbL2HLwIx1"
      },
      "source": [
        "### Análisis de  la calidad de los datos ###"
      ]
    },
    {
      "cell_type": "markdown",
      "metadata": {
        "id": "6lZhtehjwIx1"
      },
      "source": [
        "###**1. Organizar datos:**"
      ]
    },
    {
      "cell_type": "code",
      "execution_count": 7,
      "metadata": {
        "id": "9L1d5NRQwIx1",
        "colab": {
          "base_uri": "https://localhost:8080/",
          "height": 206
        },
        "outputId": "a3156055-5b30-4256-ddff-357478a047c2"
      },
      "outputs": [
        {
          "output_type": "execute_result",
          "data": {
            "text/plain": [
              "   age  sex  cp  trestbps  chol  fbs  restecg  thalach  exang  oldpeak  slope  \\\n",
              "0   63    1   1       145   233    1        2      150      0      2.3      3   \n",
              "1   67    1   4       160   286    0        2      108      1      1.5      2   \n",
              "2   67    1   4       120   229    0        2      129      1      2.6      2   \n",
              "3   37    1   3       130   250    0        0      187      0      3.5      3   \n",
              "4   41    0   2       130   204    0        2      172      0      1.4      1   \n",
              "\n",
              "    ca  thal  target  \n",
              "0  0.0   6.0       0  \n",
              "1  3.0   3.0       1  \n",
              "2  2.0   7.0       1  \n",
              "3  0.0   3.0       0  \n",
              "4  0.0   3.0       0  "
            ],
            "text/html": [
              "\n",
              "  <div id=\"df-4950acb4-0ce9-4437-ab68-e3b550313905\" class=\"colab-df-container\">\n",
              "    <div>\n",
              "<style scoped>\n",
              "    .dataframe tbody tr th:only-of-type {\n",
              "        vertical-align: middle;\n",
              "    }\n",
              "\n",
              "    .dataframe tbody tr th {\n",
              "        vertical-align: top;\n",
              "    }\n",
              "\n",
              "    .dataframe thead th {\n",
              "        text-align: right;\n",
              "    }\n",
              "</style>\n",
              "<table border=\"1\" class=\"dataframe\">\n",
              "  <thead>\n",
              "    <tr style=\"text-align: right;\">\n",
              "      <th></th>\n",
              "      <th>age</th>\n",
              "      <th>sex</th>\n",
              "      <th>cp</th>\n",
              "      <th>trestbps</th>\n",
              "      <th>chol</th>\n",
              "      <th>fbs</th>\n",
              "      <th>restecg</th>\n",
              "      <th>thalach</th>\n",
              "      <th>exang</th>\n",
              "      <th>oldpeak</th>\n",
              "      <th>slope</th>\n",
              "      <th>ca</th>\n",
              "      <th>thal</th>\n",
              "      <th>target</th>\n",
              "    </tr>\n",
              "  </thead>\n",
              "  <tbody>\n",
              "    <tr>\n",
              "      <th>0</th>\n",
              "      <td>63</td>\n",
              "      <td>1</td>\n",
              "      <td>1</td>\n",
              "      <td>145</td>\n",
              "      <td>233</td>\n",
              "      <td>1</td>\n",
              "      <td>2</td>\n",
              "      <td>150</td>\n",
              "      <td>0</td>\n",
              "      <td>2.3</td>\n",
              "      <td>3</td>\n",
              "      <td>0.0</td>\n",
              "      <td>6.0</td>\n",
              "      <td>0</td>\n",
              "    </tr>\n",
              "    <tr>\n",
              "      <th>1</th>\n",
              "      <td>67</td>\n",
              "      <td>1</td>\n",
              "      <td>4</td>\n",
              "      <td>160</td>\n",
              "      <td>286</td>\n",
              "      <td>0</td>\n",
              "      <td>2</td>\n",
              "      <td>108</td>\n",
              "      <td>1</td>\n",
              "      <td>1.5</td>\n",
              "      <td>2</td>\n",
              "      <td>3.0</td>\n",
              "      <td>3.0</td>\n",
              "      <td>1</td>\n",
              "    </tr>\n",
              "    <tr>\n",
              "      <th>2</th>\n",
              "      <td>67</td>\n",
              "      <td>1</td>\n",
              "      <td>4</td>\n",
              "      <td>120</td>\n",
              "      <td>229</td>\n",
              "      <td>0</td>\n",
              "      <td>2</td>\n",
              "      <td>129</td>\n",
              "      <td>1</td>\n",
              "      <td>2.6</td>\n",
              "      <td>2</td>\n",
              "      <td>2.0</td>\n",
              "      <td>7.0</td>\n",
              "      <td>1</td>\n",
              "    </tr>\n",
              "    <tr>\n",
              "      <th>3</th>\n",
              "      <td>37</td>\n",
              "      <td>1</td>\n",
              "      <td>3</td>\n",
              "      <td>130</td>\n",
              "      <td>250</td>\n",
              "      <td>0</td>\n",
              "      <td>0</td>\n",
              "      <td>187</td>\n",
              "      <td>0</td>\n",
              "      <td>3.5</td>\n",
              "      <td>3</td>\n",
              "      <td>0.0</td>\n",
              "      <td>3.0</td>\n",
              "      <td>0</td>\n",
              "    </tr>\n",
              "    <tr>\n",
              "      <th>4</th>\n",
              "      <td>41</td>\n",
              "      <td>0</td>\n",
              "      <td>2</td>\n",
              "      <td>130</td>\n",
              "      <td>204</td>\n",
              "      <td>0</td>\n",
              "      <td>2</td>\n",
              "      <td>172</td>\n",
              "      <td>0</td>\n",
              "      <td>1.4</td>\n",
              "      <td>1</td>\n",
              "      <td>0.0</td>\n",
              "      <td>3.0</td>\n",
              "      <td>0</td>\n",
              "    </tr>\n",
              "  </tbody>\n",
              "</table>\n",
              "</div>\n",
              "    <div class=\"colab-df-buttons\">\n",
              "\n",
              "  <div class=\"colab-df-container\">\n",
              "    <button class=\"colab-df-convert\" onclick=\"convertToInteractive('df-4950acb4-0ce9-4437-ab68-e3b550313905')\"\n",
              "            title=\"Convert this dataframe to an interactive table.\"\n",
              "            style=\"display:none;\">\n",
              "\n",
              "  <svg xmlns=\"http://www.w3.org/2000/svg\" height=\"24px\" viewBox=\"0 -960 960 960\">\n",
              "    <path d=\"M120-120v-720h720v720H120Zm60-500h600v-160H180v160Zm220 220h160v-160H400v160Zm0 220h160v-160H400v160ZM180-400h160v-160H180v160Zm440 0h160v-160H620v160ZM180-180h160v-160H180v160Zm440 0h160v-160H620v160Z\"/>\n",
              "  </svg>\n",
              "    </button>\n",
              "\n",
              "  <style>\n",
              "    .colab-df-container {\n",
              "      display:flex;\n",
              "      gap: 12px;\n",
              "    }\n",
              "\n",
              "    .colab-df-convert {\n",
              "      background-color: #E8F0FE;\n",
              "      border: none;\n",
              "      border-radius: 50%;\n",
              "      cursor: pointer;\n",
              "      display: none;\n",
              "      fill: #1967D2;\n",
              "      height: 32px;\n",
              "      padding: 0 0 0 0;\n",
              "      width: 32px;\n",
              "    }\n",
              "\n",
              "    .colab-df-convert:hover {\n",
              "      background-color: #E2EBFA;\n",
              "      box-shadow: 0px 1px 2px rgba(60, 64, 67, 0.3), 0px 1px 3px 1px rgba(60, 64, 67, 0.15);\n",
              "      fill: #174EA6;\n",
              "    }\n",
              "\n",
              "    .colab-df-buttons div {\n",
              "      margin-bottom: 4px;\n",
              "    }\n",
              "\n",
              "    [theme=dark] .colab-df-convert {\n",
              "      background-color: #3B4455;\n",
              "      fill: #D2E3FC;\n",
              "    }\n",
              "\n",
              "    [theme=dark] .colab-df-convert:hover {\n",
              "      background-color: #434B5C;\n",
              "      box-shadow: 0px 1px 3px 1px rgba(0, 0, 0, 0.15);\n",
              "      filter: drop-shadow(0px 1px 2px rgba(0, 0, 0, 0.3));\n",
              "      fill: #FFFFFF;\n",
              "    }\n",
              "  </style>\n",
              "\n",
              "    <script>\n",
              "      const buttonEl =\n",
              "        document.querySelector('#df-4950acb4-0ce9-4437-ab68-e3b550313905 button.colab-df-convert');\n",
              "      buttonEl.style.display =\n",
              "        google.colab.kernel.accessAllowed ? 'block' : 'none';\n",
              "\n",
              "      async function convertToInteractive(key) {\n",
              "        const element = document.querySelector('#df-4950acb4-0ce9-4437-ab68-e3b550313905');\n",
              "        const dataTable =\n",
              "          await google.colab.kernel.invokeFunction('convertToInteractive',\n",
              "                                                    [key], {});\n",
              "        if (!dataTable) return;\n",
              "\n",
              "        const docLinkHtml = 'Like what you see? Visit the ' +\n",
              "          '<a target=\"_blank\" href=https://colab.research.google.com/notebooks/data_table.ipynb>data table notebook</a>'\n",
              "          + ' to learn more about interactive tables.';\n",
              "        element.innerHTML = '';\n",
              "        dataTable['output_type'] = 'display_data';\n",
              "        await google.colab.output.renderOutput(dataTable, element);\n",
              "        const docLink = document.createElement('div');\n",
              "        docLink.innerHTML = docLinkHtml;\n",
              "        element.appendChild(docLink);\n",
              "      }\n",
              "    </script>\n",
              "  </div>\n",
              "\n",
              "\n",
              "<div id=\"df-f063383d-5de0-4443-8803-ae62e7d053f9\">\n",
              "  <button class=\"colab-df-quickchart\" onclick=\"quickchart('df-f063383d-5de0-4443-8803-ae62e7d053f9')\"\n",
              "            title=\"Suggest charts\"\n",
              "            style=\"display:none;\">\n",
              "\n",
              "<svg xmlns=\"http://www.w3.org/2000/svg\" height=\"24px\"viewBox=\"0 0 24 24\"\n",
              "     width=\"24px\">\n",
              "    <g>\n",
              "        <path d=\"M19 3H5c-1.1 0-2 .9-2 2v14c0 1.1.9 2 2 2h14c1.1 0 2-.9 2-2V5c0-1.1-.9-2-2-2zM9 17H7v-7h2v7zm4 0h-2V7h2v10zm4 0h-2v-4h2v4z\"/>\n",
              "    </g>\n",
              "</svg>\n",
              "  </button>\n",
              "\n",
              "<style>\n",
              "  .colab-df-quickchart {\n",
              "      --bg-color: #E8F0FE;\n",
              "      --fill-color: #1967D2;\n",
              "      --hover-bg-color: #E2EBFA;\n",
              "      --hover-fill-color: #174EA6;\n",
              "      --disabled-fill-color: #AAA;\n",
              "      --disabled-bg-color: #DDD;\n",
              "  }\n",
              "\n",
              "  [theme=dark] .colab-df-quickchart {\n",
              "      --bg-color: #3B4455;\n",
              "      --fill-color: #D2E3FC;\n",
              "      --hover-bg-color: #434B5C;\n",
              "      --hover-fill-color: #FFFFFF;\n",
              "      --disabled-bg-color: #3B4455;\n",
              "      --disabled-fill-color: #666;\n",
              "  }\n",
              "\n",
              "  .colab-df-quickchart {\n",
              "    background-color: var(--bg-color);\n",
              "    border: none;\n",
              "    border-radius: 50%;\n",
              "    cursor: pointer;\n",
              "    display: none;\n",
              "    fill: var(--fill-color);\n",
              "    height: 32px;\n",
              "    padding: 0;\n",
              "    width: 32px;\n",
              "  }\n",
              "\n",
              "  .colab-df-quickchart:hover {\n",
              "    background-color: var(--hover-bg-color);\n",
              "    box-shadow: 0 1px 2px rgba(60, 64, 67, 0.3), 0 1px 3px 1px rgba(60, 64, 67, 0.15);\n",
              "    fill: var(--button-hover-fill-color);\n",
              "  }\n",
              "\n",
              "  .colab-df-quickchart-complete:disabled,\n",
              "  .colab-df-quickchart-complete:disabled:hover {\n",
              "    background-color: var(--disabled-bg-color);\n",
              "    fill: var(--disabled-fill-color);\n",
              "    box-shadow: none;\n",
              "  }\n",
              "\n",
              "  .colab-df-spinner {\n",
              "    border: 2px solid var(--fill-color);\n",
              "    border-color: transparent;\n",
              "    border-bottom-color: var(--fill-color);\n",
              "    animation:\n",
              "      spin 1s steps(1) infinite;\n",
              "  }\n",
              "\n",
              "  @keyframes spin {\n",
              "    0% {\n",
              "      border-color: transparent;\n",
              "      border-bottom-color: var(--fill-color);\n",
              "      border-left-color: var(--fill-color);\n",
              "    }\n",
              "    20% {\n",
              "      border-color: transparent;\n",
              "      border-left-color: var(--fill-color);\n",
              "      border-top-color: var(--fill-color);\n",
              "    }\n",
              "    30% {\n",
              "      border-color: transparent;\n",
              "      border-left-color: var(--fill-color);\n",
              "      border-top-color: var(--fill-color);\n",
              "      border-right-color: var(--fill-color);\n",
              "    }\n",
              "    40% {\n",
              "      border-color: transparent;\n",
              "      border-right-color: var(--fill-color);\n",
              "      border-top-color: var(--fill-color);\n",
              "    }\n",
              "    60% {\n",
              "      border-color: transparent;\n",
              "      border-right-color: var(--fill-color);\n",
              "    }\n",
              "    80% {\n",
              "      border-color: transparent;\n",
              "      border-right-color: var(--fill-color);\n",
              "      border-bottom-color: var(--fill-color);\n",
              "    }\n",
              "    90% {\n",
              "      border-color: transparent;\n",
              "      border-bottom-color: var(--fill-color);\n",
              "    }\n",
              "  }\n",
              "</style>\n",
              "\n",
              "  <script>\n",
              "    async function quickchart(key) {\n",
              "      const quickchartButtonEl =\n",
              "        document.querySelector('#' + key + ' button');\n",
              "      quickchartButtonEl.disabled = true;  // To prevent multiple clicks.\n",
              "      quickchartButtonEl.classList.add('colab-df-spinner');\n",
              "      try {\n",
              "        const charts = await google.colab.kernel.invokeFunction(\n",
              "            'suggestCharts', [key], {});\n",
              "      } catch (error) {\n",
              "        console.error('Error during call to suggestCharts:', error);\n",
              "      }\n",
              "      quickchartButtonEl.classList.remove('colab-df-spinner');\n",
              "      quickchartButtonEl.classList.add('colab-df-quickchart-complete');\n",
              "    }\n",
              "    (() => {\n",
              "      let quickchartButtonEl =\n",
              "        document.querySelector('#df-f063383d-5de0-4443-8803-ae62e7d053f9 button');\n",
              "      quickchartButtonEl.style.display =\n",
              "        google.colab.kernel.accessAllowed ? 'block' : 'none';\n",
              "    })();\n",
              "  </script>\n",
              "</div>\n",
              "\n",
              "    </div>\n",
              "  </div>\n"
            ],
            "application/vnd.google.colaboratory.intrinsic+json": {
              "type": "dataframe",
              "variable_name": "df",
              "summary": "{\n  \"name\": \"df\",\n  \"rows\": 303,\n  \"fields\": [\n    {\n      \"column\": \"age\",\n      \"properties\": {\n        \"dtype\": \"number\",\n        \"std\": 9,\n        \"min\": 29,\n        \"max\": 77,\n        \"num_unique_values\": 41,\n        \"samples\": [\n          61,\n          64,\n          44\n        ],\n        \"semantic_type\": \"\",\n        \"description\": \"\"\n      }\n    },\n    {\n      \"column\": \"sex\",\n      \"properties\": {\n        \"dtype\": \"number\",\n        \"std\": 0,\n        \"min\": 0,\n        \"max\": 1,\n        \"num_unique_values\": 2,\n        \"samples\": [\n          0,\n          1\n        ],\n        \"semantic_type\": \"\",\n        \"description\": \"\"\n      }\n    },\n    {\n      \"column\": \"cp\",\n      \"properties\": {\n        \"dtype\": \"number\",\n        \"std\": 0,\n        \"min\": 1,\n        \"max\": 4,\n        \"num_unique_values\": 4,\n        \"samples\": [\n          4,\n          2\n        ],\n        \"semantic_type\": \"\",\n        \"description\": \"\"\n      }\n    },\n    {\n      \"column\": \"trestbps\",\n      \"properties\": {\n        \"dtype\": \"number\",\n        \"std\": 17,\n        \"min\": 94,\n        \"max\": 200,\n        \"num_unique_values\": 50,\n        \"samples\": [\n          124,\n          192\n        ],\n        \"semantic_type\": \"\",\n        \"description\": \"\"\n      }\n    },\n    {\n      \"column\": \"chol\",\n      \"properties\": {\n        \"dtype\": \"number\",\n        \"std\": 51,\n        \"min\": 126,\n        \"max\": 564,\n        \"num_unique_values\": 152,\n        \"samples\": [\n          321,\n          187\n        ],\n        \"semantic_type\": \"\",\n        \"description\": \"\"\n      }\n    },\n    {\n      \"column\": \"fbs\",\n      \"properties\": {\n        \"dtype\": \"number\",\n        \"std\": 0,\n        \"min\": 0,\n        \"max\": 1,\n        \"num_unique_values\": 2,\n        \"samples\": [\n          0,\n          1\n        ],\n        \"semantic_type\": \"\",\n        \"description\": \"\"\n      }\n    },\n    {\n      \"column\": \"restecg\",\n      \"properties\": {\n        \"dtype\": \"number\",\n        \"std\": 0,\n        \"min\": 0,\n        \"max\": 2,\n        \"num_unique_values\": 3,\n        \"samples\": [\n          2,\n          0\n        ],\n        \"semantic_type\": \"\",\n        \"description\": \"\"\n      }\n    },\n    {\n      \"column\": \"thalach\",\n      \"properties\": {\n        \"dtype\": \"number\",\n        \"std\": 22,\n        \"min\": 71,\n        \"max\": 202,\n        \"num_unique_values\": 91,\n        \"samples\": [\n          170,\n          114\n        ],\n        \"semantic_type\": \"\",\n        \"description\": \"\"\n      }\n    },\n    {\n      \"column\": \"exang\",\n      \"properties\": {\n        \"dtype\": \"number\",\n        \"std\": 0,\n        \"min\": 0,\n        \"max\": 1,\n        \"num_unique_values\": 2,\n        \"samples\": [\n          1,\n          0\n        ],\n        \"semantic_type\": \"\",\n        \"description\": \"\"\n      }\n    },\n    {\n      \"column\": \"oldpeak\",\n      \"properties\": {\n        \"dtype\": \"number\",\n        \"std\": 1.1610750220686348,\n        \"min\": 0.0,\n        \"max\": 6.2,\n        \"num_unique_values\": 40,\n        \"samples\": [\n          2.4,\n          0.2\n        ],\n        \"semantic_type\": \"\",\n        \"description\": \"\"\n      }\n    },\n    {\n      \"column\": \"slope\",\n      \"properties\": {\n        \"dtype\": \"number\",\n        \"std\": 0,\n        \"min\": 1,\n        \"max\": 3,\n        \"num_unique_values\": 3,\n        \"samples\": [\n          3,\n          2\n        ],\n        \"semantic_type\": \"\",\n        \"description\": \"\"\n      }\n    },\n    {\n      \"column\": \"ca\",\n      \"properties\": {\n        \"dtype\": \"number\",\n        \"std\": 0.9374383177242163,\n        \"min\": 0.0,\n        \"max\": 3.0,\n        \"num_unique_values\": 4,\n        \"samples\": [\n          3.0,\n          1.0\n        ],\n        \"semantic_type\": \"\",\n        \"description\": \"\"\n      }\n    },\n    {\n      \"column\": \"thal\",\n      \"properties\": {\n        \"dtype\": \"number\",\n        \"std\": 1.939705769378644,\n        \"min\": 3.0,\n        \"max\": 7.0,\n        \"num_unique_values\": 3,\n        \"samples\": [\n          6.0,\n          3.0\n        ],\n        \"semantic_type\": \"\",\n        \"description\": \"\"\n      }\n    },\n    {\n      \"column\": \"target\",\n      \"properties\": {\n        \"dtype\": \"number\",\n        \"std\": 0,\n        \"min\": 0,\n        \"max\": 1,\n        \"num_unique_values\": 2,\n        \"samples\": [\n          1,\n          0\n        ],\n        \"semantic_type\": \"\",\n        \"description\": \"\"\n      }\n    }\n  ]\n}"
            }
          },
          "metadata": {},
          "execution_count": 7
        }
      ],
      "source": [
        "df.rename(columns={'num': 'target'}, inplace=True)\n",
        "df['target']=np.where(df['target']>=1,1,0)\n",
        "df.head()"
      ]
    },
    {
      "cell_type": "markdown",
      "source": [
        "Se realizó el cambio de la variable objetivo a 'target' y se llevaron los valores de dicha variable a sólo dos categorías (0,1)."
      ],
      "metadata": {
        "id": "G4KwGcZGVD4e"
      }
    },
    {
      "cell_type": "markdown",
      "metadata": {
        "id": "a5P6n_9nwIx1"
      },
      "source": [
        "###]**2. Conocer el tamaño del DataFrame:**"
      ]
    },
    {
      "cell_type": "code",
      "execution_count": null,
      "metadata": {
        "colab": {
          "base_uri": "https://localhost:8080/"
        },
        "id": "drvfYvYWwIx1",
        "outputId": "5aed10e8-e29b-4321-c5d3-3df0bde43ab9"
      },
      "outputs": [
        {
          "output_type": "stream",
          "name": "stdout",
          "text": [
            "Número de filas 303\n",
            "Número de columnas 14\n"
          ]
        }
      ],
      "source": [
        "print(\"Número de filas\", df.shape[0])\n",
        "print(\"Número de columnas\", df.shape[1])"
      ]
    },
    {
      "cell_type": "markdown",
      "metadata": {
        "id": "CubctGJ1wIx2"
      },
      "source": [
        "###**3. Identificación de  duplicados en las columnas del Df:**"
      ]
    },
    {
      "cell_type": "code",
      "execution_count": null,
      "metadata": {
        "colab": {
          "base_uri": "https://localhost:8080/"
        },
        "id": "3RuXk4jxwIx2",
        "outputId": "85b0f569-affd-41c6-80b8-a3472370f3ff"
      },
      "outputs": [
        {
          "output_type": "execute_result",
          "data": {
            "text/plain": [
              "False"
            ]
          },
          "metadata": {},
          "execution_count": 44
        }
      ],
      "source": [
        "df.duplicated().any() ### valido los duplicados"
      ]
    },
    {
      "cell_type": "markdown",
      "source": [
        "No se detectaron valores duplicados que deban ser removidos de la base original"
      ],
      "metadata": {
        "id": "fpBO6xe6WV3K"
      }
    },
    {
      "cell_type": "markdown",
      "metadata": {
        "id": "adZ5bzI1wIx2"
      },
      "source": [
        "###**4. Identificar valores nulos:**"
      ]
    },
    {
      "cell_type": "code",
      "execution_count": null,
      "metadata": {
        "colab": {
          "base_uri": "https://localhost:8080/"
        },
        "id": "3Yp4USKiImF-",
        "outputId": "09583109-4a4a-45a5-ec6b-150caea460b6"
      },
      "outputs": [
        {
          "output_type": "execute_result",
          "data": {
            "text/plain": [
              "age         0\n",
              "sex         0\n",
              "cp          0\n",
              "trestbps    0\n",
              "chol        0\n",
              "fbs         0\n",
              "restecg     0\n",
              "thalach     0\n",
              "exang       0\n",
              "oldpeak     0\n",
              "slope       0\n",
              "ca          4\n",
              "thal        2\n",
              "target      0\n",
              "dtype: int64"
            ]
          },
          "metadata": {},
          "execution_count": 45
        }
      ],
      "source": [
        "df.isna().sum() ## valido las nulidade entre todas las variables"
      ]
    },
    {
      "cell_type": "markdown",
      "source": [
        "Se hace necesario imputar valores en las variables ca: 4 nulos y thal: 2 nulos. En consideración a que son pocos valores en compararación con el total de datos y que son variables categóricas, serán imputados con la moda correspondiente."
      ],
      "metadata": {
        "id": "zWYEUk-_WfYv"
      }
    },
    {
      "cell_type": "markdown",
      "metadata": {
        "id": "CW0DmcC5wIx2"
      },
      "source": [
        "###**5. Tratamiento de datos nulos:**"
      ]
    },
    {
      "cell_type": "code",
      "source": [
        "df['ca'].value_counts()"
      ],
      "metadata": {
        "colab": {
          "base_uri": "https://localhost:8080/"
        },
        "id": "Nks6lOx8ZNMf",
        "outputId": "e5a8abee-b704-4935-a038-a3684f38904e"
      },
      "execution_count": null,
      "outputs": [
        {
          "output_type": "execute_result",
          "data": {
            "text/plain": [
              "0.0    176\n",
              "1.0     65\n",
              "2.0     38\n",
              "3.0     20\n",
              "Name: ca, dtype: int64"
            ]
          },
          "metadata": {},
          "execution_count": 46
        }
      ]
    },
    {
      "cell_type": "code",
      "execution_count": null,
      "metadata": {
        "id": "d8_Rd_TSwIx2"
      },
      "outputs": [],
      "source": [
        "df['ca'].fillna(df['ca'].mode()[0], inplace=True) # imputa valores de \"ca\" con la moda"
      ]
    },
    {
      "cell_type": "code",
      "source": [
        "df['ca'].value_counts()"
      ],
      "metadata": {
        "colab": {
          "base_uri": "https://localhost:8080/"
        },
        "id": "tA7saQP4ZP5s",
        "outputId": "6477b404-d8d4-430f-a875-d966671c6e0e"
      },
      "execution_count": null,
      "outputs": [
        {
          "output_type": "execute_result",
          "data": {
            "text/plain": [
              "0.0    180\n",
              "1.0     65\n",
              "2.0     38\n",
              "3.0     20\n",
              "Name: ca, dtype: int64"
            ]
          },
          "metadata": {},
          "execution_count": 48
        }
      ]
    },
    {
      "cell_type": "code",
      "source": [
        "df['thal'].value_counts()"
      ],
      "metadata": {
        "colab": {
          "base_uri": "https://localhost:8080/"
        },
        "id": "LXnPLsU8Zyxu",
        "outputId": "899dc46d-5b20-400d-b22e-0a2e6480c2e0"
      },
      "execution_count": null,
      "outputs": [
        {
          "output_type": "execute_result",
          "data": {
            "text/plain": [
              "3.0    166\n",
              "7.0    117\n",
              "6.0     18\n",
              "Name: thal, dtype: int64"
            ]
          },
          "metadata": {},
          "execution_count": 49
        }
      ]
    },
    {
      "cell_type": "code",
      "execution_count": null,
      "metadata": {
        "id": "gg15ZYCiwIx3"
      },
      "outputs": [],
      "source": [
        "df['thal'].fillna(df['thal'].mode()[0], inplace=True) # imputa valores de \"thal\" con la moda"
      ]
    },
    {
      "cell_type": "code",
      "source": [
        "df['thal'].value_counts()"
      ],
      "metadata": {
        "colab": {
          "base_uri": "https://localhost:8080/"
        },
        "id": "2DpybRaZZbV4",
        "outputId": "b37de181-ef3a-4cbd-e6c8-9a4d450dea61"
      },
      "execution_count": null,
      "outputs": [
        {
          "output_type": "execute_result",
          "data": {
            "text/plain": [
              "3.0    168\n",
              "7.0    117\n",
              "6.0     18\n",
              "Name: thal, dtype: int64"
            ]
          },
          "metadata": {},
          "execution_count": 51
        }
      ]
    },
    {
      "cell_type": "code",
      "source": [
        "df.isnull().sum() # valida la existencia de valores nulos"
      ],
      "metadata": {
        "colab": {
          "base_uri": "https://localhost:8080/"
        },
        "id": "EmZK95lba5EB",
        "outputId": "017f52fa-66cc-4c26-c68d-f02cdb1ead7b"
      },
      "execution_count": null,
      "outputs": [
        {
          "output_type": "execute_result",
          "data": {
            "text/plain": [
              "age         0\n",
              "sex         0\n",
              "cp          0\n",
              "trestbps    0\n",
              "chol        0\n",
              "fbs         0\n",
              "restecg     0\n",
              "thalach     0\n",
              "exang       0\n",
              "oldpeak     0\n",
              "slope       0\n",
              "ca          0\n",
              "thal        0\n",
              "target      0\n",
              "dtype: int64"
            ]
          },
          "metadata": {},
          "execution_count": 52
        }
      ]
    },
    {
      "cell_type": "markdown",
      "metadata": {
        "id": "RdtyJtOJIm0K"
      },
      "source": [
        "###**6. Definición de la variable respuesta:**"
      ]
    },
    {
      "cell_type": "code",
      "execution_count": null,
      "metadata": {
        "id": "HiYVpQTexfUk",
        "colab": {
          "base_uri": "https://localhost:8080/"
        },
        "outputId": "9f7e0f67-26fd-4e83-f1fd-a88215905972"
      },
      "outputs": [
        {
          "output_type": "execute_result",
          "data": {
            "text/plain": [
              "0    164\n",
              "1    139\n",
              "Name: target, dtype: int64"
            ]
          },
          "metadata": {},
          "execution_count": 53
        }
      ],
      "source": [
        "## target: Presencia de enfermedad cardíaca (0 = no, 1 = sí)\n",
        "df['target'].value_counts()"
      ]
    },
    {
      "cell_type": "markdown",
      "metadata": {
        "id": "aFfYpB6pwIx3"
      },
      "source": [
        "###**7. identificar proporción de la variable obtejetivo en el conjunto de datos:**"
      ]
    },
    {
      "cell_type": "code",
      "execution_count": null,
      "metadata": {
        "colab": {
          "base_uri": "https://localhost:8080/",
          "height": 542
        },
        "id": "ZmGlacNkwIx3",
        "outputId": "ce3979bc-ce94-4cd2-f01a-666c4013ee8a"
      },
      "outputs": [
        {
          "output_type": "display_data",
          "data": {
            "text/html": [
              "<html>\n",
              "<head><meta charset=\"utf-8\" /></head>\n",
              "<body>\n",
              "    <div>            <script src=\"https://cdnjs.cloudflare.com/ajax/libs/mathjax/2.7.5/MathJax.js?config=TeX-AMS-MML_SVG\"></script><script type=\"text/javascript\">if (window.MathJax && window.MathJax.Hub && window.MathJax.Hub.Config) {window.MathJax.Hub.Config({SVG: {font: \"STIX-Web\"}});}</script>                <script type=\"text/javascript\">window.PlotlyConfig = {MathJaxConfig: 'local'};</script>\n",
              "        <script charset=\"utf-8\" src=\"https://cdn.plot.ly/plotly-2.24.1.min.js\"></script>                <div id=\"f01f1289-b7b7-491b-90ce-e5ebb57f036d\" class=\"plotly-graph-div\" style=\"height:525px; width:100%;\"></div>            <script type=\"text/javascript\">                                    window.PLOTLYENV=window.PLOTLYENV || {};                                    if (document.getElementById(\"f01f1289-b7b7-491b-90ce-e5ebb57f036d\")) {                    Plotly.newPlot(                        \"f01f1289-b7b7-491b-90ce-e5ebb57f036d\",                        [{\"domain\":{\"x\":[0.0,1.0],\"y\":[0.0,1.0]},\"hovertemplate\":\"label=%{label}\\u003cbr\\u003evalue=%{value}\\u003cextra\\u003e\\u003c\\u002fextra\\u003e\",\"labels\":[\"Sin presencia de enfermedad card\\u00edaca\",\"Con presencia de enfermedad card\\u00edaca\"],\"legendgroup\":\"\",\"name\":\"\",\"showlegend\":true,\"values\":[164,139],\"type\":\"pie\"}],                        {\"template\":{\"data\":{\"histogram2dcontour\":[{\"type\":\"histogram2dcontour\",\"colorbar\":{\"outlinewidth\":0,\"ticks\":\"\"},\"colorscale\":[[0.0,\"#0d0887\"],[0.1111111111111111,\"#46039f\"],[0.2222222222222222,\"#7201a8\"],[0.3333333333333333,\"#9c179e\"],[0.4444444444444444,\"#bd3786\"],[0.5555555555555556,\"#d8576b\"],[0.6666666666666666,\"#ed7953\"],[0.7777777777777778,\"#fb9f3a\"],[0.8888888888888888,\"#fdca26\"],[1.0,\"#f0f921\"]]}],\"choropleth\":[{\"type\":\"choropleth\",\"colorbar\":{\"outlinewidth\":0,\"ticks\":\"\"}}],\"histogram2d\":[{\"type\":\"histogram2d\",\"colorbar\":{\"outlinewidth\":0,\"ticks\":\"\"},\"colorscale\":[[0.0,\"#0d0887\"],[0.1111111111111111,\"#46039f\"],[0.2222222222222222,\"#7201a8\"],[0.3333333333333333,\"#9c179e\"],[0.4444444444444444,\"#bd3786\"],[0.5555555555555556,\"#d8576b\"],[0.6666666666666666,\"#ed7953\"],[0.7777777777777778,\"#fb9f3a\"],[0.8888888888888888,\"#fdca26\"],[1.0,\"#f0f921\"]]}],\"heatmap\":[{\"type\":\"heatmap\",\"colorbar\":{\"outlinewidth\":0,\"ticks\":\"\"},\"colorscale\":[[0.0,\"#0d0887\"],[0.1111111111111111,\"#46039f\"],[0.2222222222222222,\"#7201a8\"],[0.3333333333333333,\"#9c179e\"],[0.4444444444444444,\"#bd3786\"],[0.5555555555555556,\"#d8576b\"],[0.6666666666666666,\"#ed7953\"],[0.7777777777777778,\"#fb9f3a\"],[0.8888888888888888,\"#fdca26\"],[1.0,\"#f0f921\"]]}],\"heatmapgl\":[{\"type\":\"heatmapgl\",\"colorbar\":{\"outlinewidth\":0,\"ticks\":\"\"},\"colorscale\":[[0.0,\"#0d0887\"],[0.1111111111111111,\"#46039f\"],[0.2222222222222222,\"#7201a8\"],[0.3333333333333333,\"#9c179e\"],[0.4444444444444444,\"#bd3786\"],[0.5555555555555556,\"#d8576b\"],[0.6666666666666666,\"#ed7953\"],[0.7777777777777778,\"#fb9f3a\"],[0.8888888888888888,\"#fdca26\"],[1.0,\"#f0f921\"]]}],\"contourcarpet\":[{\"type\":\"contourcarpet\",\"colorbar\":{\"outlinewidth\":0,\"ticks\":\"\"}}],\"contour\":[{\"type\":\"contour\",\"colorbar\":{\"outlinewidth\":0,\"ticks\":\"\"},\"colorscale\":[[0.0,\"#0d0887\"],[0.1111111111111111,\"#46039f\"],[0.2222222222222222,\"#7201a8\"],[0.3333333333333333,\"#9c179e\"],[0.4444444444444444,\"#bd3786\"],[0.5555555555555556,\"#d8576b\"],[0.6666666666666666,\"#ed7953\"],[0.7777777777777778,\"#fb9f3a\"],[0.8888888888888888,\"#fdca26\"],[1.0,\"#f0f921\"]]}],\"surface\":[{\"type\":\"surface\",\"colorbar\":{\"outlinewidth\":0,\"ticks\":\"\"},\"colorscale\":[[0.0,\"#0d0887\"],[0.1111111111111111,\"#46039f\"],[0.2222222222222222,\"#7201a8\"],[0.3333333333333333,\"#9c179e\"],[0.4444444444444444,\"#bd3786\"],[0.5555555555555556,\"#d8576b\"],[0.6666666666666666,\"#ed7953\"],[0.7777777777777778,\"#fb9f3a\"],[0.8888888888888888,\"#fdca26\"],[1.0,\"#f0f921\"]]}],\"mesh3d\":[{\"type\":\"mesh3d\",\"colorbar\":{\"outlinewidth\":0,\"ticks\":\"\"}}],\"scatter\":[{\"fillpattern\":{\"fillmode\":\"overlay\",\"size\":10,\"solidity\":0.2},\"type\":\"scatter\"}],\"parcoords\":[{\"type\":\"parcoords\",\"line\":{\"colorbar\":{\"outlinewidth\":0,\"ticks\":\"\"}}}],\"scatterpolargl\":[{\"type\":\"scatterpolargl\",\"marker\":{\"colorbar\":{\"outlinewidth\":0,\"ticks\":\"\"}}}],\"bar\":[{\"error_x\":{\"color\":\"#2a3f5f\"},\"error_y\":{\"color\":\"#2a3f5f\"},\"marker\":{\"line\":{\"color\":\"#E5ECF6\",\"width\":0.5},\"pattern\":{\"fillmode\":\"overlay\",\"size\":10,\"solidity\":0.2}},\"type\":\"bar\"}],\"scattergeo\":[{\"type\":\"scattergeo\",\"marker\":{\"colorbar\":{\"outlinewidth\":0,\"ticks\":\"\"}}}],\"scatterpolar\":[{\"type\":\"scatterpolar\",\"marker\":{\"colorbar\":{\"outlinewidth\":0,\"ticks\":\"\"}}}],\"histogram\":[{\"marker\":{\"pattern\":{\"fillmode\":\"overlay\",\"size\":10,\"solidity\":0.2}},\"type\":\"histogram\"}],\"scattergl\":[{\"type\":\"scattergl\",\"marker\":{\"colorbar\":{\"outlinewidth\":0,\"ticks\":\"\"}}}],\"scatter3d\":[{\"type\":\"scatter3d\",\"line\":{\"colorbar\":{\"outlinewidth\":0,\"ticks\":\"\"}},\"marker\":{\"colorbar\":{\"outlinewidth\":0,\"ticks\":\"\"}}}],\"scattermapbox\":[{\"type\":\"scattermapbox\",\"marker\":{\"colorbar\":{\"outlinewidth\":0,\"ticks\":\"\"}}}],\"scatterternary\":[{\"type\":\"scatterternary\",\"marker\":{\"colorbar\":{\"outlinewidth\":0,\"ticks\":\"\"}}}],\"scattercarpet\":[{\"type\":\"scattercarpet\",\"marker\":{\"colorbar\":{\"outlinewidth\":0,\"ticks\":\"\"}}}],\"carpet\":[{\"aaxis\":{\"endlinecolor\":\"#2a3f5f\",\"gridcolor\":\"white\",\"linecolor\":\"white\",\"minorgridcolor\":\"white\",\"startlinecolor\":\"#2a3f5f\"},\"baxis\":{\"endlinecolor\":\"#2a3f5f\",\"gridcolor\":\"white\",\"linecolor\":\"white\",\"minorgridcolor\":\"white\",\"startlinecolor\":\"#2a3f5f\"},\"type\":\"carpet\"}],\"table\":[{\"cells\":{\"fill\":{\"color\":\"#EBF0F8\"},\"line\":{\"color\":\"white\"}},\"header\":{\"fill\":{\"color\":\"#C8D4E3\"},\"line\":{\"color\":\"white\"}},\"type\":\"table\"}],\"barpolar\":[{\"marker\":{\"line\":{\"color\":\"#E5ECF6\",\"width\":0.5},\"pattern\":{\"fillmode\":\"overlay\",\"size\":10,\"solidity\":0.2}},\"type\":\"barpolar\"}],\"pie\":[{\"automargin\":true,\"type\":\"pie\"}]},\"layout\":{\"autotypenumbers\":\"strict\",\"colorway\":[\"#636efa\",\"#EF553B\",\"#00cc96\",\"#ab63fa\",\"#FFA15A\",\"#19d3f3\",\"#FF6692\",\"#B6E880\",\"#FF97FF\",\"#FECB52\"],\"font\":{\"color\":\"#2a3f5f\"},\"hovermode\":\"closest\",\"hoverlabel\":{\"align\":\"left\"},\"paper_bgcolor\":\"white\",\"plot_bgcolor\":\"#E5ECF6\",\"polar\":{\"bgcolor\":\"#E5ECF6\",\"angularaxis\":{\"gridcolor\":\"white\",\"linecolor\":\"white\",\"ticks\":\"\"},\"radialaxis\":{\"gridcolor\":\"white\",\"linecolor\":\"white\",\"ticks\":\"\"}},\"ternary\":{\"bgcolor\":\"#E5ECF6\",\"aaxis\":{\"gridcolor\":\"white\",\"linecolor\":\"white\",\"ticks\":\"\"},\"baxis\":{\"gridcolor\":\"white\",\"linecolor\":\"white\",\"ticks\":\"\"},\"caxis\":{\"gridcolor\":\"white\",\"linecolor\":\"white\",\"ticks\":\"\"}},\"coloraxis\":{\"colorbar\":{\"outlinewidth\":0,\"ticks\":\"\"}},\"colorscale\":{\"sequential\":[[0.0,\"#0d0887\"],[0.1111111111111111,\"#46039f\"],[0.2222222222222222,\"#7201a8\"],[0.3333333333333333,\"#9c179e\"],[0.4444444444444444,\"#bd3786\"],[0.5555555555555556,\"#d8576b\"],[0.6666666666666666,\"#ed7953\"],[0.7777777777777778,\"#fb9f3a\"],[0.8888888888888888,\"#fdca26\"],[1.0,\"#f0f921\"]],\"sequentialminus\":[[0.0,\"#0d0887\"],[0.1111111111111111,\"#46039f\"],[0.2222222222222222,\"#7201a8\"],[0.3333333333333333,\"#9c179e\"],[0.4444444444444444,\"#bd3786\"],[0.5555555555555556,\"#d8576b\"],[0.6666666666666666,\"#ed7953\"],[0.7777777777777778,\"#fb9f3a\"],[0.8888888888888888,\"#fdca26\"],[1.0,\"#f0f921\"]],\"diverging\":[[0,\"#8e0152\"],[0.1,\"#c51b7d\"],[0.2,\"#de77ae\"],[0.3,\"#f1b6da\"],[0.4,\"#fde0ef\"],[0.5,\"#f7f7f7\"],[0.6,\"#e6f5d0\"],[0.7,\"#b8e186\"],[0.8,\"#7fbc41\"],[0.9,\"#4d9221\"],[1,\"#276419\"]]},\"xaxis\":{\"gridcolor\":\"white\",\"linecolor\":\"white\",\"ticks\":\"\",\"title\":{\"standoff\":15},\"zerolinecolor\":\"white\",\"automargin\":true,\"zerolinewidth\":2},\"yaxis\":{\"gridcolor\":\"white\",\"linecolor\":\"white\",\"ticks\":\"\",\"title\":{\"standoff\":15},\"zerolinecolor\":\"white\",\"automargin\":true,\"zerolinewidth\":2},\"scene\":{\"xaxis\":{\"backgroundcolor\":\"#E5ECF6\",\"gridcolor\":\"white\",\"linecolor\":\"white\",\"showbackground\":true,\"ticks\":\"\",\"zerolinecolor\":\"white\",\"gridwidth\":2},\"yaxis\":{\"backgroundcolor\":\"#E5ECF6\",\"gridcolor\":\"white\",\"linecolor\":\"white\",\"showbackground\":true,\"ticks\":\"\",\"zerolinecolor\":\"white\",\"gridwidth\":2},\"zaxis\":{\"backgroundcolor\":\"#E5ECF6\",\"gridcolor\":\"white\",\"linecolor\":\"white\",\"showbackground\":true,\"ticks\":\"\",\"zerolinecolor\":\"white\",\"gridwidth\":2}},\"shapedefaults\":{\"line\":{\"color\":\"#2a3f5f\"}},\"annotationdefaults\":{\"arrowcolor\":\"#2a3f5f\",\"arrowhead\":0,\"arrowwidth\":1},\"geo\":{\"bgcolor\":\"white\",\"landcolor\":\"#E5ECF6\",\"subunitcolor\":\"white\",\"showland\":true,\"showlakes\":true,\"lakecolor\":\"white\"},\"title\":{\"x\":0.05},\"mapbox\":{\"style\":\"light\"}}},\"legend\":{\"tracegroupgap\":0},\"title\":{\"text\":\"Distribuci\\u00f3n de la variable objetivo\",\"x\":0.5},\"piecolorway\":[\"#3498db\",\"#001f3f\"]},                        {\"responsive\": true}                    ).then(function(){\n",
              "                            \n",
              "var gd = document.getElementById('f01f1289-b7b7-491b-90ce-e5ebb57f036d');\n",
              "var x = new MutationObserver(function (mutations, observer) {{\n",
              "        var display = window.getComputedStyle(gd).display;\n",
              "        if (!display || display === 'none') {{\n",
              "            console.log([gd, 'removed!']);\n",
              "            Plotly.purge(gd);\n",
              "            observer.disconnect();\n",
              "        }}\n",
              "}});\n",
              "\n",
              "// Listen for the removal of the full notebook cells\n",
              "var notebookContainer = gd.closest('#notebook-container');\n",
              "if (notebookContainer) {{\n",
              "    x.observe(notebookContainer, {childList: true});\n",
              "}}\n",
              "\n",
              "// Listen for the clearing of the current output cell\n",
              "var outputEl = gd.closest('.output');\n",
              "if (outputEl) {{\n",
              "    x.observe(outputEl, {childList: true});\n",
              "}}\n",
              "\n",
              "                        })                };                            </script>        </div>\n",
              "</body>\n",
              "</html>"
            ]
          },
          "metadata": {}
        }
      ],
      "source": [
        "# Define colores personalizados para el gráfico de pastel\n",
        "custom_colors = ['#3498db', '#001f3f']\n",
        "\n",
        "# Crea el gráfico de pastel utilizando plotly express\n",
        "fig = px.pie(names=['Sin presencia de enfermedad cardíaca', 'Con presencia de enfermedad cardíaca'],\n",
        "             values=df['target'].value_counts().values,\n",
        "             title='Distribución de la variable objetivo',\n",
        "             color_discrete_sequence=custom_colors)\n",
        "\n",
        "# Ajusta la posición horizontal del título del gráfico\n",
        "fig.update_layout(title_x=0.5)\n",
        "\n",
        "# Muestra el gráfico\n",
        "fig.show()"
      ]
    },
    {
      "cell_type": "markdown",
      "metadata": {
        "id": "zA_HZCFfwIx3"
      },
      "source": [
        "**Conclusión diagrama 'Distribución de la variable objetivo'**\n",
        "Podemos observar que en los datos de entrada, la variable objetivo muestra una mayor frecuencia de personas sin enfermedad cardíaca en comparación con aquellas que muestran la presencia de esta enfermedad."
      ]
    },
    {
      "cell_type": "markdown",
      "metadata": {
        "id": "OxzGz5OVwIx4"
      },
      "source": [
        "###**8. identificar variables y clasificarlas en cuantitativas y cualitativas:**"
      ]
    },
    {
      "cell_type": "code",
      "execution_count": null,
      "metadata": {
        "id": "GdLKIuU0wIx4"
      },
      "outputs": [],
      "source": [
        "#Creación de dos listas vacías:\n",
        "# 1. Almacenar el nombre de las columnas categóricas (categoricas)\n",
        "# 2. Almacenar de las columnas numéricas (numericas).\n",
        "categoricas=[]\n",
        "numericas=[]\n",
        "for column in df.columns:\n",
        "  if df[column].nunique()<=10: ## Comprueba si el número de valores únicos en la columna actual es menor o igual a 10.\n",
        "    categoricas.append(column)\n",
        "  else:\n",
        "    numericas.append(column)"
      ]
    },
    {
      "cell_type": "code",
      "source": [
        "categoricas"
      ],
      "metadata": {
        "colab": {
          "base_uri": "https://localhost:8080/"
        },
        "id": "ysBlGrsahIs8",
        "outputId": "132fc734-b765-40f5-a34b-67965def4b73"
      },
      "execution_count": null,
      "outputs": [
        {
          "output_type": "execute_result",
          "data": {
            "text/plain": [
              "['sex', 'cp', 'fbs', 'restecg', 'exang', 'slope', 'ca', 'thal', 'target']"
            ]
          },
          "metadata": {},
          "execution_count": 56
        }
      ]
    },
    {
      "cell_type": "code",
      "source": [
        "numericas"
      ],
      "metadata": {
        "colab": {
          "base_uri": "https://localhost:8080/"
        },
        "id": "qck5l9UAhRbk",
        "outputId": "875b6421-ebcc-4127-b0ff-b996052a2689"
      },
      "execution_count": null,
      "outputs": [
        {
          "output_type": "execute_result",
          "data": {
            "text/plain": [
              "['age', 'trestbps', 'chol', 'thalach', 'oldpeak']"
            ]
          },
          "metadata": {},
          "execution_count": 57
        }
      ]
    },
    {
      "cell_type": "markdown",
      "metadata": {
        "id": "4QJvP4IHwIx4"
      },
      "source": [
        "###**9. Descripción de variables cuantitativas:**"
      ]
    },
    {
      "cell_type": "markdown",
      "metadata": {
        "id": "1vXuRvmUwIx4"
      },
      "source": [
        "**9.1 Variable: 'age' (edad):**"
      ]
    },
    {
      "cell_type": "code",
      "execution_count": null,
      "metadata": {
        "colab": {
          "base_uri": "https://localhost:8080/",
          "height": 625
        },
        "id": "4uVtr5nuwIx4",
        "outputId": "1bb370ba-2889-4086-e38e-bc30ed0e54ba"
      },
      "outputs": [
        {
          "output_type": "stream",
          "name": "stdout",
          "text": [
            "media de la edad en el dataset  54.43894389438944\n",
            "El minimo de la edad abordada en el dataset fue de: 29\n",
            "El máximo de la edad abordada en el dataset fue de: 77\n"
          ]
        },
        {
          "output_type": "display_data",
          "data": {
            "text/plain": [
              "<Figure size 800x600 with 1 Axes>"
            ],
            "image/png": "[encoded data removed]"
          },
          "metadata": {}
        }
      ],
      "source": [
        "fig, ax = plt.subplots(figsize=(8, 6))\n",
        "sns.histplot(df['age'], bins=10, color='#3057', edgecolor='gray', alpha=0.3, ax=ax)\n",
        "ax.set_title('Distribución de la Edad')\n",
        "ax.set_xlabel('Edad')\n",
        "ax.set_ylabel('Frecuencia')\n",
        "\n",
        "# Oculta las líneas superior y derecha del gráfico\n",
        "ax.spines[['top', 'right']].set_visible(False)\n",
        "\n",
        "# Líneas verticales para la media y mediana.\n",
        "ax.axvline(x=df.age.mean(), color='red', linestyle='dashed', linewidth=2, label='Media')\n",
        "ax.axvline(x=df.age.median(), color='green', linestyle='dashed', linewidth=2, label='Mediana')\n",
        "\n",
        "# Agrega una leyenda\n",
        "ax.legend()\n",
        "\n",
        "# Muestra la media, el mínimo y el máximo de la columna 'age' del DataFrame df.\n",
        "print(\"media de la edad en el dataset \", df.age.mean())\n",
        "print(\"El minimo de la edad abordada en el dataset fue de:\", df.age.min())\n",
        "print(\"El máximo de la edad abordada en el dataset fue de:\", df.age.max())\n",
        "\n",
        "plt.show()"
      ]
    },
    {
      "cell_type": "markdown",
      "metadata": {
        "id": "tRtk6GRBwIx4"
      },
      "source": [
        "### Conclusión diagrama 'Distribución de la Edad':\n",
        "-La media de la edad en el dataset  54.43894389438944, el minimo de la edad abordada en el dataset fue de: 29  y\n",
        "el máximo de la edad abordada en el dataset fue de: 77\n",
        "\n",
        "Analisis de simetria en la distribución:la simetría se refiere a cómo están distribuidos los valores a lo largo de un eje central.\n",
        "\n",
        "- Distribusción simetria: Si la distribución está sesgada hacia la izquierda (asimetría negativa), la media será menor que la mediana, y ambas serán menores que la moda.\n",
        "\n",
        "- Distribución asimetria: La media y la mediana estarán ubicadas centralmente cerca del punto alto de la distribución.\n",
        "\n",
        "**Conclusión**: la distribución de la variable 'Age'es 'simétrica', la media es similar a la mediana lo que podría dar indicios de normalidad."
      ]
    },
    {
      "cell_type": "markdown",
      "metadata": {
        "id": "YWS8BP8vwIx4"
      },
      "source": [
        "**9.2 Variable: 'trestbps' (Presión arterial en reposo en mmHg)**"
      ]
    },
    {
      "cell_type": "code",
      "execution_count": null,
      "metadata": {
        "id": "QFr4BB8goai9",
        "colab": {
          "base_uri": "https://localhost:8080/",
          "height": 574
        },
        "outputId": "f719cd93-004a-418e-f353-527f0c1022ed"
      },
      "outputs": [
        {
          "output_type": "display_data",
          "data": {
            "text/plain": [
              "<Figure size 800x600 with 1 Axes>"
            ],
            "image/png": "[encoded data removed]"
          },
          "metadata": {}
        }
      ],
      "source": [
        "\n",
        "# Configuración del histograma\n",
        "fig, ax = plt.subplots(figsize=(8, 6))\n",
        "sns.histplot(df['trestbps'], bins=20, color='#00B2A9', edgecolor='gray', alpha=0.3, ax=ax)\n",
        "ax.set_title('Distribución de la Presión arterial en Reposo')\n",
        "ax.set_xlabel('Presión arterial (mm-Hg)')\n",
        "ax.set_ylabel('Frecuencia')\n",
        "\n",
        "# Oculta las líneas superior y derecha del gráfico\n",
        "ax.spines[['top', 'right']].set_visible(False)\n",
        "\n",
        "# Líneas verticales para la media y mediana\n",
        "ax.axvline(x=df.trestbps.mean(), color='red', linestyle='dashed', linewidth=2, label='Media')\n",
        "ax.axvline(x=df.trestbps.median(), color='green', linestyle='dashed', linewidth=2, label='Mediana')\n",
        "\n",
        "# Agrega una leyenda\n",
        "ax.legend()\n",
        "\n",
        "# Muestra el histograma\n",
        "plt.show()"
      ]
    },
    {
      "cell_type": "markdown",
      "metadata": {
        "id": "kQJ8jYZSwIx5"
      },
      "source": [
        "### Conclusión diagrama 'Distribución de la Presión arterial en Reposo':\n",
        "Analisis de simetria en la distribución:la simetría se refiere a cómo están distribuidos los valores a lo largo de un eje central.\n",
        "\n",
        "- Distribusción simetria: Si la distribución está sesgada hacia la izquierda (asimetría negativa), la media será menor que la mediana, y ambas serán menores que la moda.\n",
        "\n",
        "- istribución asimetria: La media y la mediana estarán ubicadas centralmente cerca del punto alto de la distribución.\n",
        "\n",
        "**Conclusión**: la distribución de la variable 'trestbps'es 'Simetrica', seria un indicio de que los datos podrian seguir una distribución normal."
      ]
    },
    {
      "cell_type": "markdown",
      "metadata": {
        "id": "ZCQ8Htq-wIx5"
      },
      "source": [
        "**9.2 Variable: 'chol' (Colesterol):**"
      ]
    },
    {
      "cell_type": "code",
      "execution_count": null,
      "metadata": {
        "colab": {
          "base_uri": "https://localhost:8080/",
          "height": 590
        },
        "id": "JJEufEM7wIx-",
        "outputId": "6e339670-996e-4fe7-d9bf-1e217daffe7b"
      },
      "outputs": [
        {
          "output_type": "display_data",
          "data": {
            "text/plain": [
              "<Figure size 800x600 with 1 Axes>"
            ],
            "image/png": "[encoded data removed]"
          },
          "metadata": {}
        },
        {
          "output_type": "stream",
          "name": "stdout",
          "text": [
            "Media del colesterol: 246.69306930693068\n"
          ]
        }
      ],
      "source": [
        "# Configuración del histograma\n",
        "fig, ax = plt.subplots(figsize=(8, 6))\n",
        "sns.histplot(df['chol'], bins=20, kde=True, color='#3057', edgecolor='gray', alpha=0.3, ax=ax)\n",
        "ax.set_title('Distribución del colesterol')\n",
        "ax.set_xlabel('Colesterol')\n",
        "ax.set_ylabel('Nivel')\n",
        "\n",
        "# Oculta las líneas superior y derecha del gráfico\n",
        "ax.spines[['top', 'right']].set_visible(False)\n",
        "\n",
        "# Líneas verticales para la media y mediana\n",
        "ax.axvline(x=df.chol.mean(), color='red', linestyle='dashed', linewidth=2, label='Media')\n",
        "ax.axvline(x=df.chol.median(), color='green', linestyle='dashed', linewidth=2, label='Mediana')\n",
        "\n",
        "# Agrega una leyenda\n",
        "ax.legend()\n",
        "\n",
        "# Muestra el histograma\n",
        "plt.show()\n",
        "\n",
        "# Muestra la media de la variable\n",
        "print(\"Media del colesterol:\", df.chol.mean())"
      ]
    },
    {
      "cell_type": "markdown",
      "metadata": {
        "id": "kXmgsDaAwIx-"
      },
      "source": [
        "### Conclusión diagrama 'Distribución del colesterol':\n",
        "Analisis de simetria en la distribución:la simetría se refiere a cómo están distribuidos los valores a lo largo de un eje central.\n",
        "\n",
        "- Distribusción simetria: Si la distribución está sesgada hacia la izquierda (asimetría negativa), la media será menor que la mediana, y ambas serán menores que la moda.\n",
        "\n",
        "- istribución asimetria: La media y la mediana estarán ubicadas centralmente cerca del punto alto de la distribución.\n",
        "\n",
        "**Conclusión**: la distribución de la variable 'chol'es 'Simetrica', seria un indicio de que los datos podrian seguir una distribución normal. Se requiere la revisión de los valores extremos"
      ]
    },
    {
      "cell_type": "markdown",
      "metadata": {
        "id": "cldr5e_kwIx-"
      },
      "source": [
        "###**10. Identificación de valores atípicos:**"
      ]
    },
    {
      "cell_type": "markdown",
      "metadata": {
        "id": "Ury_9-NUwIx-"
      },
      "source": [
        "En estadísticas, el Rango Intercuartílico (RQ) se calcula como la diferencia entre el tercer cuartil (\\(Q3\\)) y el primer cuartil (\\(Q1\\)):\n",
        "\n",
        "\\[ RQ = Q3 - Q1 \\]\n"
      ]
    },
    {
      "cell_type": "markdown",
      "metadata": {
        "id": "9VWHDnUrwIx-"
      },
      "source": [
        "**10.2. Identificación de atípicos con boxplot**"
      ]
    },
    {
      "cell_type": "code",
      "execution_count": null,
      "metadata": {
        "colab": {
          "base_uri": "https://localhost:8080/",
          "height": 590
        },
        "id": "ly7VBe9EwIx_",
        "outputId": "fa082a85-f864-4e43-8fe4-1764e190754e"
      },
      "outputs": [
        {
          "output_type": "display_data",
          "data": {
            "text/plain": [
              "<Figure size 1000x1800 with 15 Axes>"
            ],
            "image/png": "[encoded data removed]"
          },
          "metadata": {}
        }
      ],
      "source": [
        "df[numericas].plot(kind='box', subplots=True, layout=(5,3), figsize=(10,18))\n",
        "plt.show()"
      ]
    },
    {
      "cell_type": "markdown",
      "metadata": {
        "id": "ZOL2SCOrwIx_"
      },
      "source": [
        "**10.3 : Resultado tratamiento atìpicos**"
      ]
    },
    {
      "cell_type": "code",
      "execution_count": null,
      "metadata": {
        "colab": {
          "base_uri": "https://localhost:8080/",
          "height": 765
        },
        "id": "2ijVzFprwIx_",
        "outputId": "2a7d6550-b411-400b-f833-42e586edfe84"
      },
      "outputs": [
        {
          "output_type": "display_data",
          "data": {
            "text/plain": [
              "<Figure size 1500x800 with 10 Axes>"
            ],
            "image/png": "[encoded data removed]"
          },
          "metadata": {}
        }
      ],
      "source": [
        "# Crear subplots para comparar boxplots antes y después de modificar valores\n",
        "fig, axes = plt.subplots(nrows=2, ncols=len(numericas), figsize=(15, 8))\n",
        "fig.suptitle('Comparación de Boxplots antes y después de modificar valores')\n",
        "\n",
        "# Boxplots antes de modificar valores\n",
        "for i, variable in enumerate(numericas):\n",
        "    sns.boxplot(x=df[variable], ax=axes[0, i])\n",
        "    axes[0, i].set_title(f'{variable} (Antes)')\n",
        "\n",
        "# Modificar valores por encima del percentil 75\n",
        "for variable in numericas:\n",
        "    Q3 = df[variable].quantile(0.95)\n",
        "    df.loc[df[variable] > Q3, variable] = Q3\n",
        "\n",
        "# Boxplots después de modificar valores\n",
        "for i, variable in enumerate(numericas):\n",
        "    sns.boxplot(x=df[variable], ax=axes[1, i])\n",
        "    axes[1, i].set_title(f'{variable} (Después)')\n",
        "\n",
        "plt.tight_layout(rect=[0, 0, 1, 0.96])\n",
        "plt.show()"
      ]
    },
    {
      "cell_type": "markdown",
      "metadata": {
        "id": "m2l8DWeiwIx_"
      },
      "source": [
        "###**11.  identificar relación entre variables:**"
      ]
    },
    {
      "cell_type": "markdown",
      "metadata": {
        "id": "4ed0RMlswIx_"
      },
      "source": [
        "**11.1 Entre  variables númericas númericas:**"
      ]
    },
    {
      "cell_type": "code",
      "execution_count": null,
      "metadata": {
        "colab": {
          "base_uri": "https://localhost:8080/",
          "height": 574
        },
        "id": "TJRKzf3KwIx_",
        "outputId": "b28e1d95-ffd4-4f56-be69-6655289fa955"
      },
      "outputs": [
        {
          "output_type": "display_data",
          "data": {
            "text/plain": [
              "<Figure size 1000x600 with 1 Axes>"
            ],
            "image/png": "[encoded data removed]"
          },
          "metadata": {}
        }
      ],
      "source": [
        "# Gráfico de dispersión\n",
        "plt.figure(figsize=(10, 6))\n",
        "plt.scatter(df['trestbps'], df['chol'], alpha=0.5)\n",
        "\n",
        "# Configurar etiquetas y título\n",
        "plt.title('Relación entre Presión Arterial y Colesterol')\n",
        "plt.xlabel('Presión Arterial en Reposo (trestbps)')\n",
        "plt.ylabel('Colesterol Sérico (chol)')\n",
        "\n",
        "# Mostrar el gráfico\n",
        "plt.show()"
      ]
    },
    {
      "cell_type": "markdown",
      "metadata": {
        "id": "L_z4bgA8wIx_"
      },
      "source": [
        "### Conclusión diagrama 'Presión Arterial en reposo y Colesterol':\n",
        "\n",
        "**Conclusión:** no se observan patrones claros que permitan identificar alguna relación entre la presión arterial y el colesterol. Aunque Se puede observar una mayor concentración de puntos en colesterol alto por encima de 200 y de presión arterial mayor 120."
      ]
    },
    {
      "cell_type": "code",
      "execution_count": null,
      "metadata": {
        "colab": {
          "base_uri": "https://localhost:8080/",
          "height": 549
        },
        "id": "JTxCxs9XwIyA",
        "outputId": "aac19693-c1f6-410f-8d55-70cd9bcb5316"
      },
      "outputs": [
        {
          "output_type": "display_data",
          "data": {
            "text/plain": [
              "<Figure size 800x600 with 2 Axes>"
            ],
            "image/png": "[encoded data removed]"
          },
          "metadata": {}
        }
      ],
      "source": [
        "# Crear una figura de matplotlib con un tamaño específico\n",
        "plt.figure(figsize=(8, 6))\n",
        "\n",
        "# Crear un mapa de calor de la matriz de correlación de las columnas numéricas del DataFrame 'df'.\n",
        "# Se utilizará Seaborn para visualizar el mapa de calor. Las anotaciones estarán activadas y mostrarán\n",
        "# los valores de las correlaciones. El mapa de color se establece en 'coolwarm' para una mejor visualización.\n",
        "# El formato de los valores de correlación se establece en '.2f', lo que significa que se mostrarán con dos decimales.\n",
        "sns.heatmap(df[numericas].corr(), annot=True, cmap='coolwarm', fmt='.2f')\n",
        "\n",
        "# Establecer el título del gráfico\n",
        "plt.title('Matriz de Correlación')\n",
        "\n",
        "# Mostrar el gráfico\n",
        "plt.show()"
      ]
    },
    {
      "cell_type": "markdown",
      "metadata": {
        "id": "qkJ0x2M2wIyA"
      },
      "source": [
        "### Conclusión diagrama 'Matriz de correlación:\n",
        "\n",
        "**Conclusión:** Se puede observar que las variables númericas son linealmente independientes. Las correlaciones más fuertes se identificaron entre las siguientes variables:\n",
        "\n",
        "edad - thalach: Frecuencia cardíaca máxima alcanzada: -0.38 inversa  \n",
        "oldpeak - thalach: Frecuencia cardíaca máxima alcanzada -0.36 inversa\n",
        "\n",
        "No se identificaron correlaciones significativamente altas que llevaran a un análisis más detallado de reducción de dimensionalidad."
      ]
    },
    {
      "cell_type": "markdown",
      "metadata": {
        "id": "41nYW9tFwIyA"
      },
      "source": [
        "**Analisis t-test independiente (test de medias):**"
      ]
    },
    {
      "cell_type": "markdown",
      "metadata": {
        "id": "xs-sQ0KNwIyA"
      },
      "source": [
        "El t-test se utiliza para comparar las medias de dos grupos diferentes y determinar si existen diferencias significativas entre ellos.En este caso, se está comparando la **presión arterial en reposo** (trestbps) entre dos grupos diferentes de pacientes: aquellos **con enfermedad cardíaca** (target == 1) y aquellos **sin enfermedad cardíaca** (target == 0)."
      ]
    },
    {
      "cell_type": "markdown",
      "metadata": {
        "id": "84qwPCHLwIyA"
      },
      "source": [
        "$$\n",
        "\\left\\{\n",
        "\\begin{array}{ll}\n",
        "H_{0}: &  \\mu=\\mu_0\\\\\n",
        "H_{1}: & \\mu\\neq\\mu_0\n",
        "\\end{array}\n",
        "\\right.\n",
        "$$"
      ]
    },
    {
      "cell_type": "code",
      "execution_count": null,
      "metadata": {
        "colab": {
          "base_uri": "https://localhost:8080/"
        },
        "id": "lW4uHxG5wIyA",
        "outputId": "8639cee5-e512-4317-b0c9-6871333c9326"
      },
      "outputs": [
        {
          "output_type": "stream",
          "name": "stdout",
          "text": [
            "               T         dof alternative     p-val         CI95%   cohen-d  \\\n",
            "T-test  2.426744  289.059118   two-sided  0.015846  [0.83, 7.91]  0.280646   \n",
            "\n",
            "         BF10     power  \n",
            "T-test  2.074  0.679585  \n"
          ]
        }
      ],
      "source": [
        "import pingouin as pg\n",
        "# Realizar un t-test independiente entre la presión arterial en reposo de pacientes\n",
        "# con enfermedad cardíaca (target == 1) y sin enfermedad cardíaca (target == 0)\n",
        "ttest_result = pg.ttest(df['trestbps'][df['target'] == 1],\n",
        "                        df['trestbps'][df['target'] == 0])\n",
        "\n",
        "# Imprimir los resultados del t-test\n",
        "print(ttest_result)"
      ]
    },
    {
      "cell_type": "markdown",
      "metadata": {
        "id": "XG8pTQQxwIyB"
      },
      "source": [
        "El valor p en el resultado del t-test indica la probabilidad de obtener los resultados observados si la hipótesis nula (que no hay diferencia entre los dos grupos) fuera verdadera. Un valor p menor que un umbral predeterminado (generalmente 0.05) sugiere que hay una diferencia significativa entre los grupos en términos de presión arterial en reposo."
      ]
    },
    {
      "cell_type": "code",
      "execution_count": null,
      "metadata": {
        "colab": {
          "base_uri": "https://localhost:8080/"
        },
        "id": "s5rN8gZswIyB",
        "outputId": "fdb36eda-e4cf-4189-fa5a-5dc7fa402ff8"
      },
      "outputs": [
        {
          "output_type": "stream",
          "name": "stdout",
          "text": [
            " Con un valor-P = 0.015846403692340767 menor que el nivel de significancia = 0.05, se rechaza la hipótesis nula \n",
            " y se concluye que hay diferencias entre las medias en la presión arterial entre los dos grupos\n"
          ]
        }
      ],
      "source": [
        "# Definir el nivel de significancia (generalmente 0.05)\n",
        "alpha = 0.05\n",
        "\n",
        "# Obtener el p-valor del resultado del t-test\n",
        "p_value = ttest_result['p-val'].values[0]\n",
        "\n",
        "# Comparar el p-valor con el nivel de significancia\n",
        "if p_value < alpha:\n",
        "    # Si el p-valor es menor que el nivel de significancia, rechazamos la hipótesis nula\n",
        "    print(f\" Con un valor-P = {p_value} menor que el nivel de significancia = {alpha}, se rechaza la hipótesis nula \\n y se concluye que hay diferencias entre las medias en la presión arterial entre los dos grupos\")\n",
        "else:\n",
        "    # Si el p-valor es mayor o igual al nivel de significancia, no rechazamos la hipótesis nula\n",
        "    print(\"No se puede rechazar la hipótesis nula. No hay evidencia significativa de diferencia en la presión arterial entre los grupos.\")"
      ]
    },
    {
      "cell_type": "markdown",
      "metadata": {
        "id": "YNHE-AjHwIyB"
      },
      "source": [
        "**11.3 Entre  variables númericas categoricas:**"
      ]
    },
    {
      "cell_type": "code",
      "execution_count": null,
      "metadata": {
        "colab": {
          "base_uri": "https://localhost:8080/",
          "height": 581
        },
        "id": "pYmbnFjgwIyC",
        "outputId": "8accb5eb-40fe-46b2-f8b0-314656b337b9"
      },
      "outputs": [
        {
          "output_type": "display_data",
          "data": {
            "text/plain": [
              "<Figure size 800x600 with 1 Axes>"
            ],
            "image/png": "[encoded data removed]"
          },
          "metadata": {}
        }
      ],
      "source": [
        "custom_colors = ['#3498db', '#e74c3c']\n",
        "\n",
        "# Configuración del estilo\n",
        "sns.set(style=\"whitegrid\")\n",
        "plt.figure(figsize=(8, 6))\n",
        "ax = sns.countplot(x=df['fbs'], hue=df[\"target\"], palette=custom_colors)\n",
        "plt.title(\"Distribución de Enfermedad Cardíaca por Niveles de Azúcar en Sangre en Ayunas\", fontsize=16)\n",
        "plt.xlabel(\"Nivel de Azúcar en Sangre en Ayunas (fbs)\", fontsize=14)\n",
        "plt.ylabel(\"Número de Pacientes\", fontsize=14)\n",
        "plt.xticks([0, 1], [\"Normal (<= 120 mg/dl)\", \"Alto (> 120 mg/dl)\"], fontsize=12)\n",
        "plt.legend(title='¿Enfermo?', labels=['Sin enfermedad', 'Con enfermedad'], title_fontsize='12', fontsize='10')\n",
        "\n",
        "# Añadir texto en las barras\n",
        "for p in ax.patches:\n",
        "    ax.annotate(f'{p.get_height()}', (p.get_x() + p.get_width() / 2., p.get_height()),\n",
        "                ha='center', va='center', xytext=(0, 10), textcoords='offset points', fontsize=12, color='black')\n",
        "\n",
        "# Mostrar el gráfico\n",
        "plt.show()"
      ]
    },
    {
      "cell_type": "markdown",
      "metadata": {
        "id": "UkPf1cVxwIyC"
      },
      "source": [
        "### Distribución de Enfermedad Cardíaca por Niveles de Azúcar en Sangre en Ayunas:\n",
        "\n",
        "**Conclusión:** Se puede observar que la diferencia entre pacientes efermos y no enfermos con niveles de azucar normales y altos no es significativa, por lo tanto se purede concluir que el nivel de azucar no es un indicador contundente de presencia de enfermedad."
      ]
    },
    {
      "cell_type": "code",
      "execution_count": null,
      "metadata": {
        "colab": {
          "base_uri": "https://localhost:8080/",
          "height": 340
        },
        "id": "rkXuD-JDwIyC",
        "outputId": "3f842333-543e-43a4-f830-4252c4eda849"
      },
      "outputs": [
        {
          "output_type": "execute_result",
          "data": {
            "text/plain": [
              "<matplotlib.legend.Legend at 0x7dae85f23340>"
            ]
          },
          "metadata": {},
          "execution_count": 68
        },
        {
          "output_type": "display_data",
          "data": {
            "text/plain": [
              "<Figure size 600x300 with 1 Axes>"
            ],
            "image/png": "[encoded data removed]"
          },
          "metadata": {}
        }
      ],
      "source": [
        "\n",
        "# Crear una rejilla de gráficos de acuerdo a la columna 'sex', que indica el género de los pacientes\n",
        "g = sns.FacetGrid(df, hue=\"sex\", aspect=2)\n",
        "\n",
        "# Mapear un gráfico de densidad a la rejilla para la presión arterial en reposo ('trestbps')\n",
        "g.map(sns.kdeplot, 'trestbps', fill=True)\n",
        "\n",
        "# Agregar un título al gráfico\n",
        "plt.title('Distribución de la Presión Arterial en Reposo por género')\n",
        "\n",
        "# Añadir leyenda al gráfico\n",
        "plt.legend(labels=['Femenino', 'Masculino'])"
      ]
    },
    {
      "cell_type": "markdown",
      "metadata": {
        "id": "TMHjh2K0wIyC"
      },
      "source": [
        "### Conclusión de  la distribución de la Presión Arterial en Reposo por género:\n",
        "\n",
        "**Conclusión:** No hay uma superposiciòn significativa enttre las dos curva, sin embargo sse podria concluir que hay uan leve mayor presiòn arterial en las mujeres que en los hombres."
      ]
    },
    {
      "cell_type": "code",
      "execution_count": null,
      "metadata": {
        "colab": {
          "base_uri": "https://localhost:8080/",
          "height": 340
        },
        "id": "6WS5bpokwIyC",
        "outputId": "742a587b-501e-45dc-e81e-311423ea5ebe"
      },
      "outputs": [
        {
          "output_type": "display_data",
          "data": {
            "text/plain": [
              "<Figure size 600x300 with 1 Axes>"
            ],
            "image/png": "[encoded data removed]"
          },
          "metadata": {}
        },
        {
          "output_type": "stream",
          "name": "stdout",
          "text": [
            "Ante mayor sea la frecuencia cardíaca alcanzada, menor es la posibilidad de tener un ataque al corazón\n"
          ]
        }
      ],
      "source": [
        "# Crear una rejilla de gráficos de acuerdo a la columna 'target', que indica la presencia o ausencia de enfermedad cardíaca\n",
        "g = sns.FacetGrid(df, hue=\"target\", aspect=2)\n",
        "\n",
        "# Mapear un gráfico de densidad a la rejilla para la frecuencia cardíaca máxima alcanzada ('thalach')\n",
        "g.map(sns.kdeplot, 'thalach', fill=True)\n",
        "\n",
        "# Agregar un título al gráfico\n",
        "plt.title('Distribución de frecuencia cardiaca max. por target')\n",
        "\n",
        "# Añadir leyenda al gráfico\n",
        "plt.legend(labels=['Sin enfermedad', 'Con enfermedad'])\n",
        "\n",
        "# Mostrar el gráfico\n",
        "plt.show()\n",
        "\n",
        "# Imprimir un mensaje explicativo sobre la interpretación del resultado\n",
        "print(\"Ante mayor sea la frecuencia cardíaca alcanzada, menor es la posibilidad de tener un ataque al corazón\")"
      ]
    },
    {
      "cell_type": "markdown",
      "metadata": {
        "id": "c1fgSu31wIyC"
      },
      "source": [
        "###  Conclusión de la distribución de frecuencia cardiaca max. por target:\n",
        "\n",
        "**Conclusión:** sse puede concluir que las personas enfermas tienen una menor frecuencia cardiaca."
      ]
    },
    {
      "cell_type": "markdown",
      "metadata": {
        "id": "24Ye-QgjwIyC"
      },
      "source": [
        "**Analisis de variables cuantitativas- Test chi -square**:\n",
        "\n",
        "Usando las tablas de contingencias mapear la relación entre variales cualitativas. el objetivo de este test es comparar la suma de diferencias al cuadrado (observado-esperado), entre lo que estamos observando. Esto permite cuantificar la magnitud de las distancias,comparar las con la distribución chi-square y decirdir si podemos afirmar que las variables estn relacionadas significativamente.\n",
        "\n",
        "![image.png](data:image/png;base64,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)\n"
      ]
    },
    {
      "cell_type": "code",
      "execution_count": 10,
      "metadata": {
        "id": "4mBeb_QFwIyD"
      },
      "outputs": [],
      "source": [
        "from scipy.stats import chi2_contingency"
      ]
    },
    {
      "cell_type": "code",
      "execution_count": 8,
      "metadata": {
        "colab": {
          "base_uri": "https://localhost:8080/",
          "height": 174
        },
        "id": "nm7wlIvKwIyD",
        "outputId": "5e723022-4970-43ac-ae39-90da9ac696a2"
      },
      "outputs": [
        {
          "output_type": "execute_result",
          "data": {
            "text/plain": [
              "ca      0.0  1.0  2.0  3.0  All\n",
              "target                         \n",
              "0       130   21    7    3  161\n",
              "1        46   44   31   17  138\n",
              "All     176   65   38   20  299"
            ],
            "text/html": [
              "\n",
              "  <div id=\"df-4a5272b0-78c3-42e5-9855-7d0358b4534a\" class=\"colab-df-container\">\n",
              "    <div>\n",
              "<style scoped>\n",
              "    .dataframe tbody tr th:only-of-type {\n",
              "        vertical-align: middle;\n",
              "    }\n",
              "\n",
              "    .dataframe tbody tr th {\n",
              "        vertical-align: top;\n",
              "    }\n",
              "\n",
              "    .dataframe thead th {\n",
              "        text-align: right;\n",
              "    }\n",
              "</style>\n",
              "<table border=\"1\" class=\"dataframe\">\n",
              "  <thead>\n",
              "    <tr style=\"text-align: right;\">\n",
              "      <th>ca</th>\n",
              "      <th>0.0</th>\n",
              "      <th>1.0</th>\n",
              "      <th>2.0</th>\n",
              "      <th>3.0</th>\n",
              "      <th>All</th>\n",
              "    </tr>\n",
              "    <tr>\n",
              "      <th>target</th>\n",
              "      <th></th>\n",
              "      <th></th>\n",
              "      <th></th>\n",
              "      <th></th>\n",
              "      <th></th>\n",
              "    </tr>\n",
              "  </thead>\n",
              "  <tbody>\n",
              "    <tr>\n",
              "      <th>0</th>\n",
              "      <td>130</td>\n",
              "      <td>21</td>\n",
              "      <td>7</td>\n",
              "      <td>3</td>\n",
              "      <td>161</td>\n",
              "    </tr>\n",
              "    <tr>\n",
              "      <th>1</th>\n",
              "      <td>46</td>\n",
              "      <td>44</td>\n",
              "      <td>31</td>\n",
              "      <td>17</td>\n",
              "      <td>138</td>\n",
              "    </tr>\n",
              "    <tr>\n",
              "      <th>All</th>\n",
              "      <td>176</td>\n",
              "      <td>65</td>\n",
              "      <td>38</td>\n",
              "      <td>20</td>\n",
              "      <td>299</td>\n",
              "    </tr>\n",
              "  </tbody>\n",
              "</table>\n",
              "</div>\n",
              "    <div class=\"colab-df-buttons\">\n",
              "\n",
              "  <div class=\"colab-df-container\">\n",
              "    <button class=\"colab-df-convert\" onclick=\"convertToInteractive('df-4a5272b0-78c3-42e5-9855-7d0358b4534a')\"\n",
              "            title=\"Convert this dataframe to an interactive table.\"\n",
              "            style=\"display:none;\">\n",
              "\n",
              "  <svg xmlns=\"http://www.w3.org/2000/svg\" height=\"24px\" viewBox=\"0 -960 960 960\">\n",
              "    <path d=\"M120-120v-720h720v720H120Zm60-500h600v-160H180v160Zm220 220h160v-160H400v160Zm0 220h160v-160H400v160ZM180-400h160v-160H180v160Zm440 0h160v-160H620v160ZM180-180h160v-160H180v160Zm440 0h160v-160H620v160Z\"/>\n",
              "  </svg>\n",
              "    </button>\n",
              "\n",
              "  <style>\n",
              "    .colab-df-container {\n",
              "      display:flex;\n",
              "      gap: 12px;\n",
              "    }\n",
              "\n",
              "    .colab-df-convert {\n",
              "      background-color: #E8F0FE;\n",
              "      border: none;\n",
              "      border-radius: 50%;\n",
              "      cursor: pointer;\n",
              "      display: none;\n",
              "      fill: #1967D2;\n",
              "      height: 32px;\n",
              "      padding: 0 0 0 0;\n",
              "      width: 32px;\n",
              "    }\n",
              "\n",
              "    .colab-df-convert:hover {\n",
              "      background-color: #E2EBFA;\n",
              "      box-shadow: 0px 1px 2px rgba(60, 64, 67, 0.3), 0px 1px 3px 1px rgba(60, 64, 67, 0.15);\n",
              "      fill: #174EA6;\n",
              "    }\n",
              "\n",
              "    .colab-df-buttons div {\n",
              "      margin-bottom: 4px;\n",
              "    }\n",
              "\n",
              "    [theme=dark] .colab-df-convert {\n",
              "      background-color: #3B4455;\n",
              "      fill: #D2E3FC;\n",
              "    }\n",
              "\n",
              "    [theme=dark] .colab-df-convert:hover {\n",
              "      background-color: #434B5C;\n",
              "      box-shadow: 0px 1px 3px 1px rgba(0, 0, 0, 0.15);\n",
              "      filter: drop-shadow(0px 1px 2px rgba(0, 0, 0, 0.3));\n",
              "      fill: #FFFFFF;\n",
              "    }\n",
              "  </style>\n",
              "\n",
              "    <script>\n",
              "      const buttonEl =\n",
              "        document.querySelector('#df-4a5272b0-78c3-42e5-9855-7d0358b4534a button.colab-df-convert');\n",
              "      buttonEl.style.display =\n",
              "        google.colab.kernel.accessAllowed ? 'block' : 'none';\n",
              "\n",
              "      async function convertToInteractive(key) {\n",
              "        const element = document.querySelector('#df-4a5272b0-78c3-42e5-9855-7d0358b4534a');\n",
              "        const dataTable =\n",
              "          await google.colab.kernel.invokeFunction('convertToInteractive',\n",
              "                                                    [key], {});\n",
              "        if (!dataTable) return;\n",
              "\n",
              "        const docLinkHtml = 'Like what you see? Visit the ' +\n",
              "          '<a target=\"_blank\" href=https://colab.research.google.com/notebooks/data_table.ipynb>data table notebook</a>'\n",
              "          + ' to learn more about interactive tables.';\n",
              "        element.innerHTML = '';\n",
              "        dataTable['output_type'] = 'display_data';\n",
              "        await google.colab.output.renderOutput(dataTable, element);\n",
              "        const docLink = document.createElement('div');\n",
              "        docLink.innerHTML = docLinkHtml;\n",
              "        element.appendChild(docLink);\n",
              "      }\n",
              "    </script>\n",
              "  </div>\n",
              "\n",
              "\n",
              "<div id=\"df-7ac142b8-2d1b-413d-b7ae-84c7f05f72fc\">\n",
              "  <button class=\"colab-df-quickchart\" onclick=\"quickchart('df-7ac142b8-2d1b-413d-b7ae-84c7f05f72fc')\"\n",
              "            title=\"Suggest charts\"\n",
              "            style=\"display:none;\">\n",
              "\n",
              "<svg xmlns=\"http://www.w3.org/2000/svg\" height=\"24px\"viewBox=\"0 0 24 24\"\n",
              "     width=\"24px\">\n",
              "    <g>\n",
              "        <path d=\"M19 3H5c-1.1 0-2 .9-2 2v14c0 1.1.9 2 2 2h14c1.1 0 2-.9 2-2V5c0-1.1-.9-2-2-2zM9 17H7v-7h2v7zm4 0h-2V7h2v10zm4 0h-2v-4h2v4z\"/>\n",
              "    </g>\n",
              "</svg>\n",
              "  </button>\n",
              "\n",
              "<style>\n",
              "  .colab-df-quickchart {\n",
              "      --bg-color: #E8F0FE;\n",
              "      --fill-color: #1967D2;\n",
              "      --hover-bg-color: #E2EBFA;\n",
              "      --hover-fill-color: #174EA6;\n",
              "      --disabled-fill-color: #AAA;\n",
              "      --disabled-bg-color: #DDD;\n",
              "  }\n",
              "\n",
              "  [theme=dark] .colab-df-quickchart {\n",
              "      --bg-color: #3B4455;\n",
              "      --fill-color: #D2E3FC;\n",
              "      --hover-bg-color: #434B5C;\n",
              "      --hover-fill-color: #FFFFFF;\n",
              "      --disabled-bg-color: #3B4455;\n",
              "      --disabled-fill-color: #666;\n",
              "  }\n",
              "\n",
              "  .colab-df-quickchart {\n",
              "    background-color: var(--bg-color);\n",
              "    border: none;\n",
              "    border-radius: 50%;\n",
              "    cursor: pointer;\n",
              "    display: none;\n",
              "    fill: var(--fill-color);\n",
              "    height: 32px;\n",
              "    padding: 0;\n",
              "    width: 32px;\n",
              "  }\n",
              "\n",
              "  .colab-df-quickchart:hover {\n",
              "    background-color: var(--hover-bg-color);\n",
              "    box-shadow: 0 1px 2px rgba(60, 64, 67, 0.3), 0 1px 3px 1px rgba(60, 64, 67, 0.15);\n",
              "    fill: var(--button-hover-fill-color);\n",
              "  }\n",
              "\n",
              "  .colab-df-quickchart-complete:disabled,\n",
              "  .colab-df-quickchart-complete:disabled:hover {\n",
              "    background-color: var(--disabled-bg-color);\n",
              "    fill: var(--disabled-fill-color);\n",
              "    box-shadow: none;\n",
              "  }\n",
              "\n",
              "  .colab-df-spinner {\n",
              "    border: 2px solid var(--fill-color);\n",
              "    border-color: transparent;\n",
              "    border-bottom-color: var(--fill-color);\n",
              "    animation:\n",
              "      spin 1s steps(1) infinite;\n",
              "  }\n",
              "\n",
              "  @keyframes spin {\n",
              "    0% {\n",
              "      border-color: transparent;\n",
              "      border-bottom-color: var(--fill-color);\n",
              "      border-left-color: var(--fill-color);\n",
              "    }\n",
              "    20% {\n",
              "      border-color: transparent;\n",
              "      border-left-color: var(--fill-color);\n",
              "      border-top-color: var(--fill-color);\n",
              "    }\n",
              "    30% {\n",
              "      border-color: transparent;\n",
              "      border-left-color: var(--fill-color);\n",
              "      border-top-color: var(--fill-color);\n",
              "      border-right-color: var(--fill-color);\n",
              "    }\n",
              "    40% {\n",
              "      border-color: transparent;\n",
              "      border-right-color: var(--fill-color);\n",
              "      border-top-color: var(--fill-color);\n",
              "    }\n",
              "    60% {\n",
              "      border-color: transparent;\n",
              "      border-right-color: var(--fill-color);\n",
              "    }\n",
              "    80% {\n",
              "      border-color: transparent;\n",
              "      border-right-color: var(--fill-color);\n",
              "      border-bottom-color: var(--fill-color);\n",
              "    }\n",
              "    90% {\n",
              "      border-color: transparent;\n",
              "      border-bottom-color: var(--fill-color);\n",
              "    }\n",
              "  }\n",
              "</style>\n",
              "\n",
              "  <script>\n",
              "    async function quickchart(key) {\n",
              "      const quickchartButtonEl =\n",
              "        document.querySelector('#' + key + ' button');\n",
              "      quickchartButtonEl.disabled = true;  // To prevent multiple clicks.\n",
              "      quickchartButtonEl.classList.add('colab-df-spinner');\n",
              "      try {\n",
              "        const charts = await google.colab.kernel.invokeFunction(\n",
              "            'suggestCharts', [key], {});\n",
              "      } catch (error) {\n",
              "        console.error('Error during call to suggestCharts:', error);\n",
              "      }\n",
              "      quickchartButtonEl.classList.remove('colab-df-spinner');\n",
              "      quickchartButtonEl.classList.add('colab-df-quickchart-complete');\n",
              "    }\n",
              "    (() => {\n",
              "      let quickchartButtonEl =\n",
              "        document.querySelector('#df-7ac142b8-2d1b-413d-b7ae-84c7f05f72fc button');\n",
              "      quickchartButtonEl.style.display =\n",
              "        google.colab.kernel.accessAllowed ? 'block' : 'none';\n",
              "    })();\n",
              "  </script>\n",
              "</div>\n",
              "\n",
              "  <div id=\"id_27f3a483-4ac6-4205-8eab-a8d0a2b08cca\">\n",
              "    <style>\n",
              "      .colab-df-generate {\n",
              "        background-color: #E8F0FE;\n",
              "        border: none;\n",
              "        border-radius: 50%;\n",
              "        cursor: pointer;\n",
              "        display: none;\n",
              "        fill: #1967D2;\n",
              "        height: 32px;\n",
              "        padding: 0 0 0 0;\n",
              "        width: 32px;\n",
              "      }\n",
              "\n",
              "      .colab-df-generate:hover {\n",
              "        background-color: #E2EBFA;\n",
              "        box-shadow: 0px 1px 2px rgba(60, 64, 67, 0.3), 0px 1px 3px 1px rgba(60, 64, 67, 0.15);\n",
              "        fill: #174EA6;\n",
              "      }\n",
              "\n",
              "      [theme=dark] .colab-df-generate {\n",
              "        background-color: #3B4455;\n",
              "        fill: #D2E3FC;\n",
              "      }\n",
              "\n",
              "      [theme=dark] .colab-df-generate:hover {\n",
              "        background-color: #434B5C;\n",
              "        box-shadow: 0px 1px 3px 1px rgba(0, 0, 0, 0.15);\n",
              "        filter: drop-shadow(0px 1px 2px rgba(0, 0, 0, 0.3));\n",
              "        fill: #FFFFFF;\n",
              "      }\n",
              "    </style>\n",
              "    <button class=\"colab-df-generate\" onclick=\"generateWithVariable('observados')\"\n",
              "            title=\"Generate code using this dataframe.\"\n",
              "            style=\"display:none;\">\n",
              "\n",
              "  <svg xmlns=\"http://www.w3.org/2000/svg\" height=\"24px\"viewBox=\"0 0 24 24\"\n",
              "       width=\"24px\">\n",
              "    <path d=\"M7,19H8.4L18.45,9,17,7.55,7,17.6ZM5,21V16.75L18.45,3.32a2,2,0,0,1,2.83,0l1.4,1.43a1.91,1.91,0,0,1,.58,1.4,1.91,1.91,0,0,1-.58,1.4L9.25,21ZM18.45,9,17,7.55Zm-12,3A5.31,5.31,0,0,0,4.9,8.1,5.31,5.31,0,0,0,1,6.5,5.31,5.31,0,0,0,4.9,4.9,5.31,5.31,0,0,0,6.5,1,5.31,5.31,0,0,0,8.1,4.9,5.31,5.31,0,0,0,12,6.5,5.46,5.46,0,0,0,6.5,12Z\"/>\n",
              "  </svg>\n",
              "    </button>\n",
              "    <script>\n",
              "      (() => {\n",
              "      const buttonEl =\n",
              "        document.querySelector('#id_27f3a483-4ac6-4205-8eab-a8d0a2b08cca button.colab-df-generate');\n",
              "      buttonEl.style.display =\n",
              "        google.colab.kernel.accessAllowed ? 'block' : 'none';\n",
              "\n",
              "      buttonEl.onclick = () => {\n",
              "        google.colab.notebook.generateWithVariable('observados');\n",
              "      }\n",
              "      })();\n",
              "    </script>\n",
              "  </div>\n",
              "\n",
              "    </div>\n",
              "  </div>\n"
            ],
            "application/vnd.google.colaboratory.intrinsic+json": {
              "type": "dataframe",
              "variable_name": "observados",
              "summary": "{\n  \"name\": \"observados\",\n  \"rows\": 3,\n  \"fields\": [\n    {\n      \"column\": 0.0,\n      \"properties\": {\n        \"dtype\": \"number\",\n        \"std\": 65,\n        \"min\": 46,\n        \"max\": 176,\n        \"num_unique_values\": 3,\n        \"samples\": [\n          130,\n          46,\n          176\n        ],\n        \"semantic_type\": \"\",\n        \"description\": \"\"\n      }\n    },\n    {\n      \"column\": 1.0,\n      \"properties\": {\n        \"dtype\": \"number\",\n        \"std\": 22,\n        \"min\": 21,\n        \"max\": 65,\n        \"num_unique_values\": 3,\n        \"samples\": [\n          21,\n          44,\n          65\n        ],\n        \"semantic_type\": \"\",\n        \"description\": \"\"\n      }\n    },\n    {\n      \"column\": 2.0,\n      \"properties\": {\n        \"dtype\": \"number\",\n        \"std\": 16,\n        \"min\": 7,\n        \"max\": 38,\n        \"num_unique_values\": 3,\n        \"samples\": [\n          7,\n          31,\n          38\n        ],\n        \"semantic_type\": \"\",\n        \"description\": \"\"\n      }\n    },\n    {\n      \"column\": 3.0,\n      \"properties\": {\n        \"dtype\": \"number\",\n        \"std\": 9,\n        \"min\": 3,\n        \"max\": 20,\n        \"num_unique_values\": 3,\n        \"samples\": [\n          3,\n          17,\n          20\n        ],\n        \"semantic_type\": \"\",\n        \"description\": \"\"\n      }\n    },\n    {\n      \"column\": \"All\",\n      \"properties\": {\n        \"dtype\": \"number\",\n        \"std\": 87,\n        \"min\": 138,\n        \"max\": 299,\n        \"num_unique_values\": 3,\n        \"samples\": [\n          161,\n          138,\n          299\n        ],\n        \"semantic_type\": \"\",\n        \"description\": \"\"\n      }\n    }\n  ]\n}"
            }
          },
          "metadata": {},
          "execution_count": 8
        }
      ],
      "source": [
        "observados = pd.crosstab(index =df['target'], columns =\n",
        "                                                        df['ca'],\n",
        "                                                        margins =True\n",
        "                                                        )\n",
        "observados"
      ]
    },
    {
      "cell_type": "code",
      "execution_count": 11,
      "metadata": {
        "colab": {
          "base_uri": "https://localhost:8080/"
        },
        "id": "bMbQjetBwIyD",
        "outputId": "bcbae1ce-9d59-4025-c9aa-d7e0398fdcbc"
      },
      "outputs": [
        {
          "output_type": "execute_result",
          "data": {
            "text/plain": [
              "Chi2ContingencyResult(statistic=71.84314194577351, pvalue=2.1092163554544226e-12, dof=8, expected_freq=array([[ 94.76923077,  35.        ,  20.46153846,  10.76923077,\n",
              "        161.        ],\n",
              "       [ 81.23076923,  30.        ,  17.53846154,   9.23076923,\n",
              "        138.        ],\n",
              "       [176.        ,  65.        ,  38.        ,  20.        ,\n",
              "        299.        ]]))"
            ]
          },
          "metadata": {},
          "execution_count": 11
        }
      ],
      "source": [
        "test = chi2_contingency(observados)\n",
        "test"
      ]
    },
    {
      "cell_type": "code",
      "execution_count": 12,
      "metadata": {
        "colab": {
          "base_uri": "https://localhost:8080/",
          "height": 143
        },
        "id": "mRiHjJ7ywIyD",
        "outputId": "177b79ea-2342-4386-e211-964d24ee9493"
      },
      "outputs": [
        {
          "output_type": "execute_result",
          "data": {
            "text/plain": [
              "            0     1          2          3      4\n",
              "0   94.769231  35.0  20.461538  10.769231  161.0\n",
              "1   81.230769  30.0  17.538462   9.230769  138.0\n",
              "2  176.000000  65.0  38.000000  20.000000  299.0"
            ],
            "text/html": [
              "\n",
              "  <div id=\"df-6633b8b1-a571-4826-aeb5-25b34ea634b0\" class=\"colab-df-container\">\n",
              "    <div>\n",
              "<style scoped>\n",
              "    .dataframe tbody tr th:only-of-type {\n",
              "        vertical-align: middle;\n",
              "    }\n",
              "\n",
              "    .dataframe tbody tr th {\n",
              "        vertical-align: top;\n",
              "    }\n",
              "\n",
              "    .dataframe thead th {\n",
              "        text-align: right;\n",
              "    }\n",
              "</style>\n",
              "<table border=\"1\" class=\"dataframe\">\n",
              "  <thead>\n",
              "    <tr style=\"text-align: right;\">\n",
              "      <th></th>\n",
              "      <th>0</th>\n",
              "      <th>1</th>\n",
              "      <th>2</th>\n",
              "      <th>3</th>\n",
              "      <th>4</th>\n",
              "    </tr>\n",
              "  </thead>\n",
              "  <tbody>\n",
              "    <tr>\n",
              "      <th>0</th>\n",
              "      <td>94.769231</td>\n",
              "      <td>35.0</td>\n",
              "      <td>20.461538</td>\n",
              "      <td>10.769231</td>\n",
              "      <td>161.0</td>\n",
              "    </tr>\n",
              "    <tr>\n",
              "      <th>1</th>\n",
              "      <td>81.230769</td>\n",
              "      <td>30.0</td>\n",
              "      <td>17.538462</td>\n",
              "      <td>9.230769</td>\n",
              "      <td>138.0</td>\n",
              "    </tr>\n",
              "    <tr>\n",
              "      <th>2</th>\n",
              "      <td>176.000000</td>\n",
              "      <td>65.0</td>\n",
              "      <td>38.000000</td>\n",
              "      <td>20.000000</td>\n",
              "      <td>299.0</td>\n",
              "    </tr>\n",
              "  </tbody>\n",
              "</table>\n",
              "</div>\n",
              "    <div class=\"colab-df-buttons\">\n",
              "\n",
              "  <div class=\"colab-df-container\">\n",
              "    <button class=\"colab-df-convert\" onclick=\"convertToInteractive('df-6633b8b1-a571-4826-aeb5-25b34ea634b0')\"\n",
              "            title=\"Convert this dataframe to an interactive table.\"\n",
              "            style=\"display:none;\">\n",
              "\n",
              "  <svg xmlns=\"http://www.w3.org/2000/svg\" height=\"24px\" viewBox=\"0 -960 960 960\">\n",
              "    <path d=\"M120-120v-720h720v720H120Zm60-500h600v-160H180v160Zm220 220h160v-160H400v160Zm0 220h160v-160H400v160ZM180-400h160v-160H180v160Zm440 0h160v-160H620v160ZM180-180h160v-160H180v160Zm440 0h160v-160H620v160Z\"/>\n",
              "  </svg>\n",
              "    </button>\n",
              "\n",
              "  <style>\n",
              "    .colab-df-container {\n",
              "      display:flex;\n",
              "      gap: 12px;\n",
              "    }\n",
              "\n",
              "    .colab-df-convert {\n",
              "      background-color: #E8F0FE;\n",
              "      border: none;\n",
              "      border-radius: 50%;\n",
              "      cursor: pointer;\n",
              "      display: none;\n",
              "      fill: #1967D2;\n",
              "      height: 32px;\n",
              "      padding: 0 0 0 0;\n",
              "      width: 32px;\n",
              "    }\n",
              "\n",
              "    .colab-df-convert:hover {\n",
              "      background-color: #E2EBFA;\n",
              "      box-shadow: 0px 1px 2px rgba(60, 64, 67, 0.3), 0px 1px 3px 1px rgba(60, 64, 67, 0.15);\n",
              "      fill: #174EA6;\n",
              "    }\n",
              "\n",
              "    .colab-df-buttons div {\n",
              "      margin-bottom: 4px;\n",
              "    }\n",
              "\n",
              "    [theme=dark] .colab-df-convert {\n",
              "      background-color: #3B4455;\n",
              "      fill: #D2E3FC;\n",
              "    }\n",
              "\n",
              "    [theme=dark] .colab-df-convert:hover {\n",
              "      background-color: #434B5C;\n",
              "      box-shadow: 0px 1px 3px 1px rgba(0, 0, 0, 0.15);\n",
              "      filter: drop-shadow(0px 1px 2px rgba(0, 0, 0, 0.3));\n",
              "      fill: #FFFFFF;\n",
              "    }\n",
              "  </style>\n",
              "\n",
              "    <script>\n",
              "      const buttonEl =\n",
              "        document.querySelector('#df-6633b8b1-a571-4826-aeb5-25b34ea634b0 button.colab-df-convert');\n",
              "      buttonEl.style.display =\n",
              "        google.colab.kernel.accessAllowed ? 'block' : 'none';\n",
              "\n",
              "      async function convertToInteractive(key) {\n",
              "        const element = document.querySelector('#df-6633b8b1-a571-4826-aeb5-25b34ea634b0');\n",
              "        const dataTable =\n",
              "          await google.colab.kernel.invokeFunction('convertToInteractive',\n",
              "                                                    [key], {});\n",
              "        if (!dataTable) return;\n",
              "\n",
              "        const docLinkHtml = 'Like what you see? Visit the ' +\n",
              "          '<a target=\"_blank\" href=https://colab.research.google.com/notebooks/data_table.ipynb>data table notebook</a>'\n",
              "          + ' to learn more about interactive tables.';\n",
              "        element.innerHTML = '';\n",
              "        dataTable['output_type'] = 'display_data';\n",
              "        await google.colab.output.renderOutput(dataTable, element);\n",
              "        const docLink = document.createElement('div');\n",
              "        docLink.innerHTML = docLinkHtml;\n",
              "        element.appendChild(docLink);\n",
              "      }\n",
              "    </script>\n",
              "  </div>\n",
              "\n",
              "\n",
              "<div id=\"df-93cda25f-62c5-4168-9c46-106e1945db2f\">\n",
              "  <button class=\"colab-df-quickchart\" onclick=\"quickchart('df-93cda25f-62c5-4168-9c46-106e1945db2f')\"\n",
              "            title=\"Suggest charts\"\n",
              "            style=\"display:none;\">\n",
              "\n",
              "<svg xmlns=\"http://www.w3.org/2000/svg\" height=\"24px\"viewBox=\"0 0 24 24\"\n",
              "     width=\"24px\">\n",
              "    <g>\n",
              "        <path d=\"M19 3H5c-1.1 0-2 .9-2 2v14c0 1.1.9 2 2 2h14c1.1 0 2-.9 2-2V5c0-1.1-.9-2-2-2zM9 17H7v-7h2v7zm4 0h-2V7h2v10zm4 0h-2v-4h2v4z\"/>\n",
              "    </g>\n",
              "</svg>\n",
              "  </button>\n",
              "\n",
              "<style>\n",
              "  .colab-df-quickchart {\n",
              "      --bg-color: #E8F0FE;\n",
              "      --fill-color: #1967D2;\n",
              "      --hover-bg-color: #E2EBFA;\n",
              "      --hover-fill-color: #174EA6;\n",
              "      --disabled-fill-color: #AAA;\n",
              "      --disabled-bg-color: #DDD;\n",
              "  }\n",
              "\n",
              "  [theme=dark] .colab-df-quickchart {\n",
              "      --bg-color: #3B4455;\n",
              "      --fill-color: #D2E3FC;\n",
              "      --hover-bg-color: #434B5C;\n",
              "      --hover-fill-color: #FFFFFF;\n",
              "      --disabled-bg-color: #3B4455;\n",
              "      --disabled-fill-color: #666;\n",
              "  }\n",
              "\n",
              "  .colab-df-quickchart {\n",
              "    background-color: var(--bg-color);\n",
              "    border: none;\n",
              "    border-radius: 50%;\n",
              "    cursor: pointer;\n",
              "    display: none;\n",
              "    fill: var(--fill-color);\n",
              "    height: 32px;\n",
              "    padding: 0;\n",
              "    width: 32px;\n",
              "  }\n",
              "\n",
              "  .colab-df-quickchart:hover {\n",
              "    background-color: var(--hover-bg-color);\n",
              "    box-shadow: 0 1px 2px rgba(60, 64, 67, 0.3), 0 1px 3px 1px rgba(60, 64, 67, 0.15);\n",
              "    fill: var(--button-hover-fill-color);\n",
              "  }\n",
              "\n",
              "  .colab-df-quickchart-complete:disabled,\n",
              "  .colab-df-quickchart-complete:disabled:hover {\n",
              "    background-color: var(--disabled-bg-color);\n",
              "    fill: var(--disabled-fill-color);\n",
              "    box-shadow: none;\n",
              "  }\n",
              "\n",
              "  .colab-df-spinner {\n",
              "    border: 2px solid var(--fill-color);\n",
              "    border-color: transparent;\n",
              "    border-bottom-color: var(--fill-color);\n",
              "    animation:\n",
              "      spin 1s steps(1) infinite;\n",
              "  }\n",
              "\n",
              "  @keyframes spin {\n",
              "    0% {\n",
              "      border-color: transparent;\n",
              "      border-bottom-color: var(--fill-color);\n",
              "      border-left-color: var(--fill-color);\n",
              "    }\n",
              "    20% {\n",
              "      border-color: transparent;\n",
              "      border-left-color: var(--fill-color);\n",
              "      border-top-color: var(--fill-color);\n",
              "    }\n",
              "    30% {\n",
              "      border-color: transparent;\n",
              "      border-left-color: var(--fill-color);\n",
              "      border-top-color: var(--fill-color);\n",
              "      border-right-color: var(--fill-color);\n",
              "    }\n",
              "    40% {\n",
              "      border-color: transparent;\n",
              "      border-right-color: var(--fill-color);\n",
              "      border-top-color: var(--fill-color);\n",
              "    }\n",
              "    60% {\n",
              "      border-color: transparent;\n",
              "      border-right-color: var(--fill-color);\n",
              "    }\n",
              "    80% {\n",
              "      border-color: transparent;\n",
              "      border-right-color: var(--fill-color);\n",
              "      border-bottom-color: var(--fill-color);\n",
              "    }\n",
              "    90% {\n",
              "      border-color: transparent;\n",
              "      border-bottom-color: var(--fill-color);\n",
              "    }\n",
              "  }\n",
              "</style>\n",
              "\n",
              "  <script>\n",
              "    async function quickchart(key) {\n",
              "      const quickchartButtonEl =\n",
              "        document.querySelector('#' + key + ' button');\n",
              "      quickchartButtonEl.disabled = true;  // To prevent multiple clicks.\n",
              "      quickchartButtonEl.classList.add('colab-df-spinner');\n",
              "      try {\n",
              "        const charts = await google.colab.kernel.invokeFunction(\n",
              "            'suggestCharts', [key], {});\n",
              "      } catch (error) {\n",
              "        console.error('Error during call to suggestCharts:', error);\n",
              "      }\n",
              "      quickchartButtonEl.classList.remove('colab-df-spinner');\n",
              "      quickchartButtonEl.classList.add('colab-df-quickchart-complete');\n",
              "    }\n",
              "    (() => {\n",
              "      let quickchartButtonEl =\n",
              "        document.querySelector('#df-93cda25f-62c5-4168-9c46-106e1945db2f button');\n",
              "      quickchartButtonEl.style.display =\n",
              "        google.colab.kernel.accessAllowed ? 'block' : 'none';\n",
              "    })();\n",
              "  </script>\n",
              "</div>\n",
              "\n",
              "  <div id=\"id_276abf98-b57c-4b0a-a234-3698db3cc62a\">\n",
              "    <style>\n",
              "      .colab-df-generate {\n",
              "        background-color: #E8F0FE;\n",
              "        border: none;\n",
              "        border-radius: 50%;\n",
              "        cursor: pointer;\n",
              "        display: none;\n",
              "        fill: #1967D2;\n",
              "        height: 32px;\n",
              "        padding: 0 0 0 0;\n",
              "        width: 32px;\n",
              "      }\n",
              "\n",
              "      .colab-df-generate:hover {\n",
              "        background-color: #E2EBFA;\n",
              "        box-shadow: 0px 1px 2px rgba(60, 64, 67, 0.3), 0px 1px 3px 1px rgba(60, 64, 67, 0.15);\n",
              "        fill: #174EA6;\n",
              "      }\n",
              "\n",
              "      [theme=dark] .colab-df-generate {\n",
              "        background-color: #3B4455;\n",
              "        fill: #D2E3FC;\n",
              "      }\n",
              "\n",
              "      [theme=dark] .colab-df-generate:hover {\n",
              "        background-color: #434B5C;\n",
              "        box-shadow: 0px 1px 3px 1px rgba(0, 0, 0, 0.15);\n",
              "        filter: drop-shadow(0px 1px 2px rgba(0, 0, 0, 0.3));\n",
              "        fill: #FFFFFF;\n",
              "      }\n",
              "    </style>\n",
              "    <button class=\"colab-df-generate\" onclick=\"generateWithVariable('esperados')\"\n",
              "            title=\"Generate code using this dataframe.\"\n",
              "            style=\"display:none;\">\n",
              "\n",
              "  <svg xmlns=\"http://www.w3.org/2000/svg\" height=\"24px\"viewBox=\"0 0 24 24\"\n",
              "       width=\"24px\">\n",
              "    <path d=\"M7,19H8.4L18.45,9,17,7.55,7,17.6ZM5,21V16.75L18.45,3.32a2,2,0,0,1,2.83,0l1.4,1.43a1.91,1.91,0,0,1,.58,1.4,1.91,1.91,0,0,1-.58,1.4L9.25,21ZM18.45,9,17,7.55Zm-12,3A5.31,5.31,0,0,0,4.9,8.1,5.31,5.31,0,0,0,1,6.5,5.31,5.31,0,0,0,4.9,4.9,5.31,5.31,0,0,0,6.5,1,5.31,5.31,0,0,0,8.1,4.9,5.31,5.31,0,0,0,12,6.5,5.46,5.46,0,0,0,6.5,12Z\"/>\n",
              "  </svg>\n",
              "    </button>\n",
              "    <script>\n",
              "      (() => {\n",
              "      const buttonEl =\n",
              "        document.querySelector('#id_276abf98-b57c-4b0a-a234-3698db3cc62a button.colab-df-generate');\n",
              "      buttonEl.style.display =\n",
              "        google.colab.kernel.accessAllowed ? 'block' : 'none';\n",
              "\n",
              "      buttonEl.onclick = () => {\n",
              "        google.colab.notebook.generateWithVariable('esperados');\n",
              "      }\n",
              "      })();\n",
              "    </script>\n",
              "  </div>\n",
              "\n",
              "    </div>\n",
              "  </div>\n"
            ],
            "application/vnd.google.colaboratory.intrinsic+json": {
              "type": "dataframe",
              "variable_name": "esperados",
              "summary": "{\n  \"name\": \"esperados\",\n  \"rows\": 3,\n  \"fields\": [\n    {\n      \"column\": 0,\n      \"properties\": {\n        \"dtype\": \"number\",\n        \"std\": 51.25578814671016,\n        \"min\": 81.23076923076923,\n        \"max\": 176.0,\n        \"num_unique_values\": 3,\n        \"samples\": [\n          94.76923076923077,\n          81.23076923076923,\n          176.0\n        ],\n        \"semantic_type\": \"\",\n        \"description\": \"\"\n      }\n    },\n    {\n      \"column\": 1,\n      \"properties\": {\n        \"dtype\": \"number\",\n        \"std\": 18.929694486000912,\n        \"min\": 30.0,\n        \"max\": 65.0,\n        \"num_unique_values\": 3,\n        \"samples\": [\n          35.0,\n          30.0,\n          65.0\n        ],\n        \"semantic_type\": \"\",\n        \"description\": \"\"\n      }\n    },\n    {\n      \"column\": 2,\n      \"properties\": {\n        \"dtype\": \"number\",\n        \"std\": 11.06659062258515,\n        \"min\": 17.53846153846154,\n        \"max\": 38.0,\n        \"num_unique_values\": 3,\n        \"samples\": [\n          20.46153846153846,\n          17.53846153846154,\n          38.0\n        ],\n        \"semantic_type\": \"\",\n        \"description\": \"\"\n      }\n    },\n    {\n      \"column\": 3,\n      \"properties\": {\n        \"dtype\": \"number\",\n        \"std\": 5.8245213803079725,\n        \"min\": 9.23076923076923,\n        \"max\": 20.0,\n        \"num_unique_values\": 3,\n        \"samples\": [\n          10.76923076923077,\n          9.23076923076923,\n          20.0\n        ],\n        \"semantic_type\": \"\",\n        \"description\": \"\"\n      }\n    },\n    {\n      \"column\": 4,\n      \"properties\": {\n        \"dtype\": \"number\",\n        \"std\": 87.0765946356042,\n        \"min\": 138.0,\n        \"max\": 299.0,\n        \"num_unique_values\": 3,\n        \"samples\": [\n          161.0,\n          138.0,\n          299.0\n        ],\n        \"semantic_type\": \"\",\n        \"description\": \"\"\n      }\n    }\n  ]\n}"
            }
          },
          "metadata": {},
          "execution_count": 12
        }
      ],
      "source": [
        "esperados = pd.DataFrame(test[3])\n",
        "esperados"
      ]
    },
    {
      "cell_type": "code",
      "execution_count": 13,
      "metadata": {
        "colab": {
          "base_uri": "https://localhost:8080/",
          "height": 143
        },
        "id": "cYyXFzPBwIyD",
        "outputId": "101c33dd-8c9d-4eb7-98ef-3d1d5c8fc4ec"
      },
      "outputs": [
        {
          "output_type": "execute_result",
          "data": {
            "text/plain": [
              "       0      1      2     3      4\n",
              "0  31.28  11.55   6.75  3.55  53.14\n",
              "1  26.81   9.90   5.79  3.05  45.54\n",
              "2  58.09  21.45  12.54  6.60  98.68"
            ],
            "text/html": [
              "\n",
              "  <div id=\"df-99e21734-f4a1-4314-b1fe-1e59f1d1adb0\" class=\"colab-df-container\">\n",
              "    <div>\n",
              "<style scoped>\n",
              "    .dataframe tbody tr th:only-of-type {\n",
              "        vertical-align: middle;\n",
              "    }\n",
              "\n",
              "    .dataframe tbody tr th {\n",
              "        vertical-align: top;\n",
              "    }\n",
              "\n",
              "    .dataframe thead th {\n",
              "        text-align: right;\n",
              "    }\n",
              "</style>\n",
              "<table border=\"1\" class=\"dataframe\">\n",
              "  <thead>\n",
              "    <tr style=\"text-align: right;\">\n",
              "      <th></th>\n",
              "      <th>0</th>\n",
              "      <th>1</th>\n",
              "      <th>2</th>\n",
              "      <th>3</th>\n",
              "      <th>4</th>\n",
              "    </tr>\n",
              "  </thead>\n",
              "  <tbody>\n",
              "    <tr>\n",
              "      <th>0</th>\n",
              "      <td>31.28</td>\n",
              "      <td>11.55</td>\n",
              "      <td>6.75</td>\n",
              "      <td>3.55</td>\n",
              "      <td>53.14</td>\n",
              "    </tr>\n",
              "    <tr>\n",
              "      <th>1</th>\n",
              "      <td>26.81</td>\n",
              "      <td>9.90</td>\n",
              "      <td>5.79</td>\n",
              "      <td>3.05</td>\n",
              "      <td>45.54</td>\n",
              "    </tr>\n",
              "    <tr>\n",
              "      <th>2</th>\n",
              "      <td>58.09</td>\n",
              "      <td>21.45</td>\n",
              "      <td>12.54</td>\n",
              "      <td>6.60</td>\n",
              "      <td>98.68</td>\n",
              "    </tr>\n",
              "  </tbody>\n",
              "</table>\n",
              "</div>\n",
              "    <div class=\"colab-df-buttons\">\n",
              "\n",
              "  <div class=\"colab-df-container\">\n",
              "    <button class=\"colab-df-convert\" onclick=\"convertToInteractive('df-99e21734-f4a1-4314-b1fe-1e59f1d1adb0')\"\n",
              "            title=\"Convert this dataframe to an interactive table.\"\n",
              "            style=\"display:none;\">\n",
              "\n",
              "  <svg xmlns=\"http://www.w3.org/2000/svg\" height=\"24px\" viewBox=\"0 -960 960 960\">\n",
              "    <path d=\"M120-120v-720h720v720H120Zm60-500h600v-160H180v160Zm220 220h160v-160H400v160Zm0 220h160v-160H400v160ZM180-400h160v-160H180v160Zm440 0h160v-160H620v160ZM180-180h160v-160H180v160Zm440 0h160v-160H620v160Z\"/>\n",
              "  </svg>\n",
              "    </button>\n",
              "\n",
              "  <style>\n",
              "    .colab-df-container {\n",
              "      display:flex;\n",
              "      gap: 12px;\n",
              "    }\n",
              "\n",
              "    .colab-df-convert {\n",
              "      background-color: #E8F0FE;\n",
              "      border: none;\n",
              "      border-radius: 50%;\n",
              "      cursor: pointer;\n",
              "      display: none;\n",
              "      fill: #1967D2;\n",
              "      height: 32px;\n",
              "      padding: 0 0 0 0;\n",
              "      width: 32px;\n",
              "    }\n",
              "\n",
              "    .colab-df-convert:hover {\n",
              "      background-color: #E2EBFA;\n",
              "      box-shadow: 0px 1px 2px rgba(60, 64, 67, 0.3), 0px 1px 3px 1px rgba(60, 64, 67, 0.15);\n",
              "      fill: #174EA6;\n",
              "    }\n",
              "\n",
              "    .colab-df-buttons div {\n",
              "      margin-bottom: 4px;\n",
              "    }\n",
              "\n",
              "    [theme=dark] .colab-df-convert {\n",
              "      background-color: #3B4455;\n",
              "      fill: #D2E3FC;\n",
              "    }\n",
              "\n",
              "    [theme=dark] .colab-df-convert:hover {\n",
              "      background-color: #434B5C;\n",
              "      box-shadow: 0px 1px 3px 1px rgba(0, 0, 0, 0.15);\n",
              "      filter: drop-shadow(0px 1px 2px rgba(0, 0, 0, 0.3));\n",
              "      fill: #FFFFFF;\n",
              "    }\n",
              "  </style>\n",
              "\n",
              "    <script>\n",
              "      const buttonEl =\n",
              "        document.querySelector('#df-99e21734-f4a1-4314-b1fe-1e59f1d1adb0 button.colab-df-convert');\n",
              "      buttonEl.style.display =\n",
              "        google.colab.kernel.accessAllowed ? 'block' : 'none';\n",
              "\n",
              "      async function convertToInteractive(key) {\n",
              "        const element = document.querySelector('#df-99e21734-f4a1-4314-b1fe-1e59f1d1adb0');\n",
              "        const dataTable =\n",
              "          await google.colab.kernel.invokeFunction('convertToInteractive',\n",
              "                                                    [key], {});\n",
              "        if (!dataTable) return;\n",
              "\n",
              "        const docLinkHtml = 'Like what you see? Visit the ' +\n",
              "          '<a target=\"_blank\" href=https://colab.research.google.com/notebooks/data_table.ipynb>data table notebook</a>'\n",
              "          + ' to learn more about interactive tables.';\n",
              "        element.innerHTML = '';\n",
              "        dataTable['output_type'] = 'display_data';\n",
              "        await google.colab.output.renderOutput(dataTable, element);\n",
              "        const docLink = document.createElement('div');\n",
              "        docLink.innerHTML = docLinkHtml;\n",
              "        element.appendChild(docLink);\n",
              "      }\n",
              "    </script>\n",
              "  </div>\n",
              "\n",
              "\n",
              "<div id=\"df-b5278827-22f1-4017-82bf-7a7a796741e8\">\n",
              "  <button class=\"colab-df-quickchart\" onclick=\"quickchart('df-b5278827-22f1-4017-82bf-7a7a796741e8')\"\n",
              "            title=\"Suggest charts\"\n",
              "            style=\"display:none;\">\n",
              "\n",
              "<svg xmlns=\"http://www.w3.org/2000/svg\" height=\"24px\"viewBox=\"0 0 24 24\"\n",
              "     width=\"24px\">\n",
              "    <g>\n",
              "        <path d=\"M19 3H5c-1.1 0-2 .9-2 2v14c0 1.1.9 2 2 2h14c1.1 0 2-.9 2-2V5c0-1.1-.9-2-2-2zM9 17H7v-7h2v7zm4 0h-2V7h2v10zm4 0h-2v-4h2v4z\"/>\n",
              "    </g>\n",
              "</svg>\n",
              "  </button>\n",
              "\n",
              "<style>\n",
              "  .colab-df-quickchart {\n",
              "      --bg-color: #E8F0FE;\n",
              "      --fill-color: #1967D2;\n",
              "      --hover-bg-color: #E2EBFA;\n",
              "      --hover-fill-color: #174EA6;\n",
              "      --disabled-fill-color: #AAA;\n",
              "      --disabled-bg-color: #DDD;\n",
              "  }\n",
              "\n",
              "  [theme=dark] .colab-df-quickchart {\n",
              "      --bg-color: #3B4455;\n",
              "      --fill-color: #D2E3FC;\n",
              "      --hover-bg-color: #434B5C;\n",
              "      --hover-fill-color: #FFFFFF;\n",
              "      --disabled-bg-color: #3B4455;\n",
              "      --disabled-fill-color: #666;\n",
              "  }\n",
              "\n",
              "  .colab-df-quickchart {\n",
              "    background-color: var(--bg-color);\n",
              "    border: none;\n",
              "    border-radius: 50%;\n",
              "    cursor: pointer;\n",
              "    display: none;\n",
              "    fill: var(--fill-color);\n",
              "    height: 32px;\n",
              "    padding: 0;\n",
              "    width: 32px;\n",
              "  }\n",
              "\n",
              "  .colab-df-quickchart:hover {\n",
              "    background-color: var(--hover-bg-color);\n",
              "    box-shadow: 0 1px 2px rgba(60, 64, 67, 0.3), 0 1px 3px 1px rgba(60, 64, 67, 0.15);\n",
              "    fill: var(--button-hover-fill-color);\n",
              "  }\n",
              "\n",
              "  .colab-df-quickchart-complete:disabled,\n",
              "  .colab-df-quickchart-complete:disabled:hover {\n",
              "    background-color: var(--disabled-bg-color);\n",
              "    fill: var(--disabled-fill-color);\n",
              "    box-shadow: none;\n",
              "  }\n",
              "\n",
              "  .colab-df-spinner {\n",
              "    border: 2px solid var(--fill-color);\n",
              "    border-color: transparent;\n",
              "    border-bottom-color: var(--fill-color);\n",
              "    animation:\n",
              "      spin 1s steps(1) infinite;\n",
              "  }\n",
              "\n",
              "  @keyframes spin {\n",
              "    0% {\n",
              "      border-color: transparent;\n",
              "      border-bottom-color: var(--fill-color);\n",
              "      border-left-color: var(--fill-color);\n",
              "    }\n",
              "    20% {\n",
              "      border-color: transparent;\n",
              "      border-left-color: var(--fill-color);\n",
              "      border-top-color: var(--fill-color);\n",
              "    }\n",
              "    30% {\n",
              "      border-color: transparent;\n",
              "      border-left-color: var(--fill-color);\n",
              "      border-top-color: var(--fill-color);\n",
              "      border-right-color: var(--fill-color);\n",
              "    }\n",
              "    40% {\n",
              "      border-color: transparent;\n",
              "      border-right-color: var(--fill-color);\n",
              "      border-top-color: var(--fill-color);\n",
              "    }\n",
              "    60% {\n",
              "      border-color: transparent;\n",
              "      border-right-color: var(--fill-color);\n",
              "    }\n",
              "    80% {\n",
              "      border-color: transparent;\n",
              "      border-right-color: var(--fill-color);\n",
              "      border-bottom-color: var(--fill-color);\n",
              "    }\n",
              "    90% {\n",
              "      border-color: transparent;\n",
              "      border-bottom-color: var(--fill-color);\n",
              "    }\n",
              "  }\n",
              "</style>\n",
              "\n",
              "  <script>\n",
              "    async function quickchart(key) {\n",
              "      const quickchartButtonEl =\n",
              "        document.querySelector('#' + key + ' button');\n",
              "      quickchartButtonEl.disabled = true;  // To prevent multiple clicks.\n",
              "      quickchartButtonEl.classList.add('colab-df-spinner');\n",
              "      try {\n",
              "        const charts = await google.colab.kernel.invokeFunction(\n",
              "            'suggestCharts', [key], {});\n",
              "      } catch (error) {\n",
              "        console.error('Error during call to suggestCharts:', error);\n",
              "      }\n",
              "      quickchartButtonEl.classList.remove('colab-df-spinner');\n",
              "      quickchartButtonEl.classList.add('colab-df-quickchart-complete');\n",
              "    }\n",
              "    (() => {\n",
              "      let quickchartButtonEl =\n",
              "        document.querySelector('#df-b5278827-22f1-4017-82bf-7a7a796741e8 button');\n",
              "      quickchartButtonEl.style.display =\n",
              "        google.colab.kernel.accessAllowed ? 'block' : 'none';\n",
              "    })();\n",
              "  </script>\n",
              "</div>\n",
              "\n",
              "  <div id=\"id_ee4e75e9-783f-44bc-9ac0-f353e14abdc2\">\n",
              "    <style>\n",
              "      .colab-df-generate {\n",
              "        background-color: #E8F0FE;\n",
              "        border: none;\n",
              "        border-radius: 50%;\n",
              "        cursor: pointer;\n",
              "        display: none;\n",
              "        fill: #1967D2;\n",
              "        height: 32px;\n",
              "        padding: 0 0 0 0;\n",
              "        width: 32px;\n",
              "      }\n",
              "\n",
              "      .colab-df-generate:hover {\n",
              "        background-color: #E2EBFA;\n",
              "        box-shadow: 0px 1px 2px rgba(60, 64, 67, 0.3), 0px 1px 3px 1px rgba(60, 64, 67, 0.15);\n",
              "        fill: #174EA6;\n",
              "      }\n",
              "\n",
              "      [theme=dark] .colab-df-generate {\n",
              "        background-color: #3B4455;\n",
              "        fill: #D2E3FC;\n",
              "      }\n",
              "\n",
              "      [theme=dark] .colab-df-generate:hover {\n",
              "        background-color: #434B5C;\n",
              "        box-shadow: 0px 1px 3px 1px rgba(0, 0, 0, 0.15);\n",
              "        filter: drop-shadow(0px 1px 2px rgba(0, 0, 0, 0.3));\n",
              "        fill: #FFFFFF;\n",
              "      }\n",
              "    </style>\n",
              "    <button class=\"colab-df-generate\" onclick=\"generateWithVariable('esperados_rel')\"\n",
              "            title=\"Generate code using this dataframe.\"\n",
              "            style=\"display:none;\">\n",
              "\n",
              "  <svg xmlns=\"http://www.w3.org/2000/svg\" height=\"24px\"viewBox=\"0 0 24 24\"\n",
              "       width=\"24px\">\n",
              "    <path d=\"M7,19H8.4L18.45,9,17,7.55,7,17.6ZM5,21V16.75L18.45,3.32a2,2,0,0,1,2.83,0l1.4,1.43a1.91,1.91,0,0,1,.58,1.4,1.91,1.91,0,0,1-.58,1.4L9.25,21ZM18.45,9,17,7.55Zm-12,3A5.31,5.31,0,0,0,4.9,8.1,5.31,5.31,0,0,0,1,6.5,5.31,5.31,0,0,0,4.9,4.9,5.31,5.31,0,0,0,6.5,1,5.31,5.31,0,0,0,8.1,4.9,5.31,5.31,0,0,0,12,6.5,5.46,5.46,0,0,0,6.5,12Z\"/>\n",
              "  </svg>\n",
              "    </button>\n",
              "    <script>\n",
              "      (() => {\n",
              "      const buttonEl =\n",
              "        document.querySelector('#id_ee4e75e9-783f-44bc-9ac0-f353e14abdc2 button.colab-df-generate');\n",
              "      buttonEl.style.display =\n",
              "        google.colab.kernel.accessAllowed ? 'block' : 'none';\n",
              "\n",
              "      buttonEl.onclick = () => {\n",
              "        google.colab.notebook.generateWithVariable('esperados_rel');\n",
              "      }\n",
              "      })();\n",
              "    </script>\n",
              "  </div>\n",
              "\n",
              "    </div>\n",
              "  </div>\n"
            ],
            "application/vnd.google.colaboratory.intrinsic+json": {
              "type": "dataframe",
              "variable_name": "esperados_rel",
              "summary": "{\n  \"name\": \"esperados_rel\",\n  \"rows\": 3,\n  \"fields\": [\n    {\n      \"column\": 0,\n      \"properties\": {\n        \"dtype\": \"number\",\n        \"std\": 16.91742395677703,\n        \"min\": 26.81,\n        \"max\": 58.09,\n        \"num_unique_values\": 3,\n        \"samples\": [\n          31.28,\n          26.81,\n          58.09\n        ],\n        \"semantic_type\": \"\",\n        \"description\": \"\"\n      }\n    },\n    {\n      \"column\": 1,\n      \"properties\": {\n        \"dtype\": \"number\",\n        \"std\": 6.2467991803803,\n        \"min\": 9.9,\n        \"max\": 21.45,\n        \"num_unique_values\": 3,\n        \"samples\": [\n          11.55,\n          9.9,\n          21.45\n        ],\n        \"semantic_type\": \"\",\n        \"description\": \"\"\n      }\n    },\n    {\n      \"column\": 2,\n      \"properties\": {\n        \"dtype\": \"number\",\n        \"std\": 3.6516708504464086,\n        \"min\": 5.79,\n        \"max\": 12.54,\n        \"num_unique_values\": 3,\n        \"samples\": [\n          6.75,\n          5.79,\n          12.54\n        ],\n        \"semantic_type\": \"\",\n        \"description\": \"\"\n      }\n    },\n    {\n      \"column\": 3,\n      \"properties\": {\n        \"dtype\": \"number\",\n        \"std\": 1.9215878850575636,\n        \"min\": 3.05,\n        \"max\": 6.6,\n        \"num_unique_values\": 3,\n        \"samples\": [\n          3.55,\n          3.05,\n          6.6\n        ],\n        \"semantic_type\": \"\",\n        \"description\": \"\"\n      }\n    },\n    {\n      \"column\": 4,\n      \"properties\": {\n        \"dtype\": \"number\",\n        \"std\": 28.73879839752062,\n        \"min\": 45.54,\n        \"max\": 98.68,\n        \"num_unique_values\": 3,\n        \"samples\": [\n          53.14,\n          45.54,\n          98.68\n        ],\n        \"semantic_type\": \"\",\n        \"description\": \"\"\n      }\n    }\n  ]\n}"
            }
          },
          "metadata": {},
          "execution_count": 13
        }
      ],
      "source": [
        "#tabla von valores esperasoa relativos.\n",
        "\n",
        "esperados_rel = round(esperados.apply(lambda r : r/len(df) *100, axis =1),2)\n",
        "esperados_rel"
      ]
    },
    {
      "cell_type": "code",
      "execution_count": 14,
      "metadata": {
        "colab": {
          "base_uri": "https://localhost:8080/",
          "height": 174
        },
        "id": "9KIc43gdwIyD",
        "outputId": "4c3f83e6-e253-4ec3-c324-b2b148a09ec7"
      },
      "outputs": [
        {
          "output_type": "execute_result",
          "data": {
            "text/plain": [
              "ca        0.0    1.0    2.0   3.0    All\n",
              "target                                  \n",
              "0       42.90   6.93   2.31  0.99  53.14\n",
              "1       15.18  14.52  10.23  5.61  45.54\n",
              "All     58.09  21.45  12.54  6.60  98.68"
            ],
            "text/html": [
              "\n",
              "  <div id=\"df-7f356540-dc2d-4323-b345-8405c05b16ca\" class=\"colab-df-container\">\n",
              "    <div>\n",
              "<style scoped>\n",
              "    .dataframe tbody tr th:only-of-type {\n",
              "        vertical-align: middle;\n",
              "    }\n",
              "\n",
              "    .dataframe tbody tr th {\n",
              "        vertical-align: top;\n",
              "    }\n",
              "\n",
              "    .dataframe thead th {\n",
              "        text-align: right;\n",
              "    }\n",
              "</style>\n",
              "<table border=\"1\" class=\"dataframe\">\n",
              "  <thead>\n",
              "    <tr style=\"text-align: right;\">\n",
              "      <th>ca</th>\n",
              "      <th>0.0</th>\n",
              "      <th>1.0</th>\n",
              "      <th>2.0</th>\n",
              "      <th>3.0</th>\n",
              "      <th>All</th>\n",
              "    </tr>\n",
              "    <tr>\n",
              "      <th>target</th>\n",
              "      <th></th>\n",
              "      <th></th>\n",
              "      <th></th>\n",
              "      <th></th>\n",
              "      <th></th>\n",
              "    </tr>\n",
              "  </thead>\n",
              "  <tbody>\n",
              "    <tr>\n",
              "      <th>0</th>\n",
              "      <td>42.90</td>\n",
              "      <td>6.93</td>\n",
              "      <td>2.31</td>\n",
              "      <td>0.99</td>\n",
              "      <td>53.14</td>\n",
              "    </tr>\n",
              "    <tr>\n",
              "      <th>1</th>\n",
              "      <td>15.18</td>\n",
              "      <td>14.52</td>\n",
              "      <td>10.23</td>\n",
              "      <td>5.61</td>\n",
              "      <td>45.54</td>\n",
              "    </tr>\n",
              "    <tr>\n",
              "      <th>All</th>\n",
              "      <td>58.09</td>\n",
              "      <td>21.45</td>\n",
              "      <td>12.54</td>\n",
              "      <td>6.60</td>\n",
              "      <td>98.68</td>\n",
              "    </tr>\n",
              "  </tbody>\n",
              "</table>\n",
              "</div>\n",
              "    <div class=\"colab-df-buttons\">\n",
              "\n",
              "  <div class=\"colab-df-container\">\n",
              "    <button class=\"colab-df-convert\" onclick=\"convertToInteractive('df-7f356540-dc2d-4323-b345-8405c05b16ca')\"\n",
              "            title=\"Convert this dataframe to an interactive table.\"\n",
              "            style=\"display:none;\">\n",
              "\n",
              "  <svg xmlns=\"http://www.w3.org/2000/svg\" height=\"24px\" viewBox=\"0 -960 960 960\">\n",
              "    <path d=\"M120-120v-720h720v720H120Zm60-500h600v-160H180v160Zm220 220h160v-160H400v160Zm0 220h160v-160H400v160ZM180-400h160v-160H180v160Zm440 0h160v-160H620v160ZM180-180h160v-160H180v160Zm440 0h160v-160H620v160Z\"/>\n",
              "  </svg>\n",
              "    </button>\n",
              "\n",
              "  <style>\n",
              "    .colab-df-container {\n",
              "      display:flex;\n",
              "      gap: 12px;\n",
              "    }\n",
              "\n",
              "    .colab-df-convert {\n",
              "      background-color: #E8F0FE;\n",
              "      border: none;\n",
              "      border-radius: 50%;\n",
              "      cursor: pointer;\n",
              "      display: none;\n",
              "      fill: #1967D2;\n",
              "      height: 32px;\n",
              "      padding: 0 0 0 0;\n",
              "      width: 32px;\n",
              "    }\n",
              "\n",
              "    .colab-df-convert:hover {\n",
              "      background-color: #E2EBFA;\n",
              "      box-shadow: 0px 1px 2px rgba(60, 64, 67, 0.3), 0px 1px 3px 1px rgba(60, 64, 67, 0.15);\n",
              "      fill: #174EA6;\n",
              "    }\n",
              "\n",
              "    .colab-df-buttons div {\n",
              "      margin-bottom: 4px;\n",
              "    }\n",
              "\n",
              "    [theme=dark] .colab-df-convert {\n",
              "      background-color: #3B4455;\n",
              "      fill: #D2E3FC;\n",
              "    }\n",
              "\n",
              "    [theme=dark] .colab-df-convert:hover {\n",
              "      background-color: #434B5C;\n",
              "      box-shadow: 0px 1px 3px 1px rgba(0, 0, 0, 0.15);\n",
              "      filter: drop-shadow(0px 1px 2px rgba(0, 0, 0, 0.3));\n",
              "      fill: #FFFFFF;\n",
              "    }\n",
              "  </style>\n",
              "\n",
              "    <script>\n",
              "      const buttonEl =\n",
              "        document.querySelector('#df-7f356540-dc2d-4323-b345-8405c05b16ca button.colab-df-convert');\n",
              "      buttonEl.style.display =\n",
              "        google.colab.kernel.accessAllowed ? 'block' : 'none';\n",
              "\n",
              "      async function convertToInteractive(key) {\n",
              "        const element = document.querySelector('#df-7f356540-dc2d-4323-b345-8405c05b16ca');\n",
              "        const dataTable =\n",
              "          await google.colab.kernel.invokeFunction('convertToInteractive',\n",
              "                                                    [key], {});\n",
              "        if (!dataTable) return;\n",
              "\n",
              "        const docLinkHtml = 'Like what you see? Visit the ' +\n",
              "          '<a target=\"_blank\" href=https://colab.research.google.com/notebooks/data_table.ipynb>data table notebook</a>'\n",
              "          + ' to learn more about interactive tables.';\n",
              "        element.innerHTML = '';\n",
              "        dataTable['output_type'] = 'display_data';\n",
              "        await google.colab.output.renderOutput(dataTable, element);\n",
              "        const docLink = document.createElement('div');\n",
              "        docLink.innerHTML = docLinkHtml;\n",
              "        element.appendChild(docLink);\n",
              "      }\n",
              "    </script>\n",
              "  </div>\n",
              "\n",
              "\n",
              "<div id=\"df-0fddcde1-0532-44cd-b729-1b8e74152712\">\n",
              "  <button class=\"colab-df-quickchart\" onclick=\"quickchart('df-0fddcde1-0532-44cd-b729-1b8e74152712')\"\n",
              "            title=\"Suggest charts\"\n",
              "            style=\"display:none;\">\n",
              "\n",
              "<svg xmlns=\"http://www.w3.org/2000/svg\" height=\"24px\"viewBox=\"0 0 24 24\"\n",
              "     width=\"24px\">\n",
              "    <g>\n",
              "        <path d=\"M19 3H5c-1.1 0-2 .9-2 2v14c0 1.1.9 2 2 2h14c1.1 0 2-.9 2-2V5c0-1.1-.9-2-2-2zM9 17H7v-7h2v7zm4 0h-2V7h2v10zm4 0h-2v-4h2v4z\"/>\n",
              "    </g>\n",
              "</svg>\n",
              "  </button>\n",
              "\n",
              "<style>\n",
              "  .colab-df-quickchart {\n",
              "      --bg-color: #E8F0FE;\n",
              "      --fill-color: #1967D2;\n",
              "      --hover-bg-color: #E2EBFA;\n",
              "      --hover-fill-color: #174EA6;\n",
              "      --disabled-fill-color: #AAA;\n",
              "      --disabled-bg-color: #DDD;\n",
              "  }\n",
              "\n",
              "  [theme=dark] .colab-df-quickchart {\n",
              "      --bg-color: #3B4455;\n",
              "      --fill-color: #D2E3FC;\n",
              "      --hover-bg-color: #434B5C;\n",
              "      --hover-fill-color: #FFFFFF;\n",
              "      --disabled-bg-color: #3B4455;\n",
              "      --disabled-fill-color: #666;\n",
              "  }\n",
              "\n",
              "  .colab-df-quickchart {\n",
              "    background-color: var(--bg-color);\n",
              "    border: none;\n",
              "    border-radius: 50%;\n",
              "    cursor: pointer;\n",
              "    display: none;\n",
              "    fill: var(--fill-color);\n",
              "    height: 32px;\n",
              "    padding: 0;\n",
              "    width: 32px;\n",
              "  }\n",
              "\n",
              "  .colab-df-quickchart:hover {\n",
              "    background-color: var(--hover-bg-color);\n",
              "    box-shadow: 0 1px 2px rgba(60, 64, 67, 0.3), 0 1px 3px 1px rgba(60, 64, 67, 0.15);\n",
              "    fill: var(--button-hover-fill-color);\n",
              "  }\n",
              "\n",
              "  .colab-df-quickchart-complete:disabled,\n",
              "  .colab-df-quickchart-complete:disabled:hover {\n",
              "    background-color: var(--disabled-bg-color);\n",
              "    fill: var(--disabled-fill-color);\n",
              "    box-shadow: none;\n",
              "  }\n",
              "\n",
              "  .colab-df-spinner {\n",
              "    border: 2px solid var(--fill-color);\n",
              "    border-color: transparent;\n",
              "    border-bottom-color: var(--fill-color);\n",
              "    animation:\n",
              "      spin 1s steps(1) infinite;\n",
              "  }\n",
              "\n",
              "  @keyframes spin {\n",
              "    0% {\n",
              "      border-color: transparent;\n",
              "      border-bottom-color: var(--fill-color);\n",
              "      border-left-color: var(--fill-color);\n",
              "    }\n",
              "    20% {\n",
              "      border-color: transparent;\n",
              "      border-left-color: var(--fill-color);\n",
              "      border-top-color: var(--fill-color);\n",
              "    }\n",
              "    30% {\n",
              "      border-color: transparent;\n",
              "      border-left-color: var(--fill-color);\n",
              "      border-top-color: var(--fill-color);\n",
              "      border-right-color: var(--fill-color);\n",
              "    }\n",
              "    40% {\n",
              "      border-color: transparent;\n",
              "      border-right-color: var(--fill-color);\n",
              "      border-top-color: var(--fill-color);\n",
              "    }\n",
              "    60% {\n",
              "      border-color: transparent;\n",
              "      border-right-color: var(--fill-color);\n",
              "    }\n",
              "    80% {\n",
              "      border-color: transparent;\n",
              "      border-right-color: var(--fill-color);\n",
              "      border-bottom-color: var(--fill-color);\n",
              "    }\n",
              "    90% {\n",
              "      border-color: transparent;\n",
              "      border-bottom-color: var(--fill-color);\n",
              "    }\n",
              "  }\n",
              "</style>\n",
              "\n",
              "  <script>\n",
              "    async function quickchart(key) {\n",
              "      const quickchartButtonEl =\n",
              "        document.querySelector('#' + key + ' button');\n",
              "      quickchartButtonEl.disabled = true;  // To prevent multiple clicks.\n",
              "      quickchartButtonEl.classList.add('colab-df-spinner');\n",
              "      try {\n",
              "        const charts = await google.colab.kernel.invokeFunction(\n",
              "            'suggestCharts', [key], {});\n",
              "      } catch (error) {\n",
              "        console.error('Error during call to suggestCharts:', error);\n",
              "      }\n",
              "      quickchartButtonEl.classList.remove('colab-df-spinner');\n",
              "      quickchartButtonEl.classList.add('colab-df-quickchart-complete');\n",
              "    }\n",
              "    (() => {\n",
              "      let quickchartButtonEl =\n",
              "        document.querySelector('#df-0fddcde1-0532-44cd-b729-1b8e74152712 button');\n",
              "      quickchartButtonEl.style.display =\n",
              "        google.colab.kernel.accessAllowed ? 'block' : 'none';\n",
              "    })();\n",
              "  </script>\n",
              "</div>\n",
              "\n",
              "  <div id=\"id_8514d14d-7e22-4f35-8f0a-5bf9d2105a99\">\n",
              "    <style>\n",
              "      .colab-df-generate {\n",
              "        background-color: #E8F0FE;\n",
              "        border: none;\n",
              "        border-radius: 50%;\n",
              "        cursor: pointer;\n",
              "        display: none;\n",
              "        fill: #1967D2;\n",
              "        height: 32px;\n",
              "        padding: 0 0 0 0;\n",
              "        width: 32px;\n",
              "      }\n",
              "\n",
              "      .colab-df-generate:hover {\n",
              "        background-color: #E2EBFA;\n",
              "        box-shadow: 0px 1px 2px rgba(60, 64, 67, 0.3), 0px 1px 3px 1px rgba(60, 64, 67, 0.15);\n",
              "        fill: #174EA6;\n",
              "      }\n",
              "\n",
              "      [theme=dark] .colab-df-generate {\n",
              "        background-color: #3B4455;\n",
              "        fill: #D2E3FC;\n",
              "      }\n",
              "\n",
              "      [theme=dark] .colab-df-generate:hover {\n",
              "        background-color: #434B5C;\n",
              "        box-shadow: 0px 1px 3px 1px rgba(0, 0, 0, 0.15);\n",
              "        filter: drop-shadow(0px 1px 2px rgba(0, 0, 0, 0.3));\n",
              "        fill: #FFFFFF;\n",
              "      }\n",
              "    </style>\n",
              "    <button class=\"colab-df-generate\" onclick=\"generateWithVariable('observados_rel')\"\n",
              "            title=\"Generate code using this dataframe.\"\n",
              "            style=\"display:none;\">\n",
              "\n",
              "  <svg xmlns=\"http://www.w3.org/2000/svg\" height=\"24px\"viewBox=\"0 0 24 24\"\n",
              "       width=\"24px\">\n",
              "    <path d=\"M7,19H8.4L18.45,9,17,7.55,7,17.6ZM5,21V16.75L18.45,3.32a2,2,0,0,1,2.83,0l1.4,1.43a1.91,1.91,0,0,1,.58,1.4,1.91,1.91,0,0,1-.58,1.4L9.25,21ZM18.45,9,17,7.55Zm-12,3A5.31,5.31,0,0,0,4.9,8.1,5.31,5.31,0,0,0,1,6.5,5.31,5.31,0,0,0,4.9,4.9,5.31,5.31,0,0,0,6.5,1,5.31,5.31,0,0,0,8.1,4.9,5.31,5.31,0,0,0,12,6.5,5.46,5.46,0,0,0,6.5,12Z\"/>\n",
              "  </svg>\n",
              "    </button>\n",
              "    <script>\n",
              "      (() => {\n",
              "      const buttonEl =\n",
              "        document.querySelector('#id_8514d14d-7e22-4f35-8f0a-5bf9d2105a99 button.colab-df-generate');\n",
              "      buttonEl.style.display =\n",
              "        google.colab.kernel.accessAllowed ? 'block' : 'none';\n",
              "\n",
              "      buttonEl.onclick = () => {\n",
              "        google.colab.notebook.generateWithVariable('observados_rel');\n",
              "      }\n",
              "      })();\n",
              "    </script>\n",
              "  </div>\n",
              "\n",
              "    </div>\n",
              "  </div>\n"
            ],
            "application/vnd.google.colaboratory.intrinsic+json": {
              "type": "dataframe",
              "variable_name": "observados_rel",
              "summary": "{\n  \"name\": \"observados_rel\",\n  \"rows\": 3,\n  \"fields\": [\n    {\n      \"column\": 0.0,\n      \"properties\": {\n        \"dtype\": \"number\",\n        \"std\": 21.757767195494427,\n        \"min\": 15.18,\n        \"max\": 58.09,\n        \"num_unique_values\": 3,\n        \"samples\": [\n          42.9,\n          15.18,\n          58.09\n        ],\n        \"semantic_type\": \"\",\n        \"description\": \"\"\n      }\n    },\n    {\n      \"column\": 1.0,\n      \"properties\": {\n        \"dtype\": \"number\",\n        \"std\": 7.262499569707388,\n        \"min\": 6.93,\n        \"max\": 21.45,\n        \"num_unique_values\": 3,\n        \"samples\": [\n          6.93,\n          14.52,\n          21.45\n        ],\n        \"semantic_type\": \"\",\n        \"description\": \"\"\n      }\n    },\n    {\n      \"column\": 2.0,\n      \"properties\": {\n        \"dtype\": \"number\",\n        \"std\": 5.365249295233166,\n        \"min\": 2.31,\n        \"max\": 12.54,\n        \"num_unique_values\": 3,\n        \"samples\": [\n          2.31,\n          10.23,\n          12.54\n        ],\n        \"semantic_type\": \"\",\n        \"description\": \"\"\n      }\n    },\n    {\n      \"column\": 3.0,\n      \"properties\": {\n        \"dtype\": \"number\",\n        \"std\": 2.9943446695395637,\n        \"min\": 0.99,\n        \"max\": 6.6,\n        \"num_unique_values\": 3,\n        \"samples\": [\n          0.99,\n          5.61,\n          6.6\n        ],\n        \"semantic_type\": \"\",\n        \"description\": \"\"\n      }\n    },\n    {\n      \"column\": \"All\",\n      \"properties\": {\n        \"dtype\": \"number\",\n        \"std\": 28.73879839752062,\n        \"min\": 45.54,\n        \"max\": 98.68,\n        \"num_unique_values\": 3,\n        \"samples\": [\n          53.14,\n          45.54,\n          98.68\n        ],\n        \"semantic_type\": \"\",\n        \"description\": \"\"\n      }\n    }\n  ]\n}"
            }
          },
          "metadata": {},
          "execution_count": 14
        }
      ],
      "source": [
        "observados_rel = round(observados.apply(lambda r : r/len(df) *100, axis =1),2)\n",
        "observados_rel"
      ]
    },
    {
      "cell_type": "code",
      "execution_count": 15,
      "metadata": {
        "colab": {
          "base_uri": "https://localhost:8080/"
        },
        "id": "jhASHZicwIyD",
        "outputId": "bc62fd1c-67e9-4605-c835-587edf983b7b"
      },
      "outputs": [
        {
          "output_type": "execute_result",
          "data": {
            "text/plain": [
              "2.1092163554544226e-12"
            ]
          },
          "metadata": {},
          "execution_count": 15
        }
      ],
      "source": [
        "test[1]"
      ]
    },
    {
      "cell_type": "markdown",
      "metadata": {
        "id": "zZ6iuiluwIyD"
      },
      "source": [
        "\n",
        "### Conclusión  test chi squere:\n",
        "\n",
        "**Conclusión:** P<0.05,Hay relaciòn entre variables.P> 0.05, No hay relaciòn entre variables.\n",
        "\n",
        "\n",
        "**Tests cp VS fbs = 0.5909926846413971 Se puede afirmar que no  hay relación fuerte entre las variables**\n",
        "\n",
        "**Tests cp VS sex = 8.013108659474269e-06 Se puede afirmar que hay fuerte relación entre las variables**\n",
        "\n",
        "**Tests cp VS restecg = 0.06691116900018962 Se puede afirmar que  no hay relación entre las variables**\n",
        "\n",
        "**Tests cp VS exang = 1.4239073261163362e-33 Se puede afirmar que hay relación fuerte  entre las variables**\n",
        "\n",
        "**Tests cp VS slope = 3.63333289111837e-06 Se puede afirmar que hay relación fuerte  entre las variables**\n",
        "\n",
        "**Tests fbs VS restecg = 0.0003128297439229264 Se puede afirmar que hay relación entre las variables**\n",
        "\n",
        "**Tests slope VS fbs = 0.3617181258305092 Se puede afirmar que no hay relación entre las variables**\n",
        "\n",
        "**Tests Ca VS fbs = 1.1300878625809743e-12 Se puede afirmar que hay relación entre las variables**\n",
        "\n",
        "**Tests slope VS ca = 0.6426140997344252 Se puede afirmar que  no hay relación entre las variables**"
      ]
    },
    {
      "cell_type": "markdown",
      "metadata": {
        "id": "WtVKoSePIXSS"
      },
      "source": [
        "###**12. Ejercicio de regresion logistica:**\n",
        "\n",
        " Con el objetivo de buscar un modelo que explique las enfermedades, usamos la regresiòn logisticca que es un método estadistico utilizado para predecir la probabilidad de una variable categorica, que susalmente representa dos categorias o estados por ejemplo exito o fracaso, entra o no en incumplimiento, a diferencia de la regresión lineal que predice un valor continuo la regresión logistica estima la probabilidaa de que una observación pertenezca a una categoria.\n",
        "\n",
        "\n",
        "![image.png](data:image/png;base64,iVBORw0KGgoAAAANSUhEUgAAAkEAAACQCAYAAAAP+b8OAAAgAElEQVR4nOx9d3BV17X+d4t01XsHoYZEkwDRER1sI4JpNraxE9sYx3EcO8mb98dL5v3x5s28ycyrk7zkxeOSajuOE4OxjSm2qQYCWIAQCCSKhDrqXVe6uu33B7+9c+7RKfu0W7C+GQa455y9125rr/WtdfYxeTweLwTg9U782WQyTbgu9pvc86xglUPPetQ8rwZ6yS5WFmuZ/LbLja1SefjlSJUh9JxU28QgVIeaucRaNv95Lf0k1dd8GZX2pVAZYhB7Rq79cnJLXde69rSuYz2f50NsPrPMcxZZtD6vFUrmJv9+oT5QIjPL3OPvS1p0hJo1ICYL63pRsp6V7pFEL0uNoZL9Sst6ltsj1EBsbZhMJljFHlIjhNQzSjYFPTuAdWFqMT6EJhQpU+66lLysm63UAPPllLpXTC6xZ/TauPhysPyml2GkpB4tzyvpI63KX2vfqHmeW4YR84JArmyuDKwbo9jzLHIIPau03Wp0npIx8pdTx+07KR2ipp9Y9JbYfWI6hXUuSdWvFHo5dnLzV03ZWnWdGjnE9iU5vSZmsCldS16vF2ahH/UacK5wrAIZDT3rIGUpLdNkMunG+EjVrUTxKG2DP8bKXzBizgvVMQltkNvs9IS/DAcCJe0J9rXqz74zwhnSow5/gbvp+3vO8uWQ+p11n9JSn9px8jGCjBps1k0mkIPoT/hj0+XXJecZK0Wwj1UwKK5g9NaNrtvIftebnQaCwykyElocLiMQTLJMQj38uYcZDZ9wGKvC4C4sMQqNT42yhlT8QU3qZQzIycRViqx1qaUZhahC1vCkmIcdDB4GoM3bY6F4teR+KJmXQs8oWXNCz6jJBxC7VyuU0OlqIRTuYq1TTVhXra5h1TF65Xb4o+/5UDO3lOglOWg1iuVCU8Fm0PsTWtgZ1nQKoXsDgQnhMBYYMTkCYVX6s06+ktISDgsWK1xLfHsS+iBYPP1AbMKhisn+uY9g0mWhBKGUiGCaU6E2nqKJ0VIwosOVegB6dHQg4v4sCXlS0ItR4t8bahPXHzAyT0MJ9MofM+oZPcvUMwE1mOe0GvmkngmV9iphQUMZwWaY+BNGvhBhBHyMIKX0plSSrhCNqyYcIEUHi9GtLBOQ5e0FOe9WifcrFK6So7/lECzeNz/0yYdcqE6v0IFQvVJvF8g9yyKLkjFUk8ynJVRn9DNc8DdhI5wUpeEv/hipGRcxGeR0hFE5kEYZO3qWqSbsrHXOsrLSasJtWkOiausXg9gcULsfsLZPbi/mp3/wnX65FIJARBZMJpO6cBjAnv+gF1g3EJaOVMOm6NUevfKRuNBrYQXaS9N7zhjdBi25SkYhkGyAnkos0OtDz/wxLQhmdmcSoQ+jGexQYMSsaq1HVmZETeKn0O9iYSQxQ4jPtChlhlig1qswykMg5Wsp05+hF6E6WZNDjTBQhepUkzQpNqeF+pa1bVqZK39ByTrlPycFlv6WKkeqfKXPsKwRPRU/KwOmxggVmqP+YpqEnC4ljLxcaFApOyQW2dC6L5Ky9GT+9Bonray1nH6UswPEdJ0WB1Pp/qqaCWIRRglYqHTWcoPZ+jTC2AkEjGC0WOsMFegpbyi1nc8q+hP+6qdgGo9gksUIaHV41DD/wYBQlVsMYgSA0H1KDU8tfaAqMdrfULPh8uORk9APodCnehtpRrNqauLyRsgRKuCzCP6ek0IMtR5lKi2Ln4fhz7qlZDJyzoWC/jEaodgHavZvf0A2MToQnr5UGEGpPFrl15LMx0JbK5VPjvrXY7z4cmkNsRkNVk9RTZhJyXW5fjIylBeI8WJtL/+6mrCf0nFSEjoXgpJ7WcdaqGw9w1FqcyRZ6pZrh9A1NfpJTF41oT7uGBixDuTmMbcPlO4jcu1VypQYFeqTW+NSc12toaNVZ/JlMiQcNgl2+NuiJ5SkVkUbjMYQ8HeFF8iQTLDgm95+4MH2mLXk/ugBI+dXqM9dfzIZakOEgezjYEpZmWAEiXlU/kCwdAorpBirYIeUrHLtCqV2BgJ69q2UspJKsg/2MTKKxdQDapLh+TCagdYrN0aMceHPIT0YCT2glbn1N5SOk5q1y3K/0HhqfVmBe49e61lrSFcNBD+bwafPlND4fBpPjvLm1yX0fykopWnVQkwmLXQ2uVdp+EKqDj0mtp7PhTq0zkWW60rGXIraVlKe3pBaw3zIKUwxtlFLO1k8T9akTda6tTqUWkJjSsrk9w1riFAu1KMmdCUGMfn4YRd+GEoPqHU0hJ6Tmj9K5zP/Oa17h5wsrHsgXybWcJ8eBpCaNadrOExN3JY89yBtslrjrHIIJioxlKF1nILNC2a955sGofyEYAY3ZC2kG7WGe+VYJr3gLwf1QYGeuWBSCEa9FUhYAWmrTIwRkjJ45DxevjWs1MOTq1MtwyJVlx5epBjEGDY1ngELW8dSjhjEPHYjvFal0OpNsrARQs9rkZPbb3JOhFSdct54IBSRkv4Uek7Og9Qyv7WuE7X1styjVh8ocUJZDRStHrsUc8m6T8iV70/ote5Z7lWiV5U6xmrWphYdwyKbkB5UI6eSuer1emFWy0ToAS0JunLQg10K9KbOR7AnJWtFsPX3JPSHkWs+WOGP9uqhE4zSK0Yz48EEPUKDahGIdSVEkuhRpj+jHarCYaE+UVkRLO3kbhzBJBMfSuLEetSnJ/zZr1q8MDW5YGraZrTHK3ePEoZZKwK5pljZS38ZEkYwn1rqDUUEMnQeaAdDz/r91RYrN9lS6+KRU+hqFJscRSZUttxmrFfysJ6Jf0J1SyXW8e+VSwiToqWVyiTXv/xr3Gf4/+bKJrbRq1kMrEaDGGOoJgwgN7/VhJOVeFpC608vA4g1fCgkj9J7WWVScl2uDq3PS0FubSoNvbLMSbHUA6H6hcpn2ci1pBuwzDGt6QBS97HIoKYevk4TK1/JXGLd78hvYmEksTJZQ9RCdepp3BlpKEqNu1mpARQoiz0QNLqW+oLRu9STMlcSbiRzTMiA4i8mtX2uZmNVAn+zKXwE2sOTghoDJhDKU2udeskcaDn0MviM1HF6lB2INcPXaUIGipEpIATBrC+CDbKfzRAzkri/KaVqtVrBSuTkgptsRv6vpm5+OUohxjKIeWhynhtXJqGyxFg0VpZMjL1RAqXjLlcWXz6h3/l1qpmzeho/YsaA0g3Hn6EiLQyxkn5gkUPts0rqVsrKaJVDL3bJH/VrYRql1qJRkFpbes9pQFifi+kbLc4e2XuUkhda9a/SOgNVplKIhsPkwgXkHiWLyR+TXgxCVKHYxGBRuEoHjmWwpRSvlExK2qYFYqEZJRu0XEhCTlloNb6U0uZa5yxryCDQikAKYrLxFXIgEGi2TUuoNpSgx/hqmSf8MJOWPpTSMUrKlXpOLDSlVEahPVbMCReTJxCsa6DLVALRxGgtTEcowZ9tNKquQI0T6xxRYnjw6WLWxRzozfBBhhpWxB9zUu86ArGOAq1j/V2/0vqEwkdqHCGpZ5Wyw0QutfKohRYGdRLisHIta6Npdq0DwpqUxgXLBFdKVeo9GZV4SCxhLv51sf/L0dtC4TO50BhfJq0KjOUZ1utyjJAedDELlChQuXE1WsnpNV5qmDWhdrIytyzjy7JmxMA6f1h0ixYdKyeHGqNDqmyxe/nQa9/QIr+S57UYVmI6WapcuXkjl3Iht+7FWHupe8XWg94MqVyb1BqjLGUK3S+bExQq0HMz8Ce9H2hPUApC1LPUZBJ6dhLGYrKf1UOpQfKg97OeBlogw7vBrFO1IBDzz4g6AzE3pAwsVecEPSiDIYVQpPONyAGS8uqlnuPfE+gNRKz+QBu7RuQe+QtK6wyFzYkbkuX/0QOhGMLTc24ZNU+1ssWhACPaYETUQ496jYIiJkjN5idHR6uBEtqP9T4lckp5R1rjwlI0qliZYvKw9BNLG1lycIQofhaGSMnEZ8kf4t8rN8as5SmB3HjpOf/F2knGX681J1S/EiNOLsxqNPhznZXhULshiLGl/gJLfSy6SiiUw7ou5MJ+WkIyrFBrCInJpgcrqJb1EEt1YNWLLOE2JbKIhRmV7B1yukwNlOwTYpBlgvSOB07iwUWwjLvWPAK15aiF2ri/0vtY6g1Fj5mrUIVyh4xuEymfRSEHyxqRAuumq/ZaKEJtrpESsOSPKS1D7DcjwDq/g21u+LwiLwc5603OK9Qz4YlFJqGcFimZpKx2tSwXC5OkxVMQ+7+YLEZ4rKyepZJy1OQnaPEE/bkwtXovrF6eknWoxMNU48VpyTdheVZIh3HHVekGo3Y+6G0YsLKbWuav0PzXwxCSe8Zog1BMv0r1nRqHiG+EK93ruHVz9yy5fUJMb4n9psUxkNpD5SA1zkp0slJ2n3UcJjBBLA9qXcxK7lU7oVg6jPu7kAepFVoUv54QaqcRCGT4Q+wPiyzB5pnoBa00OGuZk/AvJsdAPYxYEwR6GHdK2V9/GZKBel6oDL0Z8glfkQ+2BaYXJRis8IeswT7GBEYZosHaXiUIljmtxPPUox6jxi5Y+lMOQkyW3kZ9IHSQkfVqYWRCZV48yOAyYv4w9iYkRouFkISgdsLIUY5qFoySUIoahkYuqUurzHLPyLEarCEQow0Co1g7/jWl1Cj3Prk+FJNNL2idN0aDNYTNEjoW+o2VHpcKZctBKDym5h6toUk1YAl1hyK7KdUOOYZG6Fmx62L3ivWr3vk+Um1SOm5Se6WQgeCvcWetR82+yv1bSGfrvddbxW4MFu9ZzeY/iW82WOeCVqMnWNbINxFyjppexhKLoTQJ7TBaf/t7f5Bz5rTm0sg986Dsh/5oh1ntAtcinJ4NU5szpKU+oX8bCa3eaiBhVAIqvwzuHxaZhLw/Fq+Fn2+kVl7u32qhRIZQCAsYzbqprfdB2VCEECrhYinWI9jGR87I0csAEmPWgq0/WCBFchg9P33CYdxQmBp6UglYwzNqvHo56lTN82oYAiVUoBqo6Tt+rJXlGTUyic0h1g1HLRXOIhuLPFKKjGV9yNXBymLoGW6R6ls91zbrWgoEjU/AX6NKGSG5NuiluFnXgVjdwbghsoZDhZ6TC2mJpQMEAnqlICgJ30u12Yi+UbMHaZ2fWkgBofpUnRjNIkgoQA8jJRiVTKDA7a9QmB9qvTVWOlsNAt1vDwoDpLVsJeG0QEIvJjVYoHaDDJbIhL8QaD2hBcHGSluFrEN+B4t590ZuBkqhxgsTs4aVWslK+0CKkVDLaLEadFpZLqmytd5rtGEhlmgnJJuY1yS2RsTKFJND6roSGOVtSiWLsq57uXbqNd5G5Q1qMYSM9HDF2BA1CJaQPv9eoVCXPzb+YGHRlIRole53LOXLPa8FUs6y1Nxm1blK87FE3w6TKiCUrVAhqG2PGuVqRN8ZHXZ7UMBdAHILSkgR85VIMPWrWnnUzGF/bQ5S4dxgcb70xoPaLqWQCn1NQhyTfaRcFwqGw1jzFbTc8yDAZAqNcygmF8bfx4rkQ5H/c/+wMEFC9xops5HXxe6TMzICHSZ+0EJABHrJ9CC3TUkdaurU6gyo2RP0xjdl/5WConH0eDwTeoyFNtOSsKeVtmbx4qWuC92jpE7WDlaTgGpEgqpcuI9FJikjQY1MQhAbQyGGJhhoa6WhSSHjIhDtUBpy1UMusbXAOpYsYUwj9IoYtIQT9NQ1RpYpBz3nq1EhTbFy5MoScwSk9jUt8rGwm0bNTy1Gk9a9Wg2UhMVY5FOdGK1GqFADS4xe6QTyZ78Eg1fCh783ejVjxC1D7A/gvwQ/LW3QCr3Hi1teKLCooQa1OYOT8EUg+ktujRsh0yRrpOHtMD60dqa/vDCxMsQMOTnmQqks/px0rJsnP/eFXwb3b7H7lEDO22Nli7jPCY0vN+zFv5c1CVWJ/EYYnXrPF6PXmZryWOrRm43yN/y97oUgND/59wqtI6EwU6gbVXrKL6U/lZYhBSPzSUN1PPWQe0JitB5Q4o2oHVihUA6rXNyB5z4vpgCUyih0v14TWA3rxprrokddYs9KxeulxkBIVjE5pAwhPuTaYUT4z4jwpl7OhxqGRm1oV2now4g+1KM8YkzrZRSwGuZqNkwjwhZKxjfQ4Ws1a0eJ0a5HmFvJXmOEEefPOtXAKJZTNyZoEv5HoCelEhjtCRuxQOS8JD3bpAe7GaxgNUKFNhKWzUSNQ6QVRDaPxyPLYOollxpjnrVMJQ6qkTkkRkGvekNJ506CDROYIFZvQ0rxqPUAWMpkSXZSM1HVlCnWNjXsESvEGAoxj96ocIqS/gqEASTFAok9q2STkWL7lLAqWucdK1jCIFLzRc14qvWk1TBARHbWMKbaOenxeAAAZrMZLpcLbW1tcDgcyMzMRExMjGQ9cu3iz1lWdkaqb5T0pdC9Sg0h/rOs61BJHWqhRAYl96phfdTqHb3l4D6nZL/Qsg9oZQXl1rHSMjWHw4zc8LlQu5CUlE/A72S1A2WkIcSFkNIKdo/F6PEUg1IlJbWhhQoTwwp/tSdU5igfhPkZHx9Hb28vampq8Omnn8JsNmPPnj0oKSmB1+uFxWJRXUeo9QmB0SyYP8HiOCkNpwcrQkFGI2EymYzJCVKDQC9+Ke8oGA0hAjnWTK1crB611LNq8hD8DbG+kPOgjYpPG4FglEkJjMipUAOXy4WOjg7cuHEDX3/9NU6cOIHLly9j1apVcDqdqsqU0y2Bchb8DS6TF8j26qmzQsEQ4sooxwY/qFBtBHE3On7HyXnMeibJsYaplNSpZ2KfkfkKWuhyscmuNllQC1j6SCocKkbji4UO1crIn/NSEJtDUiyeks2epW6p+uU2Xpb69ZzT/LKE+phlfmhplxg8Hg9MJhM6Ozvx6aeforq6GomJicjMzERUVBTCw8MRHh6uqmwilxJDSI8QAAu0hpK597GOHf9evdqlxqljceZY1orWlBC99ALr8yzl6KHH9IQWskIzE0QqFoptk+uhikB7JWqhx+IVgtK+YN10lZSjFmpi10rLEAKr7IHYxPxdDsA27+RYWdb7WZ9nhcPhQGJiIh5//HEsXboUBw8eRFVVleI61cjBX0tCjqVUPyipk/VerfexOGfBFjp90JgSI8KYWvS1Vl2v5nlVRhDLAtRz0spNPNYYrRSkNmwppaxGHiMXtBi7o4bVUrvpS9VtJMQYCrUGkBzLKFU2q0entW+ENgml81VvmcSgxQBiva61fCGYzfdfos3Ly0N+fj4th9XAVzvuUnpPjP1UKofWe7XeJ2Xk8J1pPeal0j5gMd6EWBEl9XDvF+sPo/SoEv2ltizW66z3iO3VYnpcqu+8Xq+4EaTEGxaj3PWE3CISgxJPQk+vQ6wfAuXR+MN7MaoOLtUpRHvyx43FW1OzYfiDPROrh4WpUlqmUNl6QC6cLCaD2vmjhOFQ+yzwd2PI7XZrGlcjjBHu/aHCVCgNxweCmVe6sWtlUJT8bgT4faxV7xgFqbWkxDEAFJ4TxGIATSJ04A+FopfnzlXuesvN9erFEKi5zSKblv4w6ll/blb+ar/X63su0CT0R7CEvfwJvRwuoxBMshiBCUwQlwZTEsvlQo5FUmo48Tc/JSEGOW9DDe0nh0AsZKl2+MtQ5c+XQIQupCAmm5CHqUfoRi3kvHl/9quc4cnXF2L3ss5BodAAeV4qFKmHIWTE2lAamlVaplbZ9WQ3AxGyUgqx+SUlh546TYlcgTA+pEJKYvf5G1JRALHrUvBhgrxe349DPugW4IMCNRNSThEE2oCRyxEINIxWAiwMUKChVl/ItY1b7oME0kdCeXNyhiFL2YFGMMgQiggmA4MgEKHHQMEsNgDfhE54UNqn1HOQ86CDqV/8sRnqlbcjdE1P+dUaB1plkGKB+HPJn4xEKECKNWEdT9b5GUzrVimMHH+jHD2psrWWF8xjGYyyaRkHKylALC6pJF7JGlKQoxelrrPUoSaHQkyBh8KkBLQlhyq5HmiQcdJLTrEwjpJQDP8Zfv6SPxwKqVAfy3NiFDOr3HJtZA0psNLxgQSfAeP/bjabRR0NLfNASeoA6z1aHAApA09N2XqvE5a9QSqE70/dL6QnjAzTqpEnWMBiV7DCZDL9PRxmREcHYwdKga/0jZp8WsoliZnBtCnw4c9x19IPaheTEsfA3+OkJTTqj3pDTSfwwV175N9ut5t+U0xLeXLQq+9CfQy0QMl6DBU9ZhS+KfNE9BV5OU+X/xv/31LlyHkQUvCndcr1ErR4Tx6PBx6Ph75iqxWkD8hJtmLlynn53LL0gpT3YrSXp/V5KZmVyK4k+VIppEJTUr8rCQmwGnlSjKocg8sCNcyy1jrEyiftGhwcRE9PD4aGhnDjxg0MDg6ipaUFly9fhs1mQ1xcHJKTkxEZGckkp9J+0SsvLpAsgxoYqTvkmEmtzBkrApXzyLJPcH/jwohxUarjWMqUGkOrEuYjkJZhIKg5rpdGPD0uW8QSLiBleDweOJ1OdHV1ISYmBklJSarkGR4eRm9vLxISEuhXq9X0DXnG396OPw1Yfz7vDwUWKp5ZqMjJCjJvXS4Xbt26hXPnzqGxsRGNjY3Izc2F1WrFV199hdbWVkyfPh3Lly9Hbm7uA9cPXGhtm5GOwoMGI+fRZN9zcoKCHYFQKNxFKsS2yFmuJHTldDrR0NCAq1evoq2tDWVlZViyZIlieVwuFxoaGnDo0CGkpqZi+fLlyMvLg81mk5RDCIHsTyW/seZvqfUelDCVrNCDBTEKwRxSYRkroTWnJzsi5e2azWYkJCSgsLAQ2dnZKC8vR0xMDGWInE4nEhMT6XpkLV8vOdXUYYTxzlIm6/hpkc9f/S13L+tvcnUZgUCxT8EEK6B9oukF1rKMpicJe9PV1YWmpiYA9w0al8tFw0+RkZFITk5GWloabDbbhP4jZQwODuLixYv4+OOPMTAwgHXr1iEtLU0VK2I2mxEbG4vIyEicOXMGly9fxsaNG7F27VpER0dPSMhU0l69+9Fo48OI3Bcj2KNgMYD8zYwZVb6eVDlrOeQ3q9WKoqIiFBYWiq4ZOXbVH0aoGhZTb+gpgxb5AmH0q3H21NalB7TKa7QsgPo9iiVSY/J4PF6fH3gUZbAocW5cnguWRrLcxwUJXV25cgVvvvkmGhoaEBMTg5ycHISFhQEARkdHERUVhVWrVmH9+vWIjY0FcN9QITlADocDR48exdtvv43MzEzs3r0bZWVlkkannIFHyq6rq8Obb76JyspKfPe738W2bdsQHR3NHNfl/xYs4zyJSQQzPB4PTYQWMniIk6RX/t8kJvFNAn8v4u77Ru1RihKjtUKLYeVP2s5kMsFisWDq1Kmw2Wy4cOEC1q9fj2eeeQbh4eGw2+04d+4c/vjHP+LYsWOIiYnBhg0b4Ha7qfIbHx9HVVUV3nrrLYSHh+Of/umfkJ+fL8gYcesVusY1TMlkKCoqwiuvvIJ//dd/xc9//nMkJyejvLxcdXsnMYlJyGPSwJnEJPwHbv6t3iD7q5lsrGJMi9rCpV79lPpd7/qJtyYnk9DzZrMZ4eHhiI+Px7p161BWVoaFCxdi9erV2LNnD5588kncu3cPZ8+epR9VJHX29vZi7969aGxsxHe/+10UFBT4fHiR+w0ioQx2MRAl7Ha7kZOTgxdffBEejwfvvfceOjs7adksbXS73ar+fNNjyJOYxCQmMQllENp/ufuyEfuKlK1Bw9xCD6ilnpQ8p7QOfyeLmc1mjIyMoL6+HjExMZg9ezY1HCwWC8LCwpCQkACXy0WTIsPDw2ne0K1bt3D48GHMmzcPa9eunfCWmdfrxejoKDo6OjA2Nob4+HikpqbCarXCZLr/+vvQ0BD6+/thMpkQFhaG1NRUhIWF+fRFUVERVq5ciS+//BJnz57F9u3bZV/HJ+W73W5VfSOX9zCJBxf+el14EpOYxCSMBNFlNDFa6KJSKKWu+IaQmuQ41rdF1CjstrY23Lx5EykpKZg6dSrNBTCbzRgeHsatW7cQGRmJadOmISwsjBoVo6OjuHr1Kvr6+jBv3jxERUVR44iEzIaGhnD69Gl8/fXX6OjoQHp6Onbs2IHS0lKa99Pa2opDhw6hubkZhYWFeO655xAfHw8A1MhJSkrCggUL8OGHH+LMmTPYvHkzLBaL4BhyX9fv6+tDa2ur4q9iR0REICsrC/Hx8ZJjQsqd3CgfDLC+HTOJSUziwYTaF28IWPNV9XS0xPKJuP+3ClViZPwt2EE28LGxMdy+fRs9PT146KGHkJ2dTVmcvr4+nDp1CqdPn0Zubi6WL18Oi8VCjZfBwUFUV1cjPj4excXFtGyz2UzLv3v3Lo4ePYrk5GQMDw/jwIEDGB0dxZw5cxAWFgaz2Yy4uDi0trbi/fffx/PPP09ZIDI+ZrMZERERNHeppqYGfX19SE9PFzWCSNL3xYsX8c4778DpdNJrcv3i9XqRmpqK73znO1i1apVk+JT0xeQm+eAgmF+cmMQkJmEs9IoAyDlU/rYVRBOjv+mw2+24e/cuLBYLoqOjUV9fj/HxcQwPD+PGjRs4cOAAUlNTsXPnTsybN4/mEJlMJoyPj6Onpwfh4eFISUmhZRL2xuPxIDY2Fk8++SSWLFmCkydP4ty5c7h48SI6OzsxdepUuFwuWK1WhIWFITc3F9u2bUNkZCTcbjes1vvDRiZNTEwMUlNT0d/fj+7ubqSnpwu2iRvKioyMRGpqKpVbLo/IZDLB6XQiKiqKhuyEQMJ8ra2tGBkZEWWlJhG8YFF0k2M6iUl8s5CdnY34+HhdXwww2pliiUYYbgQJUVssrAP/GaV1qk3yJkYBMXbcbjeam5uxd+9eDA8PY2xsDACwatUqrF27FosWLUJ4eDgNc5FcG7vdDrPZ7GOw0Bik1YqCggLk5eXB4/EgMzMTRUVFuHfvHu7evYupU6fC4/GgubkZlZWVWLZsGRYuXEhzlbj94vF4EBYWhvj4ePT29mJwcFC0beR5m82GlStXYvny5Q7TuRcAACAASURBVJSdkusrkkfk9Xon5CVx+87r9aK5uRlvvPEG6urqfMKEkwhe8MPJUuuOP18mDaJJTOLBBdEFr776KlatWoXw8HBVR9OoCYHpERqTM4RCngmSMnaUdhpXuff09KCurg5ZWVnYuXMnIiMj4fF4kJCQgNzcXEyZMoW+pcUN+3AHmlueUFY8eS45ORnz5s3DzZs3cfPmTaxevRojIyO4ePEirFYrnnzySfqJDL4VTuolb57JWelELqfTidHRUR95WPqHvJ1mtVoF867MZjNcLhdGR0cxPj4Op9P5jdkk6SuX/9+w5F/jL+hQCyVJGcss846l/FAA/8gKoWvfFHD7IBTn9CT+Dqlx9Hq9cLlcE8Y71OH1eo03gtQcyhfIzvV6vXA4HLh9+za6u7uxdu1abN++3UfJcyeJkNVqsVgQFRVFD0wUU5YkVBQTE4P8/HyMjY3h3r17cLlcqKmpwYkTJ/Doo49ixYoVgm98kXLHxsbQ39+PqKgoxMXF0WtC/Ujur6qqwtmzZ33eVpMDMQJXrlyJkpISHwOUuzEUFBTgn//5nzE+Pu7X850CDdKXQiFAkiMF/H3+BOt5M1KvlYrNZRIKFlOQD6IRxB1T8nuwjqkR4L/ezJ0Hkwg9kLksNIYkH9RmszGPL4sO8FcekNh+aDKZxI0gVmtPSHixZ8Q2ZdbnhZ5h7VhWJex2uzEyMoIbN27A4/Fg/vz59K0uUg53sXO9fqIMyBtUV69eRXt7u0/5QnLYbDZkZWUhPDwcLS0taG5uxvHjxxEfH4/HH3+chqK4CpbU5Xa70dvbi46ODixduhSpqamybXQ6nWhpaUFFRYXPxszSP+np6Zg1a9aEtnD7OiIiAtnZ2ZqozFDZEIH7bSPsl8lkoid3c/tobGwMdrsdLpcLYWFhiI6ORnh4uN9lVdqvQgwnYREdDgdtL/lqOvcsLH4ZUjJJGe1cho21TL3B7wez2Yzx8XGMjIxgfHwcYWFhiIqKop/QYXX4uBA7hZrUy607UIYGkdFsNtN5MDY2RnMnxb6bBsjPPf4mzE/E5+9JgUqkZUGoGYImkwljY2NwOByIiIgQzPtUwvTJhdP593HHW8l4StkpQmy8UF0hHw7TC1wFMzw8jOvXryMuLg7z58+H1Wr1CXmJhb6IcoiLi0NxcTH27duHyspKPPbYY5Qd4OdekBBTdnY2cnNzUVtbi4MHD6KxsRHPPfccMjMz4fF4aG4RV163243R0VE0NTXB6/Vi1qxZiI2N9Tm5mgsiX3R0NNavX49Fixb5XGOBxWKhr+lLMQZCr96z1hGMSk0MRNaWlhZ89dVXSEtLw0MPPUQNZ7vdjtu3b+PatWv0TCibzYacnBwsWLAABQUFPgrHiFwbfplqwhYejwd2ux2NjY2orq5GW1sbDaemp6djwYIFmDFjBsLDw+mcJpCqjztPxBQZP9RLytMSflFroJN+aGpqQnV1NZqbmzE6OoqwsDBMnToVpaWlyM3Nhc1mm5C/JyQDd9y5TCJ/PnDftuT3r79AnDEyD65fv4729nYMDQ3BbDYjIyMD8+fPR1FRkc8nfOTmMV9fcPuFWwZxRImRFMwscygZQR6PBxaLBbdv30ZFRQWWLFmCvLw8H71E1p+RBrg/+4w7d6xiykCNQELMgFw5YmyCv0E8DbvdjoqKClRVVfl8J0zKw+GCeMYlJSVIS0vDtWvX0N3djdTUVNE3sLxeLxISEpCfn4/Dhw/jyJEj2LVrF1avXg2v1wuLxSIqb09PDy5evIikpCSUlZUhLCwMLpdL8qv3FosFiYmJSExMZO2eCW2Uuy4ksxIEq3Ljg8yZM2fO4L333sPOnTthtVrhdrvR2dmJo0eP4pNPPkF9fT2SkpJgs9nQ1dUFu92O9evX4+WXX6ahRSEKWivIxsU34pUYpF6vFyMjIzh16hT+/Oc/o7a2FjExMYiPj8fAwAA6OjpQUlKC1157jc5BodAt99/kJYK2tja0tLQgKSkJOTk5iIqK8pFzaGgI9fX1sNvtyM3NRVpammAoWim4bI2SvhgeHsbx48fx17/+Fbdv30ZMTAwiIyPR1dWFkZERLFmyBHv27MGyZcsmvMUpVB4AuFwuNDU1ob29HRkZGcjOzqYsIRm3oaEh3L59G16vF4WFhUhMTNTcfgJWFthkMsFut+PkyZP405/+hJqaGsTGxiI2NhbDw8O4d+8e5syZg1deeQVr165FZGSkZP9yDbzW1lY0NDQgMTER+fn5iI6OprKZTCY4HA7cuXMHQ0NDyM3NRWpqqmYdI8W8+RusYyBkILJCjE0j+4Xdbsef//xntLW14bvf/S6NKnD7SI++UmsTCNkUUmWx1DPJBHFA6O2mpiacP38eGRkZSEpKwp07dzB79mxMmTJFluIm18xmM/Lz87Fp0yYcOHAAp06dws6dOycsOm48PTIykp7vU1xcjG3bttENjA/ym9PpRHV1NS5fvowlS5Zg+fLlTAaIWG6Hkr4KBsURaJDNvKGhAadOnUJubi42bdpEveWTJ0/if/7nfxAREYFvf/vbWLp0KWJiYtDc3IxPP/2UhjynTJmCpKQkehq5XgqHjK/D4UBfXx9sNhsSEhImhBrkynC5XLh06RL+93//Fy0tLXjiiSewfv16JCQkoLu7G0eOHMHhw4fxzjvvIDMzEzNmzJA8I4q7Bmpra/Hb3/4WycnJeOmll1BaWkrvc7vduHbtGt544w1YrVb84Ac/oGtET2UsVx657vF4cPbsWfziF79AV1cXHn/8cTz00EOIiYlBS0sLDh8+jGPHjtFweEFBAQDxpHGyBl0uFy5cuIAPPvgAc+fOxZ49e5CXlwfg7x9sPX36NN58803k5OTgtddeQ0JCgiZGSCmLQsLxV69exa9//Ws0NDRgy5YtWLduHT2e48CBA/j444/xxhtvICUlBaWlpXQ+S4UrvF4vrl+/jtdffx1xcXH40Y9+hIULF1I95vV6cfv2bfzqV7+C3W7HK6+8guTk5AdKDykNASkZP67xxO1zLjweD0pLS1FaWoqDBw9ixYoVSExMpH2s1eAMZkwaQRyYzWbEx8dj69at2LFjBywWC/1EBivIREtOTsbOnTtRXV2N999/H3PmzKGbA3dxEyXY1taG7u5ubNq0CXv27KF0MnfycQ0Xt9uNuro67N+/H+np6XjhhReQnJzMpBiDxfsRQyiwQGQsRkdHcfHiRTQ1NWH37t30eIPe3l6cO3cOfX19ePXVV/Haa68hIiICAFBaWorMzEy0tbXhb3/7G771rW9h+fLl1AjSUz6v14tr167h008/RVFREbZt24bY2FhmQ4KwEGfOnMGNGzfw+OOP47XXXqNhWpPJhNzcXAwMDKCiogKXLl3CrFmz6DfmhOog889qtWL69OmYOnUqvvzyS8qCkPOr2tvb8cknn+Dy5ct48sknMXXqVNX5NqRPyPq8d+8ehoaGkJ6eTsO7YiAGwNDQEI4dO4aamhq88MILeOWVV5CRkUE3kIKCAnR1deHixYuoqalBXl6e5HgSw8pms2HGjBmIjo7G559/jsLCQqSlpSE6OhoWiwUNDQ346KOP0NDQgPLycmRkZGhevx0dHejp6UFaWhqSkpIkdQYZZ6fTifPnz+P27dvYvHkzfvjDHyInJ4eu14KCAvT39+P48eO4dOkSiouLmeaz2WzGzJkzkZOTg0OHDiEnJwdTp06l7RweHsYnn3yC8+fPY/PmzcjOzta8ToaGhtDW1obExEQkJyeHxCbf09OD1tZWZGRkKDYCydx3u930DDpuSNnr9SI8PByPPfYYTp06hRMnTmDOnDnUaXqQITrzWZkCLbF5/jNiIQGlmyJrKI4Pq9WKnJwcrFu3DqtXr8aKFSuwbNkypKWlKSqPTLhZs2bhe9/7HpxOJ15//XWcO3cOIyMjAO5758B9KvzWrVvYu3cvAODHP/4xCgsLRc/WISdSV1RU4K9//SsGBgbwgx/8ACtWrNDE7ugFIRm4GzLLH3+An1ei9A9Bc3MzvvrqK8TGxmLJkiU09NTb24uWlhakpqaiqKgINpsN4+PjcLlc8Hg8SExMRGZmJsbHx32OKtAKkl/hcrmowrt27Rp+//vf49ixYxgeHqbXWT6ZYjabMTg4iObmZthsNsycORPJyck+dSQmJiI9PZ0mCrN8aZ0wHAUFBXj66aeRl5eHI0eO4PTp03A4HHA4HDh16hSOHTuGRYsW4amnnkJaWpqmU8jJ/PJ4PDhx4gTeeust3Lx5U/BIA6FnBwcH0dXVhbi4OJSUlCAlJQVOp5OOa1JSEhISEuhvLCDzacGCBfj2t78Ns9mMffv24dq1a/QljUOHDqGqqgpbtmzBjh07kJSUpErnctt49uxZ/OpXv8Lly5eZ9fzo6Cjq6+vhdDpRVFSE5ORkOsfcbjeSk5OpoTo6OioZ/ueGIj0eD/Ly8vDSSy9h3rx5OHToEM6fPw+HwwG3240LFy7gk08+QX5+Pp566ilMnTpV9RwgxvmtW7fw+uuv4/Tp0xgbGwsK3SkE7jceKyoq8N///d+4fPnyhNfV5dDZ2YnTp0/jvffew29+8xu8++67OHPmDFpaWuB0OqkROHfuXCxZsgRnz55FfX29ZtZVTr8r0f9cg431GZYyDWGC5AbGX5almkmtx0IgDE5kZCQ2bNiA+Ph4fPjhh3jrrbdQXl6OBQsW4MaNGzCbzbBYLDh69ChGR0fx/e9/n76NJsQ+eTwedHV14eTJkzh9+jQ8Hg9effVVbNiwgQ42i0L3B4QoW/5voexhkP5uamrC7du3sWzZMuTm5gIAzWGw2+2IiIhAbGwsTCYTHe/h4WFcunQJ9fX1mDlzJvLz83Vl5/jjb7VaERER4ZOroyQk5nK56GnhCQkJNF/FZLr/Rsn169dx/fp15OTkYObMmfSaXC4I+XvWrFnYtGkT/u///g8ff/wxZs+ejbCwMBw7dgwAsHnzZhQWFmpigLh/u91uNDU1oaqqCuvXr/fJmZKS2+120xPbw8LCaKjHYrHAbrejqqoKzc3NyMvLw7Rp02jek5jHzpXLZDJh2bJleOihh/Dhhx/iwIEDyM7OpqHTpKQkPProo8jKylLVD8T4I7I0NTXh4sWLWL58Of2dyCNmwDqdTvT29sJisSAuLg5Wq5WW53A4cO3aNVy5cgVZWVkoLCxkfvuR1F1cXIytW7fiP//zP/Hxxx9jzpw5iIqKwt69e+FwOLBt2zZ6wKzS9cIde5PJhK6uLpw+fRpZWVkYHx9HZGQk1Z/BoJe4c4O86NLc3IyKigo88sgjPnNWTuaWlhb88Y9/xJdffon29nb6XHp6OtasWYPnn38eeXl5MJlMiIqKwvLly/H555+jpqYGJSUlEz7XpEfbgqGPCQSNIKVC8u9Xs0DlnuFuoFKxzWCC1+ulpzMXFBTg8OHD6OzsxNWrV/Huu++isbERxcXFyMjIwMsvv4wFCxaIvtlFyhsYGEB3dzcWLFiA1atXo6ioiF5XGuc3GnwDKJgSEbX2k9lshsPhQGtrK7ze+2/mWa1W+qFcopzIwZIDAwO4du0aPQKhsrISOTk5ePrppzFt2jQaHtIKt9sNh8Phc/4TObCSfBOPeL5msxlhYWGy4V6ux2UymTAyMoKamhrcuXMHXV1duHz5MiwWC55//nn6AWBAeD4KGcHR0dEoLy9HbW0tjh8/jn379iEmJgZ37tzBpk2bsHLlSp/n1YC7WZBv7sXExPgYdNz2StVDGLShoSHcvHkTd+/eRWtrK6qqqpCamoqtW7eisLCQiSUn19xuN5KSkrBjxw5UV1fj6NGjyM7ORn19Pbq6urB7924UFxdraj/32fDwcPpKuxD7Lma0cT8iPT4+juvXr6O+vh4dHR2oqKhAWFgYvv/972P58uWCp+WLyUbK3LhxIy5evIjjx4/j0KFDsFgsuHz5MjZu3IgNGzbQNAE1BhCXfbLZbLBarQgPD6csSDDoJT6485acAxcRESFr+HDDX5999hl++9vfYvr06XjxxReRmJiI3t5eXLx4Eb29vXA4HDQ52mw2Izc3FzExMWhvb8fY2BgiIiJ07xstjjB/rbLeKyaHlf+D1gmmFEqeZzV8gmUykwns9XqRlZWF3bt302+SLVu2DAUFBVi6dCnWrVtH499EdqE2WCwW5Obm4rnnnkNsbCyAia/ZBiO4GygJo5DPd+ghcyCYJRIeaGxshNfrRW5uLjU0uDlf5O/Ozk588sknOHbsGPr7+5GdnY3nn38eJSUlgm8RcWlcljVJ7r979y7OnDmDvr4+OvcuXbqE4eFh3Lx5E++//z7i4+PhdrsRFhaG+fPnY+nSpZLhK24YiYT6Dh48iM8++wx9fX2Ij4/Hzp07sXTpUnqyOl9evpPEH7OcnBxs374dtbW1+OCDDxAWFob8/Hw8+uijSE9Pn8BWsMLrvX/4aW9vL0ZGRugc7OzsxODgIFpbW31o//j4eCQkJPgkqHPl5jpi/f39OHz4MA4ePIj29nZMmTIFTz31FBYvXkzZP74sYn1CNrWSkhJs2bIFr7/+Ot588004nU6UlZWhvLwciYmJitpP5HQ4HOju7qaheJPJhO7uboyOjqKjowN1dXV0/OPj45GUlCRokBN5iZE7PDyMw4cP4/Dhw2hvb0dUVBR27tyJZcuWUf3EfZYYj0IOs8VigdvtRlZWFp555hnU1dXh/fffx+joKP12YlZWFnPb+f3Q3d2NwcFBuj7b2towNjaGvr4+3L17lx5uGxUVhdTUVJq/FygQnTE0NATgfv+Q4wg6Oztx9+5demp/VFQU0tLSfJwZ0s6xsTGcOXMGAwMD2Lp1K5577jkasm1qakJYWBgyMjJo/wNAbm4uMjIy0NHRgdHRUSQlJenSJqX7lJ77mVQUwmemK6HIQwlGtIdlgLgGDdkY4uLiMHv2bBQUFMBms1GqUYg2F6ojIiICNpuNTli5D5QGaiz5E87j8WB4eBjV1dVoaGjA3LlzMXfuXFWGtxACMW9dLhc9XCwuLk5yHJKTk7FhwwaaPFpXV4cjR46go6MDjz32GGbMmOFjKIodcSAVYvJ6vWhra8ORI0fQ2tpKv2nX1dWF0dFRNDQ04NChQ4iIiIDH40F4eDjCwsKwePFiamBIlU/GNDY2FqtWrUJGRgZGR0dx9+5dXLhwAV1dXdi5cycWLlxIzwsChOcgnx0wm80oLi5GaWkpzp8/j5iYGOzatQuzZs3ykYEvEylLjG0wm83o7e3FoUOHUF1dTZV9ZWUlmpubceDAAdy4cQNe7/2jKMrKyrB27VrExMRQtkwMiYmJWL9+PbKzs9HZ2Yn6+np8+eWXaGlpwdNPP42SkhJ6tIaQbNy5T+S32WxYtmwZjh49ik8//RRTpkzB2rVrMX36dNH2ixnL5Peenh4cOXIE169fp3VeuXIFra2tOHz4MOrr6+n4r1y5EuvXr5c9PsPj8SAiIgIrVqxAVlYW+vv7UV9fj4qKCrS1teHxxx/H8uXLER0d7aPbuA6R2PwoLS3FvHnz8Lvf/Q4ejwfPPvssCgsL6XUhZ4EbyhMyPv/2t7/h3LlzlNm4e/cuOjs7cerUKfT09CAyMhLj4+OYMWMGtm/fTg2uQOlPp9OJkydPoqKiAgAQFhaGq1evoru7G4cOHcLt27fpgZUlJSXYtm0bkpKSJryNZzKZMHXqVERFReHWrVu4ceMGMjIykJCQgJycHMGDKWNjY5GQkICBgQE4nU6mD2wrQTBELLj1W4UWDfcGKaWoB+QmmZxRwEI1s4ClzWrlAP4eZyfKlpyDIaQUpOohIMaP3EbDArF6hCx3ofGQ8pjdbjcGBwdRW1uLCxcu4ODBg+jp6cFPfvITlJSUUI9FrREzOjqK5uZmOJ1OFBYWUm/ISOVF2u12u2lSoVwoKyUlBeXl5TCZTPRogzfeeAPvvPMOxsbG8OMf/xhJSUmUbRkZGUFPTw+cTicSExNl3+AhfV5UVISXX34ZY2Nj9LyiEydO4L333sO8efPw/PPPIz4+/j4NbLXS3BWW9gL3N7/Y2Fhs2LAB69atAwDcvXsXb7zxBj788EP09fUhOTkZhYWFPqwYANjtdoyOjiIqKoqeME3KN5vNaGtrQ0NDA+Li4hATE4Pu7m4MDAzQtSLUZv7c5P6f/NtqtSI6OhpxcXFUoUdGRsJmsyEqKooaPBaLhYYa5OD1ehEXF4dVq1ZhxYoV9AWHN998E/v374fdbsc//uM/oqioiLKfAwMDGBwcpIxTbGwsna9kLTscDtTV1aGzs5O+tdTS0oL+/n6f0+C5ulqKYeK3nzhPJEcsOjoasbGx9DuI3EMe5dofFRWFtWvXYs2aNfB4PGhoaMDvfvc7vPvuu/TNqwULFsBkun8WTX9/PwYHB2E2m5GUlORzoCIXTU1NaGpqQlJSEux2O5qbm9HX14eUlBSfNnIT+8US5oleiYqKov0dFhZGPwJKwqKRkZFwOp30jbxAw2Qy0bEhRmR4eDjCw8PpyeRE7wiFx8gYRkZGYteuXaiursZnn32G5uZmZGZm4pFHHsG6desoY8l9ltQxODgIp9NJ5VECJfupFqjZ4yesD10lMhhKYoHBCi6lzI33aoXe/aHGEORfGx8fR319Pc6ePYtbt26hpqYGV69eRVpamub8F1JHV1cXPvjgAwwODuInP/kJfXNJS/n8xcL3NIXuF+uP8fFxjI2N0Y2QKK758+djx44duHz5Ms6dO4ctW7YgOTkZLpcLjY2N+Oqrr9Dc3AyXy4X4+HisXr0apaWlgjks5P9erxeZmZnIyMjw+a23txf79+/HtGnTsG7dOp+3HblGuBhIrgB5E4i0mWxC+fn52LZtGyorK1FZWYmrV6+ioKDAxxsdGBjAqVOn0NjYiHXr1mHOnDm0XrPZjJ6eHhw4cAB37tzBY489hqGhIZw+fRrFxcX0A8bctprNZoyOjmJ4eBgRERGIjo4W3bzT09Px7W9/22fD/PnPf46TJ0/i+eefxyOPPOJzv5zX6/V66dt15P9WqxUlJSV48skncf36dRw/fhxr1qxBfn4+hoaGcOnSJVRWVsJut9MNbunSpSgtLaWhGJPJhIaGBuzduxd2ux3f+c53UFlZiY8++giFhYXYvHmzT7IxYfk6Ozths9kwdepU+qFlMm4mkwlpaWnYtWuXzxi//vrrsNvt2LlzJ3bu3DkhL0xufZPcIPKHzINnn30W1dXVqKqqwo0bN1BSUgIAuHjxIioqKmC32+HxeJCWloaysjIUFRXR0JPZbMbAwAA++OAD1NbWYseOHWhsbMSpU6dQXFyMtLQ0+m1E0pa+vj60t7fD5XIhPT0dKSkpPmufbPCPPPIINm7cSOccSfwtLy/Hiy++iLi4OKZwjZjjKcROSTHcUs4rcN9w3bJlC7Zu3Urvfeedd9DS0oJdu3bh0UcfRVhY2IT9hF8eCXvHxsbC4XCgubkZIyMjNHdPjEX0hxMpdo2rN/yxz6vaKdQwIdzn9OhgowbJX/Qn39vQO5zjr0kstcjHxsZw+/ZttLW1UY+Z5CHwNyw18pI6Ghsb0dfXR19L1rJwuBsgYXrIW11cg5VsfBERETQsxm+PyXQ/b2hwcBAAaDmkjuTkZHrQXH9/P0wmE5qbm/Hee++huroaixcvRkREBC5duoQ7d+7ge9/7HhYuXCgbtiLKjbAeJPGR/CFKmoRA5PqL3DMyMoK+vj56zgiXjUxISEBSUhLq6+vR29tL36IaGxtDW1sbjh07hnfffZeeCTN79mwfY/nEiRP44osvMG/ePLz66qtoamrCz372M+zfvx8zZ87E4sWLqTzkFOkrV66go6MDZWVlKCsrm0Dr841YslGQt7zIRs7f2OT6ZXx8HMPDw3A6nT7fTPN6vUhJSUFiYiKuXLlCE0tPnjyJ999/HzExMXTzuXDhAq5cuYLvfe97KCsrA3A/x4aErcrLy/HKK6/gyJEj+I//+A/s378fs2fPpi9CDAwMoKqqClevXkVnZyc8Hg8KCwuxdu1a5OTkCIYIuWyJy+Wir/aTvuHOW7F5YDLdPzWarLfIyEgaYiQMT2JiIlwuF2USvv76a/zmN79BZGQkFi5ciLGxMXz++ee4du2az4npHo8Hp0+fxuHDhzFnzhzs3r0bbW1t+Ld/+zfs27cPhYWFWLlyJV1ztbW1OH36NFpbW+F0OpGcnIxly5Zh/vz5E3KSyHiSs7jI2JNx47af+zcf/G9ICoXepBwLLoMn53iQMeOeH0aOI5ArhzzT1dWFX//61zhz5gzKysrw9NNPo6CgAKmpqZQZ5a+ZkZER2O12H6ZST0gZN0bu62J1TvhshpKQDHlG6P5AxVLFILdxa2E+lJYVLPSgFOQWsVRdZIO12WxYuHAhli5divT0dNTW1iIlJQUdHR26eR2EJubS+CzshpDMpG3kXJyenh4MDAzA4/EgPT0dhYWF9PMnJtP9t7mioqLgdrupEcPdeMmZTsT7ioqK8qnHbrdjeHiYvvXhdrtRUVGBv/3tb3jiiSewe/duWCwWnD59Gr/4xS/w2WefYfbs2YiIiJBsH98rjYyMRGpqKuLj4yckbbOAKOKhoSE0NDSgu7ubnqBO6hsZGcHw8DBiY2NpYq3H40FNTQ327duH69evY2hoiH72gqtrbt++jf3798PtduPRRx9Ffn4+EhMTsWHDBvz5z3+mLFZmZiaA+wbA5cuXcfDgQdy9excJCQkoKyuTDImQ8SBKnxikYt6/UP+Q8gcHB3Hr1i10dXUhOzvb557BwUGMjIwgJSUF6enpcDgcuHXrFqZNm4YXXngBs2fPBgAcO3YMP/vZz3DmzBksXLgQUVFRqKysxKeffoqMjAxs3LgRGRkZePjhh3HlyhV89dVX+PLLL5Geno7ExES0tbXhzJkzMJvNKCkpQVNTE/bt24fOzk7s3r0bKSkp1KAj7eGyz8D9sAdhTUgfiDCUtAAAIABJREFUyeUYWiwWjIyM4NatW+jt7aUnVxP09/djYGAA4eHhdL7dvHkT8fHxePHFF7F06VIA98M0b775JpYuXYpZs2YhPDwcdXV1+Mtf/gKXy4UtW7YgOzsbU6ZMwebNm/Hmm2/iwIEDKCwsRF5eHhwOB65evYqmpibk5eXBZrPh5MmTqKysxKuvvoply5ZN+HYbYfDI/4kBx22/UI4MF8Sx4T7Pncvk+vj4OKKjo+mhhNw+Ih+ejYqKYnozkxtWJk4UMei40QSuvGSut7a24vz584iIiMDu3bvx8MMPU+ZtfHwcg4ODiIqK8jnOoa+vD52dnSgpKQmJjzyzQmitm0ymiW+HaYHebIYRMFo+/gbEWl+w9puaOUG8uvDwcGRmZvp4R/w+YW23GMVMlASX4eCf+8JSj9frxfj4OBobG3Hy5Ek0NzcjNTUVVqsVVVVVaG1txc6dO/HMM88gLCyMJoaSTfDu3bs+9RGmob+/H6dOnUJBQQFWrlyJhIQEuN1uNDc349ixY+jp6UF5eTny8vIwPDxMc2IWL14Mk+l+LkVOTg6ysrJQW1uLjo4O+iYaizFvNpsxd+5c/PCHP0R2djb1kPkfOJUC6U9ipO3fv5++tWUy/f3MlYaGBsybNw9z5syB1Wql58rYbDY8++yzqKmpwcWLF6nytlgs6O3txWeffYZr165h69atWLlyJWUUysvLUVVVhaNHj2L27Nl44oknEBUVheTkZDz00EOw2WzYt2+fbBu4XjvZkEpLSxEbG0vHjzUPxmS6/7bViRMnkJ+fj61btyI9PR0A0NbWhi+++AJNTU1YsWIF5s2bh/DwcKxbtw5RUVGYPn06xsfHYbFYYLPZ6AsOZD58/PHH6O/vx8svv4zS0lJYrVbk5uZi586dqK2txb59+5CXl4eHH34YycnJ2LJlCz092OFwYHBwEFVVVTSfhmvw8DfLefPmwWQyMb/Kz4XZbMb58+dx8OBBbN68mb7ZShKwa2trMXPmTJqjt3HjRjz88MPIzMzE4OAguru70dXVhaSkJBq+6+vrw1//+ldUVlZiy5YtWLFiBX01e8uWLbh69SrOnTuHU6dOISkpCZGRkVixYgXWrFmD1NRU+qr7L3/5S9TV1WHRokUTTkU2mUz0rKz8/Hw8/vjjdIxYDvc0m81ob2/HiRMnMDQ0hLKyMsycOZO+5WoymdDX14fjx4+jsbGRhjujo6OpbiKnbl+5cgUzZsxAWVkZXZNC/U+O2ACAwsJC7Nq1CwUFBT7MtBTLQXLBhoaG0NzcjI6ODiQmJmJwcJCebL527VrMnTuXGlotLS24d+8eHnroIXp+kpbQFF9XsRArQvcYYV94vQq+HSbG+Ejdo/S6ELQyS3LPs5QvN4gsHrnSOvnXpfqbe411osoZIkLhACkPSQzc12JZWCQhOYX6i/yb5KtwPXt+qFFubImHeOPGDbz99tu4ffs2nnzySWzevBlJSUnYu3cv/uVf/gUnTpzAtm3bkJiYSGPt06ZNQ2RkJG7evInR0VGft6IAICEhAS6XCx9++CGuX7+OadOmwW63o7KyEhcvXsS8efPwxBNPID09HR0dHZSGJsfVm0z3kzcTEhLQ1dWFgYEB5n4jf8+aNQuzZs2aYBAqmSsmk4nS51988QWam5sxY8YMAEB1dTXOnj2L1NRUbN++HdOnT6dM2bJly7B8+XKEh4fj3r17PuWNj4/j9OnTOHLkCAoKCvDoo4/S5F+Px4NZs2Zhx44d+PnPf45PPvkEs2fPxsKFCxEdHY3o6Gg0NTUhKiqKlsnKWpvNZqxcuZJ+7JUVpA6SPHv48GE0NjZi5syZ9MycCxcuYNq0aXjsscdQUFCA8PBwLFq0yMcwb29vx5EjR2AymVBcXAyXy4XPP/8cZ8+exbJly7BhwwbExMRQY3HhwoXYtGkTTbqePn06ioqKkJ6e7hPWs1gsPmcfibUfAMrKyujRCELHAYjB4/HQOo4cOYKmpiY6t2pqavDll18iIiICTzzxBGbNmgWLxUI/H9LX14czZ87QPytWrEBpaSm83vtvbx06dAjZ2dk+BjZw/3McTz75JP7rv/4LH3/8MaZPn45FixYhOzsbY2NjaGpqQnd3N5qamlBcXIycnBzRNhHdUFhYiNdee41+Goml3SaTCZcuXcIvf/lLNDY24qc//Smys7N9jKCGhga8/fbb+Prrr7Fnzx76UWDg76evf/DBB/joo4+wZs0a5Obm0hCn2BgQ9nLRokVYsGABlVlqHZM2ZWdn41vf+hb+8Ic/4Pe//z1u3ryJ9PR09Pf34+TJk7Db7UhLS8OMGTNoblptbS1MJhMKCgqo7CyQWn9Kdb8UQyu0L4rtlSx1MRtBocDyGAGl4UA1ZSuZFHpBrm4xRotrCImVwf0//9tnSkEYCHKeCVH2JIbf1taGtrY2jIyM4Ouvv6ZvPnHZqNzcXNGTdokR1NbWhnfeeQdnz57FSy+9hGeeeQaxsbHo6+vD0NAQZSAIbUzKyc7ORmFhIerr6+kJ0IRWN5vNyM7Oxq5duzA2NoaKigpcvXoVdrsdUVFR2Lx5MzZt2oSFCxfSdpLcIm6/cT9DodYb44ZClJZBNsqUlBQ8/vjjSEtLw8WLF3H06FGa6Lt8+XI8/PDDWL16NX0t3Gw2Uy93dHR0wqdgRkZGMDg4iLlz52LdunWYN2+eT45CdHQ01q1bh8HBQdy5cwe9vb1wOp3UcOEm5SqByWRSRfMT2RITE7Fr1y7ExcXh3Llz+OyzzzAyMoLo6Gj61s2SJUvo5sj9c/fuXezduxdVVVUoLy9HWVkZRkZGMD4+jlWrVmHTpk3Izs6mbfJ4PIiOjsamTZswOjpK+4y8lUiYgq+//hq1tbX05HKpjd3r9dKcLiV6haypmJgYPPXUU0hJSUFVVRWOHz+OoaEhmEwmlJWVYfXq1Vi7di1NYiZtHx8fR29vLzweD7KysuBwONDe3o74+Hj09fVhwYIFWLNmDYqLiymLA9xfCytWrEBHRwdqa2sxNDQEl8sFm81GP+B7/vx52O12bNmyhRpfUoYxCaMraTsApKWl0U+m5Obm0iNOCBISEjB79myao8V/CzI8PBzTp0/H4sWLUVxcjJiYGGb9zz25WchJ5bfP6/UiJiYGzz77LOLi4nDlyhXcvHkTly5dQkZGBhYvXozS0lKsX78eERERsFqtGBkZwYULF5CTk4OCggJDcoKCDSH1dphaaDUg5JgEpXXwFyeLEg+EASoUfiKyaGXoWOsnLE11dTX+8Ic/wG63Izw8HE6nEybT/STNmzdvwuPx4K233kJ4eDilrskpvE899RQNywl5DOPj47hw4QKOHDmCmTNnYsmSJTTZ+saNG/jiiy9QVFSERx55hFLbZJPJysrCypUr8cc//hHnz5/HzJkzfc7qMJlMyMnJwcqVK7Fp0ya0trbC7XYjMzMTWVlZ9BwVUiZhkvjhPW4ISQ1Ywj0sYzFlyhTs2rULmzZtQkNDAxwOB1JSUpCVlYX4+PgJbKGYV+b13s9V2rhxI771rW8hPj7e5803QvVnZmbi2WefxfDwsE/Ygl+W1EnrUu1R8gwZT7PZjGnTpmH79u0oLy9HS0sLHA4HUlNTkZOTIxjeGB0dpd/Aam9vx/bt27F582akpKRgdHQUO3bsgNVqRVxcnOBnCoqKivCjH/0IY2Nj9JRn8qe6uhoffvghMjIysGHDhglvUEm1X+4+oT4g8/epp57Cli1bUF9fj5GRESQlJWHatGnUEeH2mcdz/3t5jz32GLZt24aKigr8+7//O9577z38wz/8Ax566CGsW7cOCQkJPq98k3ISEhKwa9cuDA4O0tfcCRs7depUlJSUoL6+HlevXsXMmTORkJDAlG/D2nay7pYuXYqkpCQ4HA7k5eX5fG4DAPLy8vCjH/0IfX19yM3NRUJCAu0Hr9eL+Ph4vPDCC3j44YeRlpaG1NRUZhnkDB8+SLlZWVl46aWX0NPTg3v37mFwcBBpaWlU/xBdabFYUFVVhZqaGmzduhXZ2dma9jWpdqiJBKgBS11WuQ2NNZwkdY8WKJkgQs8oCTkJlSl0XS4MxWI0yckhtXlI1SM1hiz3sl5XOjmFjCnW56xWK7KysrBixQqMjIzQpFsA6O3txdDQEMbGxrBkyRKafEwUb1xcHE2oFUNvby++/vprdHZ2Yu7cubh8+TIGBgbQ1dUFt9uNpUuXYtWqVVi0aJGPEWIy3T9+f8GCBTh9+jROnDiBlStX+nw/i7AV4eHhyMnJod8XIyCKzWS6f5ZJYmIiamtr0dPTQz+nMTw8jO7ubppsqqYPtYA7doRRysjIQHp6+gSWkPu3lJFBjCBiVIrND4vFgtjYWB+Pmb/Bqplbap7jMjoejwdhYWHIzs6mH/Tk6x1y7+DgII4fP44PP/wQNpsNL774IlatWkUT3KOjo2nYQSz0GxYWhvj4eGrgkPlfW1uLd999Fy6XC8899xxmzpwpetimUPuVgjxHwnCpqakTzu8h/WM2mykDarFYMHv2bCr/4sWLkZycjJs3b6Kvrw8FBQUT5OJv+lFRUT5JvG63G2lpadi6dStMJhPOnz+Pn/70p4iLi0N+fj5lbsWghl01mUw+BzcKIScnR/D8LdKuxMREVV9n5/cNK4iDRYwubnlcB6Krqwt/+ctfEB8fj7Vr1/roGlKfXs6vVBhLKrLAvU/seaG6xGwCr/f/5wTJbWhim60WCy0UoHaglU4UoUEWe1ZqQgjJQRYO/z6jGRyh39SyX+QMFnK4Ivd6fX09+vr60Nvbi1deeQXJyck+my93M+IrJSJDV1cX6urqkJaWhnnz5mHq1KlIT0/H/PnzkZeXh/z8fMrQ8N9A8nq9mDZtGtavX48PPvgA586do6f7cs+RIcqGb0RxZYqJiUF+fj5OnDiBM2fO0HyD6upqtLe3Y8mSJUhNTZU1zvWGmALk5ntxDSCxseW/js41Krjl8ucJf+44HA44nU7Y7XZ6DtPw8DBsNhs9BM9IcENw5HVlbpIqd86NjIzg888/x29/+1tMmTIFzz//PHJzc9Hd3Q2T6X6eFTdsxD83jG+AknodDgeqqqrwpz/9CQ6HA08//TTy8/MxMDCAyMhIpu9LKQWpm5vfJMROcGV2Op04dOgQ7ty5gz179tDvwFVWVmJwcBAzZ86kX6MHMCFER+ogDgX5d09PD+rr65GQkICsrCx68CM56ZqUx8IEKN3LyLoW61+uoSx1rphaQ1QpuIYpqZ/8xtWTN2/eRH19PbZv305DinxGLhj2fb1loOEw1k3XSGG0IBCyiNWppM+UMl1SlrOUocOfyHqApRyuouRvlkRmKUXFbRNf+RIa1+l00r/Jm2IktMKibBwOB4aGhpCSkoLVq1dj5cqV9MBFl8tFz0RJT08XfO2WfCSXnEpL8iZmzZqF0dFRusmR3Bp+u7iKcuHChbh16xYuXLhA80xu3bqF2bNnY9u2bZQ9kDs9WulakPIwIyMjUVhYSD1/UjdLaI5r8ISFhSEyMlLwMDuxurmymUwmGhq9fv066urqMDg4iOvXr+Ojjz7C/Pnz6Zkz/Of45XN/Y53HJJ9jfHyc9gO/DgISvmxqasKBAwdQX1+PrKwsnD59GsePH6eb+tKlS7F27VofRkxKBnLP7du38fbbb6OqqgqrVq3CzZs3cePGDQDA/PnzMX/+fERGRk4wtNWAjFFYWBiKioroEQBiTBzXmIuJicGaNWtQV1eHvXv3oq6uDgBw6dIlZGZmYseOHZgyZQqdS0KykrK5a6+3txdffPEF7HY7fUW+uroaiYmJWLVqFX07Tokjyp9/YuMhN+/l+lvreKiBySQeSidjlZSUhD179mDFihU0tK3W2WJd02qhJzEj+4q8EZaqEiNAycYtpez0BJ+O59cpBxaZ+O1maZucgeUPr0NIHmK8DA8PY3h4GC6XC3a7nR7JLrQ4xeYi14ggCp7kCAgpZBYkJiZi2rRpqKiowN27d2mCrt1uR21tLa5fv47s7Gw8/PDDE5gG8u/09HT6WQzgPiX+4osvwuVy+ZyezGdV+H2VnZ2NZ599Funp6bh69Sq6urpQUFCA8vJyzJkzB4CvEmWlkLmQY33519PS0vDEE09geHgYeXl5tAwpg5xfHzklOz4+nh7mpxajo6Po6upCXFwcysvL6ScZxsbGBNsjBzkdQzaJxMREPPHEExgZGUFeXh4TYxsWFoY1a9bQsSN5LFarFQ6HQ5T1EQMZH5fLheLiYsyYMQMRERH0QE6TyUTz5bjhHjknQ874Au6/bv30009j06ZNyMnJoR/wlILZbEZ5eTlSUlJw7Ngx+p2ykpISrFq1CsXFxfTcGrmyuGto6tSpWLNmDS5cuIC6ujq43W6kpKRgy5YtWLBggc/HmVlZcBZDSM0mK7YmpO41ei/mjjuZJ7Nnz/b5Vp+UnKzXhSDWn/z2sYyb2D7JKqfJZILJ4/F4pW5kNVJY7lX6jFpjxp9GkBF1sk4MucXlb6OHXz8AdHd3o6amBu3t7fQTACMjI9i4cSM2btyI5ORk5OXlITs7e8LbDyz13LlzB//5n/+JgYEB/OpXv0JaWhrdaFhk9Xq9sNvt2L9/P379619jypQpNF9jYGAAbW1tiI+Px6OPPoqFCxdKUuCEpSIHzvHDRXLt4l53u93UUCSvJEsZ30o2e7G6pe4RqlusbDFZiDGs9K0kvpzk5GsyFtwTsoXCKXIyyq1nPrgbo1w7yJwgbeeDKzPrhsKdayQ3hysHefNLSF659siBf7Ky0LNC/ej13j8jZ3h4GGazGdHR0T6ffVAC/snXg4ODcLvdiI+P93GG1LAQ3PYonRdiMMII0sNI4o8dy6nhQmUIgVVWvY0gpXICfng7TKuRpOZeVgXnTyNBKaPF0gesBpEaA1KPvvF4PBgYGMDNmzfp0fYbNmwAANhsNtTU1CAtLQ0RERE0rk/AOqmJQlXDAHE93EceeQQWiwUVFRW4du0abDYb4uPjsWTJEqxcuZKyF1KLnn9iNfetL5ZNk5RNcgn4rxizbrxiZUvJz2J0csMcauvXYgCRcsTOdiEyKoUSeYTGVArcV/65r31z5VQqM+lH8m/uR4PF9KFeDDGZ1/yvlfPv4dfp9d5/PTw5ORnARINYSG4xmUmfkpA1yQMk5QrJpMTIl3pGy2YrVo+aOasErGwx/xMaLGWSclhYUe5zRrZZqc1hOBMkdF3JM3JyBMIIUlOmWo9dzjrm36fG+2GtW8nzZGE4HA4MDw9TZc39Jg75CKXNZpP8AKZUPf39/aisrITT6aR5OWSzVgq3243h4WH6CYzExESa40OMHH8sXiUsjxJPSAnbwIdeekAvx4O1HSxMEGv5WvSF1DrWqodYytCjPqGy+BBqp1rdyyoz10lg0f1Kx0LPeSNnBBnBBBnh9CsxgqSe5YJlrxO7R01/0nv8ZQSpMRhYZFBDtRllBMnJqdUQkVP8cpuc0gWsxeOXKlepXP4A33jjziEhBWuUDErrUGIEaYGSNegPI4hFDr48gTKCAg091rVYef4aT60OGfc3NQap1nUmNQdD0QjSUq5SI1rqHj2MIJ9wmFaKTmiCSVGTLJC7V6iRRtOL3HpI/axyqqlDjTxKytB6XWriEiNC6BnuBJZibvyxIfGNHvKbP4wfvgxGlS2ltNSudzXPhKoxEaowgoXS+qzSeozQ6Uo2cda2isnK+psaGLX3ANJzRUyPsJIbSuuTu0dsPOWcAN1zgvRUcsGoLP1hYKld9Hr2l5JFL3dd7B4lTJq/4E+jRy8oDS0YiWDuO6M201BDqPSD0XOJpR/UsB169G+ojBEffFKC229K2+Sv9huSGK0m9MPvLJb7uBDrYDVMFKtFKXavlg1dDe2qJ8uklbnTArF+k6M0WSjPBxWBNDrk2CWCQI8LS6gaCG4DTm+EWlv1kFcNo0zmuFKdrjZEJBRdUGM4BGp8WfZpofvF7lMS2lLLcBv2dpjSScN6v1w80SiFq7Rco5kNFtpVr9h/IMJB/so7eFAQqP7SK7RmNIJRpmBAoDdNf0GP8fdnLpSWHCh/QC4XRwv8PRcFjSAtjTGqAazUJat3Gszwh9yhsikoZRQnoT9CdR2J4UFrjxaEatgl0AhEnwVLygAgPG/Ib3qnZRjd17InRstZv0rZHqnnlVJpQmWzhLJY6pSKbbIOihyVJ9ef/LrlErzEwKV0tcisx+RmTZrTOq+MgNEJ2lJzLRAsmZIERyW6gbWdWiDHUGmZb9znA70p6RE+Z0klUDLn9Oobo+e5Vjm1hOGVrC2h60asHaXtYEldYN33WOrRo+1C9/n/IyYGgh9L1VpOsCAQXoe/+8Df9YWa9ysnbzDNWZMptJLLjTBkHwQ8SG1Ri8k+CA2wjJPYOmc2ggKRF8IKPgskVa4R1rIRCXN6Lj49LPxggN5y6fEGh97QOpcCMXb+9kDVlml0f7HoIb1h9HhrZcy0QC+dLQex8WJlZR4U6B3GAvzrvLHs/0KQPSdIK6WtNbtbqBy10EJ7KjF+hEJxemT98+XQgwrUG6yJskpChdx26kGvysnBr1MI/jKAuGMuJVMg8gWC0fgRKp8rp783ViNDfv4Cf24ZmRTLh7/6Su3YqNnL1CJQ+ltLWdx+9ce+r9Ro93q90kyQ2rgla1nBogzUtFNsI5IylvyZcB4sfSsHoQ1K7j5/wZ8GUKghVPrAKDmDWZ+pQSgykEYj2Nr0oDFPLODvD0aMiVXME2b16OUgt2BYLXAlXgerpyLGLMhBzUBIWcJKyhZqk78SZfUEi4VO7tOrTUrYEr0Zp//X3tUtZ46rQOdU3v+RJ+fKuxqtgAYaJDtfV83F2BZCEiD+kmg8zbSjesbONHh0Zofc7c6sVDoDaCY+On6FrM1nZWQZ9LzQAp6T2gkqZD7SXH+jaq0Z++/NWh7TGN3VF1A95wc65nJe5xmd7CA+RRZP4VP7Sa+nI6sTHftxsi5ZqO5zuu0aYt9+C7ytH534xwnaXd/PRiwaOuq23VHp7sgpA8k4nGwwOvY2YzRP3jsU2T1+ivxXINrcG6FZgZPK3VmaXbYCeYagkt+uHrwR3r35zjQLW8Q9dCSg5bqsEYiUI7IRRaTEZ9GR3kcu2MrmPk8kz3IwtSZoSZ5+48WaKc0hJccOo1stU5FylVVGZJXAVs8969wl+9VyMduclcPiCS4zpWxGKZlpt+b9qdThaFIim02Sxm8ph1VEu92eZnVK9Y04dY9O5Ws33pBd+uCDGyfpeWXf3tPRfU6wE8TebFaTdZTeSQpxXTWeNQuMFO88/rT9X+EJPKKw0tJoZnWVjT1xn7KZajQS7i5LnLjXT0QkM4bQyLZ1nHK+WkYsWz1C3qH2iAHxz2awyl0WIj8dthqPjPPOZQm/pwSHGrhomtRaG+s8PfutPdOee+eJpICtM0J+UmalqBkjxkoHoyVkaX6P/KLr9f4ECuMymPUpMh6hj2aoEV4kG3A/m2XMKslEbJnFs6UbkTOen0m6FLE/0pwozdU3mkOgXeBIMCjJLdNBQvRsdQbS/qG8eZ3ESHnSM9/Pj/F7gixUGpjot4xxM6KKt/ousmfZWmgXTk7xVtOs7o3rQpX8oNlEz3fovJXYfW475q+QdTRTnA0Uqp2LFSL0T+Fpd7mtYx++/vz589cqvRGbRBgBGhl5aWUjFW0swpulaJk9RsawnRH2fiJzSkAjOW8Ebs2BzMmiH5HlqD5GshjZbE6FXO1s/s1kuayzHAOnbIYFycDM82tA5IO5zxYYes6Uc22MxYcH6BlGqynIeC/tWx6ZOhvd2/9kgtBI7DfBux879y9bAjgdHWvrKgF34Uny8ETb8wSed8hA95yeu+sJZ/Z2nHIGx/yyxBUqNqlr49/iCEVr6JXYPT8DjCxotYyNfShsmsy1nSAPDH6ry0xIGUp6xuKnA7czpP3L4gSZ60aFHTgB3/YnayBpeAmSIcyk0a3UbDbttqLvLZNpYyw6UmOkNjbb1Ig6QJ60psVTRK5Yae3VM6s3IdJQajV9RuTfgjQnug5Pqt06w6gDJDWnPhEZR0jbB7YjhJy/pv9eOV+V71b8IPOs4C0lI++1bz37Mo6P2KwskHtr5u8+e4TviG3Pth0gfKUzQVFD1GHAnmwkNZzkRV/Xv8IW4eutZ6Rh15q95+M1Vswev6fgXrf0r4uHim8RWlGdRwM55Fk1PHNKgf1bYa33Cfr+P8YhdfbMoMpjebXWuqsOL5KZur+3ovEsTxE+5ufZDM5JiBrq+/nuckCGH9Sh0YzgiocKnC5HN6wzmN/vXheadaksL+3SI+YdhZaVd9n0ato7ztBzz35fV+ynNeYx3gvwpoGm0SUnAE0beoyLNQ9aJkLoa/N0YszmZHmYaXhKUzM/45iRTqTcJZ3rzsvGSs9b+qHpX0QnZ/oI5nmsvdXWHHX0u88wW5bRwFxL1cXrcX619xG7p8l11pHQghrLNqL3qOdd5lu2TmglvKitqYDXSVf/gGpE0CqM0dtTjF1lJNT5O+XyqY6MWfSqLr6KM85C65+K8DFmZTNlBy92Or4n8b4724Q4ytI4z/MILRRzZSHS1/UEsBy5zJgKiH9ANdJAJkWq3jqh5HVLBnieI5IZYGHk3Yp4mM6PtqbIOq2oh2E4NJqSzHhlcfzWE42izxBo2Q7WeVm0LP1AdUZ6FnFgsjxpQHhjZTMiQOVYkjltvJdPr/3MgmV/rXO19N07RpIXy25ZyYSK/c6ep8Sblp1Hxt/PNJvMdI6QAM1sjK647BCgFzDLULKA1n8/8OGk/ezkpVqe5ij2gw92oqOSsDv79WY8cW9VJ4gZka7eaVkNduqtEplywMno3Gdkv1gOQYehZULKyrEClB2yWi1bc+bwVGT5rM4isNBZ6kToWFkkj+PUZScjbQqevWTZ1ao+NBRe+uLvCfLU9Fdj0JS3RRstsXmAljiih3ksOK2QAAAFs0lEQVSq4ZVKTFba2EpZdtbhtfS/lJZmG9XZSWdnI5FycQZo2ccKWCoaOj0lSwtIuauqDOThFw0APOUfhDeJh1UQytgb79l5SiVoyROde4bVHmCVhbxgOArecm92LpRn77czENn0tJ/QfmN0leHWskJdzkZHZFJJv7LkcarDdyPDH9OwomM79zMSKXfxUZH5QudmojpryewrRN+zxkRo7rI3p9u5arCcecZcK+cO0QOJbug3RkejMTQ6inp/bDD4RGllgRqMmb+Kni0EVuPdaq5IOjjKB1Oh7ygyIk8MPrxnzFr7uLeorrAdT8TmVJcV0SxCZO2jfCHfz99k7ZV1xp7xKB8r3rN7HMFq7y1EsjFINgOd06I/PkPvXFT2vPZb+17L5CLjRoT/bEYW2iW4w+tmztvVa5EtA53QW9Vx3plLhln26pLrTFSE0PKuA7mg0JLQig8k9Y3sScUFM37nCZo88JQXmMjOyeb5xECZPa4aXl0cdbCixFbx7Yifn59YOYzVj3OaIGTW1W2ETmsuq8ZJ5byKXpjTdOG66vXhXnMkIvbOGc3ERXnqPk9WNqsTWZ536kxli8F18TNWM7TeStYcT4ErE4SWtqToGXGA5qima3MjKc15Pbc3zFKOaL3/Hoc0QCJzemgi8Ebp6JwRuenInGkZiwhPHp4jpcTI96uxiL1AyqHjd+N6VtGnJSuVjpBUlmI3zVp8WHNoZTuEtkdfLdlnOUKZ7Hu0RLWSwQgf1n1ZlS1c6c/qTpPoZXiJgHH3zHS+vr54jdE38dMyCL8Rp0SnK0Tq05Xz7Ua0l6ISlXtWXQKZ0bm3Hr07XS5ZqLoTmDQrZOSp5xvl+6nrvS7iT4dVw5s6X42Nvu8C20Oe/3nnY0YiCLJlkYiMZGWD0evyVFSsrXK/7gv5xNJPp5zsyLTvRuX+ezJ9mh3OBq+7KxCViGZTkfdiOYyVukfHIuNZJQ70fYeByFz84zoi5cn7/55zyDpGyHpZqVaNx3G/VmuKpqWRksJJl5BU2r3fSfLEuDQso++VsdXZs3j1zs/8dgZDfsZ9sRx5CVnZjdrp6JnucoSQEiBqg6y5WXeXVtKO0EFoRTOmI6+RXqdlJqgjUuqqk2v0kcve894reGyl25HWZexDBRAHiEVvBPNi2AE0WyIZ2wr+WcGP9O3TwHK2qgKZbJ9GxfcsjPqxyrbvKm8jepjl6wS7riEqE39lgiwvCo2Oo9ETS7AjHqc1PuKVW8g20Y1gCiiyhmjqlhHdI/Ow+jC0Jk9t7jETIfFzv99pXKwI1HImb6OPOstW8IPqmWdOCdreV0fC6JwSkPVL8zIyB9kysfScufasfETGRoKHKofOq1MIGLbKm93RxqH6q9m3x/QEvRlZJTjdQ8/gxIi9I9J9CpCs0QiP8bdoWxG4l7en4c16/8H7gOojQ2c9ugH/iDySbstE+SxUZES86Wc0CzDPFc2uaDQZdNB5qs/TE/2iQMuy0cgvw8MOOqwzZJYFEflCsjreeb3wZPWkKL3SaWOXiMdxqI1Dvhl7lWZbej+v1EcEzHlY576iE727EFTZfYkPL3+obv3lBFlloAgi9euIQCAOBJOuB5JxnHmbv0PGIIiU/8bn6DzIJZDZz2wa35NatehnZHUHsiXi6Fza+7m3YubP0o/5e20eBFrpap7bStdHHY7qQGUXTVTfpG8qWiUqES0vZu/drvu6+i7V7G5UFiSaR5fDdmeKTk83P/ki/uC50CLxN4IVbLwNv229TDzFZmex+w5H8B1p5Br/XxFVVpW0NG/bSiNGmhatbzONllakuvpGG+/lT8oYVWYZxiggu7aV/EolXm+UJunGnPVYyVyHcWQFAtY652feuVGw13NdZ/XpZcvaWpOoRVcrF2uyPNNj7u04PwqtfJbNuiDno7WPWN8j9gbVOUsPK1ooPLYand9jk7W9ua7r+j9O5X4ebWoCngAAAABJRU5ErkJggg==)"
      ]
    },
    {
      "cell_type": "code",
      "execution_count": null,
      "metadata": {
        "id": "huaclHuNJJNz"
      },
      "outputs": [],
      "source": [
        "import statsmodels.api as sm\n",
        "from sklearn.model_selection import train_test_split\n",
        "from sklearn.preprocessing import StandardScaler"
      ]
    },
    {
      "cell_type": "code",
      "source": [
        "numericas"
      ],
      "metadata": {
        "colab": {
          "base_uri": "https://localhost:8080/"
        },
        "id": "7wrbj-hYPtcP",
        "outputId": "44f2fd19-962b-4d48-c3b1-1381fc0a8d14"
      },
      "execution_count": null,
      "outputs": [
        {
          "output_type": "execute_result",
          "data": {
            "text/plain": [
              "['age', 'trestbps', 'chol', 'thalach', 'oldpeak']"
            ]
          },
          "metadata": {},
          "execution_count": 81
        }
      ]
    },
    {
      "cell_type": "code",
      "source": [
        "df['ca'].unique()"
      ],
      "metadata": {
        "colab": {
          "base_uri": "https://localhost:8080/"
        },
        "id": "navnHaglQ0bD",
        "outputId": "0c7b640d-d10e-4dd6-a9a7-6293c7ff7469"
      },
      "execution_count": null,
      "outputs": [
        {
          "output_type": "execute_result",
          "data": {
            "text/plain": [
              "array([0., 3., 2., 1.])"
            ]
          },
          "metadata": {},
          "execution_count": 96
        }
      ]
    },
    {
      "cell_type": "code",
      "source": [
        "df[categoricas].head()"
      ],
      "metadata": {
        "colab": {
          "base_uri": "https://localhost:8080/",
          "height": 206
        },
        "id": "0BC7B7qaQT0m",
        "outputId": "8be5abc3-8e0c-4d68-fad9-dfd28f53e4ff"
      },
      "execution_count": null,
      "outputs": [
        {
          "output_type": "execute_result",
          "data": {
            "text/plain": [
              "   sex  cp  fbs  restecg  exang  slope   ca  thal  target\n",
              "0    1   1    1        2      0      3  0.0   6.0       0\n",
              "1    1   4    0        2      1      2  3.0   3.0       1\n",
              "2    1   4    0        2      1      2  2.0   7.0       1\n",
              "3    1   3    0        0      0      3  0.0   3.0       0\n",
              "4    0   2    0        2      0      1  0.0   3.0       0"
            ],
            "text/html": [
              "\n",
              "  <div id=\"df-0646ac02-b755-4ecf-b1b0-7bb92021d074\" class=\"colab-df-container\">\n",
              "    <div>\n",
              "<style scoped>\n",
              "    .dataframe tbody tr th:only-of-type {\n",
              "        vertical-align: middle;\n",
              "    }\n",
              "\n",
              "    .dataframe tbody tr th {\n",
              "        vertical-align: top;\n",
              "    }\n",
              "\n",
              "    .dataframe thead th {\n",
              "        text-align: right;\n",
              "    }\n",
              "</style>\n",
              "<table border=\"1\" class=\"dataframe\">\n",
              "  <thead>\n",
              "    <tr style=\"text-align: right;\">\n",
              "      <th></th>\n",
              "      <th>sex</th>\n",
              "      <th>cp</th>\n",
              "      <th>fbs</th>\n",
              "      <th>restecg</th>\n",
              "      <th>exang</th>\n",
              "      <th>slope</th>\n",
              "      <th>ca</th>\n",
              "      <th>thal</th>\n",
              "      <th>target</th>\n",
              "    </tr>\n",
              "  </thead>\n",
              "  <tbody>\n",
              "    <tr>\n",
              "      <th>0</th>\n",
              "      <td>1</td>\n",
              "      <td>1</td>\n",
              "      <td>1</td>\n",
              "      <td>2</td>\n",
              "      <td>0</td>\n",
              "      <td>3</td>\n",
              "      <td>0.0</td>\n",
              "      <td>6.0</td>\n",
              "      <td>0</td>\n",
              "    </tr>\n",
              "    <tr>\n",
              "      <th>1</th>\n",
              "      <td>1</td>\n",
              "      <td>4</td>\n",
              "      <td>0</td>\n",
              "      <td>2</td>\n",
              "      <td>1</td>\n",
              "      <td>2</td>\n",
              "      <td>3.0</td>\n",
              "      <td>3.0</td>\n",
              "      <td>1</td>\n",
              "    </tr>\n",
              "    <tr>\n",
              "      <th>2</th>\n",
              "      <td>1</td>\n",
              "      <td>4</td>\n",
              "      <td>0</td>\n",
              "      <td>2</td>\n",
              "      <td>1</td>\n",
              "      <td>2</td>\n",
              "      <td>2.0</td>\n",
              "      <td>7.0</td>\n",
              "      <td>1</td>\n",
              "    </tr>\n",
              "    <tr>\n",
              "      <th>3</th>\n",
              "      <td>1</td>\n",
              "      <td>3</td>\n",
              "      <td>0</td>\n",
              "      <td>0</td>\n",
              "      <td>0</td>\n",
              "      <td>3</td>\n",
              "      <td>0.0</td>\n",
              "      <td>3.0</td>\n",
              "      <td>0</td>\n",
              "    </tr>\n",
              "    <tr>\n",
              "      <th>4</th>\n",
              "      <td>0</td>\n",
              "      <td>2</td>\n",
              "      <td>0</td>\n",
              "      <td>2</td>\n",
              "      <td>0</td>\n",
              "      <td>1</td>\n",
              "      <td>0.0</td>\n",
              "      <td>3.0</td>\n",
              "      <td>0</td>\n",
              "    </tr>\n",
              "  </tbody>\n",
              "</table>\n",
              "</div>\n",
              "    <div class=\"colab-df-buttons\">\n",
              "\n",
              "  <div class=\"colab-df-container\">\n",
              "    <button class=\"colab-df-convert\" onclick=\"convertToInteractive('df-0646ac02-b755-4ecf-b1b0-7bb92021d074')\"\n",
              "            title=\"Convert this dataframe to an interactive table.\"\n",
              "            style=\"display:none;\">\n",
              "\n",
              "  <svg xmlns=\"http://www.w3.org/2000/svg\" height=\"24px\" viewBox=\"0 -960 960 960\">\n",
              "    <path d=\"M120-120v-720h720v720H120Zm60-500h600v-160H180v160Zm220 220h160v-160H400v160Zm0 220h160v-160H400v160ZM180-400h160v-160H180v160Zm440 0h160v-160H620v160ZM180-180h160v-160H180v160Zm440 0h160v-160H620v160Z\"/>\n",
              "  </svg>\n",
              "    </button>\n",
              "\n",
              "  <style>\n",
              "    .colab-df-container {\n",
              "      display:flex;\n",
              "      gap: 12px;\n",
              "    }\n",
              "\n",
              "    .colab-df-convert {\n",
              "      background-color: #E8F0FE;\n",
              "      border: none;\n",
              "      border-radius: 50%;\n",
              "      cursor: pointer;\n",
              "      display: none;\n",
              "      fill: #1967D2;\n",
              "      height: 32px;\n",
              "      padding: 0 0 0 0;\n",
              "      width: 32px;\n",
              "    }\n",
              "\n",
              "    .colab-df-convert:hover {\n",
              "      background-color: #E2EBFA;\n",
              "      box-shadow: 0px 1px 2px rgba(60, 64, 67, 0.3), 0px 1px 3px 1px rgba(60, 64, 67, 0.15);\n",
              "      fill: #174EA6;\n",
              "    }\n",
              "\n",
              "    .colab-df-buttons div {\n",
              "      margin-bottom: 4px;\n",
              "    }\n",
              "\n",
              "    [theme=dark] .colab-df-convert {\n",
              "      background-color: #3B4455;\n",
              "      fill: #D2E3FC;\n",
              "    }\n",
              "\n",
              "    [theme=dark] .colab-df-convert:hover {\n",
              "      background-color: #434B5C;\n",
              "      box-shadow: 0px 1px 3px 1px rgba(0, 0, 0, 0.15);\n",
              "      filter: drop-shadow(0px 1px 2px rgba(0, 0, 0, 0.3));\n",
              "      fill: #FFFFFF;\n",
              "    }\n",
              "  </style>\n",
              "\n",
              "    <script>\n",
              "      const buttonEl =\n",
              "        document.querySelector('#df-0646ac02-b755-4ecf-b1b0-7bb92021d074 button.colab-df-convert');\n",
              "      buttonEl.style.display =\n",
              "        google.colab.kernel.accessAllowed ? 'block' : 'none';\n",
              "\n",
              "      async function convertToInteractive(key) {\n",
              "        const element = document.querySelector('#df-0646ac02-b755-4ecf-b1b0-7bb92021d074');\n",
              "        const dataTable =\n",
              "          await google.colab.kernel.invokeFunction('convertToInteractive',\n",
              "                                                    [key], {});\n",
              "        if (!dataTable) return;\n",
              "\n",
              "        const docLinkHtml = 'Like what you see? Visit the ' +\n",
              "          '<a target=\"_blank\" href=https://colab.research.google.com/notebooks/data_table.ipynb>data table notebook</a>'\n",
              "          + ' to learn more about interactive tables.';\n",
              "        element.innerHTML = '';\n",
              "        dataTable['output_type'] = 'display_data';\n",
              "        await google.colab.output.renderOutput(dataTable, element);\n",
              "        const docLink = document.createElement('div');\n",
              "        docLink.innerHTML = docLinkHtml;\n",
              "        element.appendChild(docLink);\n",
              "      }\n",
              "    </script>\n",
              "  </div>\n",
              "\n",
              "\n",
              "<div id=\"df-00d0e76b-77c5-4f43-ad80-5bc2da20957f\">\n",
              "  <button class=\"colab-df-quickchart\" onclick=\"quickchart('df-00d0e76b-77c5-4f43-ad80-5bc2da20957f')\"\n",
              "            title=\"Suggest charts\"\n",
              "            style=\"display:none;\">\n",
              "\n",
              "<svg xmlns=\"http://www.w3.org/2000/svg\" height=\"24px\"viewBox=\"0 0 24 24\"\n",
              "     width=\"24px\">\n",
              "    <g>\n",
              "        <path d=\"M19 3H5c-1.1 0-2 .9-2 2v14c0 1.1.9 2 2 2h14c1.1 0 2-.9 2-2V5c0-1.1-.9-2-2-2zM9 17H7v-7h2v7zm4 0h-2V7h2v10zm4 0h-2v-4h2v4z\"/>\n",
              "    </g>\n",
              "</svg>\n",
              "  </button>\n",
              "\n",
              "<style>\n",
              "  .colab-df-quickchart {\n",
              "      --bg-color: #E8F0FE;\n",
              "      --fill-color: #1967D2;\n",
              "      --hover-bg-color: #E2EBFA;\n",
              "      --hover-fill-color: #174EA6;\n",
              "      --disabled-fill-color: #AAA;\n",
              "      --disabled-bg-color: #DDD;\n",
              "  }\n",
              "\n",
              "  [theme=dark] .colab-df-quickchart {\n",
              "      --bg-color: #3B4455;\n",
              "      --fill-color: #D2E3FC;\n",
              "      --hover-bg-color: #434B5C;\n",
              "      --hover-fill-color: #FFFFFF;\n",
              "      --disabled-bg-color: #3B4455;\n",
              "      --disabled-fill-color: #666;\n",
              "  }\n",
              "\n",
              "  .colab-df-quickchart {\n",
              "    background-color: var(--bg-color);\n",
              "    border: none;\n",
              "    border-radius: 50%;\n",
              "    cursor: pointer;\n",
              "    display: none;\n",
              "    fill: var(--fill-color);\n",
              "    height: 32px;\n",
              "    padding: 0;\n",
              "    width: 32px;\n",
              "  }\n",
              "\n",
              "  .colab-df-quickchart:hover {\n",
              "    background-color: var(--hover-bg-color);\n",
              "    box-shadow: 0 1px 2px rgba(60, 64, 67, 0.3), 0 1px 3px 1px rgba(60, 64, 67, 0.15);\n",
              "    fill: var(--button-hover-fill-color);\n",
              "  }\n",
              "\n",
              "  .colab-df-quickchart-complete:disabled,\n",
              "  .colab-df-quickchart-complete:disabled:hover {\n",
              "    background-color: var(--disabled-bg-color);\n",
              "    fill: var(--disabled-fill-color);\n",
              "    box-shadow: none;\n",
              "  }\n",
              "\n",
              "  .colab-df-spinner {\n",
              "    border: 2px solid var(--fill-color);\n",
              "    border-color: transparent;\n",
              "    border-bottom-color: var(--fill-color);\n",
              "    animation:\n",
              "      spin 1s steps(1) infinite;\n",
              "  }\n",
              "\n",
              "  @keyframes spin {\n",
              "    0% {\n",
              "      border-color: transparent;\n",
              "      border-bottom-color: var(--fill-color);\n",
              "      border-left-color: var(--fill-color);\n",
              "    }\n",
              "    20% {\n",
              "      border-color: transparent;\n",
              "      border-left-color: var(--fill-color);\n",
              "      border-top-color: var(--fill-color);\n",
              "    }\n",
              "    30% {\n",
              "      border-color: transparent;\n",
              "      border-left-color: var(--fill-color);\n",
              "      border-top-color: var(--fill-color);\n",
              "      border-right-color: var(--fill-color);\n",
              "    }\n",
              "    40% {\n",
              "      border-color: transparent;\n",
              "      border-right-color: var(--fill-color);\n",
              "      border-top-color: var(--fill-color);\n",
              "    }\n",
              "    60% {\n",
              "      border-color: transparent;\n",
              "      border-right-color: var(--fill-color);\n",
              "    }\n",
              "    80% {\n",
              "      border-color: transparent;\n",
              "      border-right-color: var(--fill-color);\n",
              "      border-bottom-color: var(--fill-color);\n",
              "    }\n",
              "    90% {\n",
              "      border-color: transparent;\n",
              "      border-bottom-color: var(--fill-color);\n",
              "    }\n",
              "  }\n",
              "</style>\n",
              "\n",
              "  <script>\n",
              "    async function quickchart(key) {\n",
              "      const quickchartButtonEl =\n",
              "        document.querySelector('#' + key + ' button');\n",
              "      quickchartButtonEl.disabled = true;  // To prevent multiple clicks.\n",
              "      quickchartButtonEl.classList.add('colab-df-spinner');\n",
              "      try {\n",
              "        const charts = await google.colab.kernel.invokeFunction(\n",
              "            'suggestCharts', [key], {});\n",
              "      } catch (error) {\n",
              "        console.error('Error during call to suggestCharts:', error);\n",
              "      }\n",
              "      quickchartButtonEl.classList.remove('colab-df-spinner');\n",
              "      quickchartButtonEl.classList.add('colab-df-quickchart-complete');\n",
              "    }\n",
              "    (() => {\n",
              "      let quickchartButtonEl =\n",
              "        document.querySelector('#df-00d0e76b-77c5-4f43-ad80-5bc2da20957f button');\n",
              "      quickchartButtonEl.style.display =\n",
              "        google.colab.kernel.accessAllowed ? 'block' : 'none';\n",
              "    })();\n",
              "  </script>\n",
              "</div>\n",
              "\n",
              "    </div>\n",
              "  </div>\n"
            ],
            "application/vnd.google.colaboratory.intrinsic+json": {
              "type": "dataframe",
              "summary": "{\n  \"name\": \"df[categoricas]\",\n  \"rows\": 5,\n  \"fields\": [\n    {\n      \"column\": \"sex\",\n      \"properties\": {\n        \"dtype\": \"number\",\n        \"std\": 0,\n        \"min\": 0,\n        \"max\": 1,\n        \"num_unique_values\": 2,\n        \"samples\": [\n          0,\n          1\n        ],\n        \"semantic_type\": \"\",\n        \"description\": \"\"\n      }\n    },\n    {\n      \"column\": \"cp\",\n      \"properties\": {\n        \"dtype\": \"number\",\n        \"std\": 1,\n        \"min\": 1,\n        \"max\": 4,\n        \"num_unique_values\": 4,\n        \"samples\": [\n          4,\n          2\n        ],\n        \"semantic_type\": \"\",\n        \"description\": \"\"\n      }\n    },\n    {\n      \"column\": \"fbs\",\n      \"properties\": {\n        \"dtype\": \"number\",\n        \"std\": 0,\n        \"min\": 0,\n        \"max\": 1,\n        \"num_unique_values\": 2,\n        \"samples\": [\n          0,\n          1\n        ],\n        \"semantic_type\": \"\",\n        \"description\": \"\"\n      }\n    },\n    {\n      \"column\": \"restecg\",\n      \"properties\": {\n        \"dtype\": \"number\",\n        \"std\": 0,\n        \"min\": 0,\n        \"max\": 2,\n        \"num_unique_values\": 2,\n        \"samples\": [\n          0,\n          2\n        ],\n        \"semantic_type\": \"\",\n        \"description\": \"\"\n      }\n    },\n    {\n      \"column\": \"exang\",\n      \"properties\": {\n        \"dtype\": \"number\",\n        \"std\": 0,\n        \"min\": 0,\n        \"max\": 1,\n        \"num_unique_values\": 2,\n        \"samples\": [\n          1,\n          0\n        ],\n        \"semantic_type\": \"\",\n        \"description\": \"\"\n      }\n    },\n    {\n      \"column\": \"slope\",\n      \"properties\": {\n        \"dtype\": \"number\",\n        \"std\": 0,\n        \"min\": 1,\n        \"max\": 3,\n        \"num_unique_values\": 3,\n        \"samples\": [\n          3,\n          2\n        ],\n        \"semantic_type\": \"\",\n        \"description\": \"\"\n      }\n    },\n    {\n      \"column\": \"ca\",\n      \"properties\": {\n        \"dtype\": \"number\",\n        \"std\": 1.4142135623730951,\n        \"min\": 0.0,\n        \"max\": 3.0,\n        \"num_unique_values\": 3,\n        \"samples\": [\n          0.0,\n          3.0\n        ],\n        \"semantic_type\": \"\",\n        \"description\": \"\"\n      }\n    },\n    {\n      \"column\": \"thal\",\n      \"properties\": {\n        \"dtype\": \"number\",\n        \"std\": 1.9493588689617927,\n        \"min\": 3.0,\n        \"max\": 7.0,\n        \"num_unique_values\": 3,\n        \"samples\": [\n          6.0,\n          3.0\n        ],\n        \"semantic_type\": \"\",\n        \"description\": \"\"\n      }\n    },\n    {\n      \"column\": \"target\",\n      \"properties\": {\n        \"dtype\": \"number\",\n        \"std\": 0,\n        \"min\": 0,\n        \"max\": 1,\n        \"num_unique_values\": 2,\n        \"samples\": [\n          1,\n          0\n        ],\n        \"semantic_type\": \"\",\n        \"description\": \"\"\n      }\n    }\n  ]\n}"
            }
          },
          "metadata": {},
          "execution_count": 92
        }
      ]
    },
    {
      "cell_type": "code",
      "source": [
        "df[['age', 'sex', 'cp', 'trestbps', 'chol', 'thalach',\n",
        "       'exang', 'oldpeak', 'slope', 'thal']].nunique()"
      ],
      "metadata": {
        "colab": {
          "base_uri": "https://localhost:8080/"
        },
        "id": "M1R5yyrBO6X_",
        "outputId": "2ad401f6-a82d-4bd4-d783-eb1df8a88417"
      },
      "execution_count": null,
      "outputs": [
        {
          "output_type": "execute_result",
          "data": {
            "text/plain": [
              "age          35\n",
              "sex           2\n",
              "cp            4\n",
              "trestbps     41\n",
              "chol        139\n",
              "thalach      81\n",
              "exang         2\n",
              "oldpeak      32\n",
              "slope         3\n",
              "thal          3\n",
              "dtype: int64"
            ]
          },
          "metadata": {},
          "execution_count": 80
        }
      ]
    },
    {
      "cell_type": "code",
      "source": [],
      "metadata": {
        "id": "PcmT3tC1P4dg"
      },
      "execution_count": null,
      "outputs": []
    },
    {
      "cell_type": "code",
      "execution_count": null,
      "metadata": {
        "id": "ftC7doBBJ-95"
      },
      "outputs": [],
      "source": [
        "model=sm.Logit(df.loc[:,'target'], df[numericas+['sex','ca']])"
      ]
    },
    {
      "cell_type": "code",
      "execution_count": null,
      "metadata": {
        "id": "dgRFp5sSK4Xv",
        "colab": {
          "base_uri": "https://localhost:8080/"
        },
        "outputId": "d7d6442f-1ad1-4f83-fbf5-22959bac3ed3"
      },
      "outputs": [
        {
          "output_type": "stream",
          "name": "stdout",
          "text": [
            "Optimization terminated successfully.\n",
            "         Current function value: 0.430593\n",
            "         Iterations 7\n"
          ]
        },
        {
          "output_type": "execute_result",
          "data": {
            "text/plain": [
              "<statsmodels.discrete.discrete_model.BinaryResultsWrapper at 0x7dae88218970>"
            ]
          },
          "metadata": {},
          "execution_count": 98
        }
      ],
      "source": [
        "model.fit()"
      ]
    },
    {
      "cell_type": "code",
      "execution_count": null,
      "metadata": {
        "id": "K_Bz_6m_K2Sw",
        "colab": {
          "base_uri": "https://localhost:8080/"
        },
        "outputId": "2a0c3517-47d0-4613-b988-7750e80fb06f"
      },
      "outputs": [
        {
          "output_type": "stream",
          "name": "stdout",
          "text": [
            "Optimization terminated successfully.\n",
            "         Current function value: 0.430593\n",
            "         Iterations 7\n"
          ]
        }
      ],
      "source": [
        "result = model.fit()"
      ]
    },
    {
      "cell_type": "code",
      "execution_count": null,
      "metadata": {
        "id": "yqV3-4fRLBtI",
        "colab": {
          "base_uri": "https://localhost:8080/"
        },
        "outputId": "7205005d-26bd-4ae5-b773-b14842bac806"
      },
      "outputs": [
        {
          "output_type": "stream",
          "name": "stdout",
          "text": [
            "                           Logit Regression Results                           \n",
            "==============================================================================\n",
            "Dep. Variable:                 target   No. Observations:                  303\n",
            "Model:                          Logit   Df Residuals:                      296\n",
            "Method:                           MLE   Df Model:                            6\n",
            "Date:                Sat, 24 Feb 2024   Pseudo R-squ.:                  0.3757\n",
            "Time:                        13:19:43   Log-Likelihood:                -130.47\n",
            "converged:                       True   LL-Null:                       -208.99\n",
            "Covariance Type:            nonrobust   LLR p-value:                 2.504e-31\n",
            "==============================================================================\n",
            "                 coef    std err          z      P>|z|      [0.025      0.975]\n",
            "------------------------------------------------------------------------------\n",
            "age           -0.0202      0.018     -1.099      0.272      -0.056       0.016\n",
            "trestbps       0.0172      0.010      1.745      0.081      -0.002       0.037\n",
            "chol           0.0089      0.004      2.404      0.016       0.002       0.016\n",
            "thalach       -0.0395      0.007     -5.469      0.000      -0.054      -0.025\n",
            "oldpeak        0.5958      0.161      3.706      0.000       0.281       0.911\n",
            "sex            1.6499      0.366      4.504      0.000       0.932       2.368\n",
            "ca             1.1218      0.216      5.191      0.000       0.698       1.545\n",
            "==============================================================================\n"
          ]
        }
      ],
      "source": [
        "print(result.summary())"
      ]
    },
    {
      "cell_type": "markdown",
      "metadata": {
        "id": "8UaZBQe4wIyE"
      },
      "source": [
        "En resumen, estos coeficientes indican las direcciones y magnitudes de las asociaciones entre las variables independientes y la probabilidad logarítmica de tener enfermedad cardíaca. La significancia estadística se evalúa por los p-valores asociados.\n",
        "\n"
      ]
    },
    {
      "cell_type": "markdown",
      "metadata": {
        "id": "iPCMN2hYwIyE"
      },
      "source": [
        "* Edad (age): Un decremento en la edad está asociado con una disminución del logaritmo de la probabilidad de tener enfermedad cardíaca. Sin embargo, el coeficiente no es significativo (p > 0.05).\n",
        "\n",
        "* Presión arterial en reposo (trestbps): Un incremento está asociado con un aumento del logaritmo de la probabilidad de enfermedad cardíaca. Aunque el coeficiente es positivo, no es significativo (p > 0.05).\n",
        "\n",
        "* Colesterol sérico (chol): Un incremento en el colesterol sérico está asociado con un aumento del logaritmo de la probabilidad de enfermedad cardíaca. Este coeficiente es significativo (p < 0.05).\n",
        "\n",
        "* Frecuencia cardíaca máxima alcanzada (thalach): Un decremento en la frecuencia cardíaca máxima está asociado con una disminución del logaritmo de la probabilidad de enfermedad cardíaca. Este coeficiente es significativo (p < 0.05).\n",
        "\n",
        "* Depresión del segmento ST inducida por el ejercicio en relación con el reposo (oldpeak): Un incremento en este índice está asociado con un aumento del logaritmo de la probabilidad de enfermedad cardíaca. Este coeficiente es significativo (p < 0.05).\n",
        "\n",
        "* Sexo (sex): Ser hombre (1) está asociado con un aumento significativo del logaritmo de la probabilidad de enfermedad cardíaca.\n",
        "\n",
        "* Número de vasos principales coloreados por fluoroscopía (ca): Un incremento está asociado con un aumento significativo del logaritmo de la probabilidad de enfermedad cardíaca."
      ]
    },
    {
      "cell_type": "code",
      "source": [],
      "metadata": {
        "id": "LSHferznRwbs"
      },
      "execution_count": null,
      "outputs": []
    }
  ],
  "metadata": {
    "colab": {
      "provenance": [],
      "include_colab_link": true
    },
    "kernelspec": {
      "display_name": "Python 3",
      "name": "python3"
    },
    "language_info": {
      "codemirror_mode": {
        "name": "ipython",
        "version": 3
      },
      "file_extension": ".py",
      "mimetype": "text/x-python",
      "name": "python",
      "nbconvert_exporter": "python",
      "pygments_lexer": "ipython3",
      "version": "3.10.9"
    }
  },
  "nbformat": 4,
  "nbformat_minor": 0
}